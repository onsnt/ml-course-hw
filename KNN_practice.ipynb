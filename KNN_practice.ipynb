{
 "cells": [
  {
   "cell_type": "code",
   "execution_count": 36,
   "id": "c4afb812",
   "metadata": {},
   "outputs": [],
   "source": [
    "from typing import List\n",
    "from collections import Counter\n",
    "\n",
    "import numpy as np\n",
    "from numpy.linalg import norm as numpy_euclidean_norm\n",
    "import sklearn\n",
    "from matplotlib import pyplot as plt\n",
    "import pandas as pd\n",
    "from sklearn.metrics import accuracy_score, f1_score, roc_auc_score, precision_score\n",
    "from sklearn import metrics\n",
    "from sklearn.preprocessing import OneHotEncoder\n",
    "from sklearn import datasets\n",
    "import plotly.express as px\n",
    "from sklearn.neighbors import KNeighborsClassifier\n",
    "from matplotlib.colors import ListedColormap\n",
    "from matplotlib import pyplot"
   ]
  },
  {
   "cell_type": "markdown",
   "id": "cb97be65-37cd-4624-9518-d103247f2796",
   "metadata": {},
   "source": [
    "### Реализуем kNN-классификатор"
   ]
  },
  {
   "cell_type": "markdown",
   "id": "48a1eebf-a900-4543-8245-fec1a70e142f",
   "metadata": {},
   "source": [
    "Для оценки близости будем использовать Евклидову метрику расстояния. Количеcтво рассматриваемых соседей задается параметром **k_neighbours**."
   ]
  },
  {
   "cell_type": "markdown",
   "id": "95b6ff4c",
   "metadata": {},
   "source": [
    "### Voting Euclidean Classifier\n",
    "\n",
    "Для начала реализуем наивную и базовую версию kNN-классификатора -- Voting Classifier c Евклидовой метрикой. \n",
    "\n",
    "Все, что он делает -- выявляет среди **k_neighbours** cocедей представителей превалирующего класса и предсказывает для оцениваемого семпла метку этого превалирующего класса. \n",
    "\n",
    "Наивность заключается в том, что часто могут быть ситуации \"50/50\", особенно в случае бинарной классификации. В таких случаях модель может ошибочно предсказывать неверный класс. \n",
    "\n",
    "Эта ситуация показана на рисунке (при K=4): "
   ]
  },
  {
   "cell_type": "markdown",
   "id": "c2c62bc5",
   "metadata": {},
   "source": [
    "![knn_example.png](knn_example.png)"
   ]
  },
  {
   "cell_type": "code",
   "execution_count": 37,
   "id": "79a69be6-8cd6-4350-89ab-5b3345bc7288",
   "metadata": {},
   "outputs": [],
   "source": [
    "class KNNVotingClassifier:\n",
    "    def __init__(self, k_neighbours: int, metric: str = 'euclidean'):\n",
    "        self._allowed_metrics = {\n",
    "            'euclidean': lambda x, y: numpy_euclidean_norm(x - y),\n",
    "        }\n",
    "        \n",
    "        assert metric in self._allowed_metrics, f\"Metric should be one of the {self._allowed_metrics.keys()}, got {metric}\"\n",
    "        \n",
    "        self._metric = self._allowed_metrics[metric]\n",
    "        self._k_neighbours = k_neighbours\n",
    "        \n",
    "        self._X, self._y = None, None\n",
    "    \n",
    "    def fit(self, X: np.array, y: np.array) -> None:\n",
    "        '''\n",
    "        When fit() method called -- model just saves the Xs and ys\n",
    "        '''\n",
    "        self._X = X\n",
    "        self._y = y\n",
    "        \n",
    "    def predict(self, X: np.array) -> np.array:\n",
    "        '''Non-optimized version (python loop-based)'''\n",
    "        \n",
    "        # Assertion check -- if model is fitted or not\n",
    "        assert (self._X is not None and self._y is not None), f\"Model is not fitted yet!\"\n",
    "        \n",
    "        ys_pred: np.array = np.zeros(shape=(X.shape[0], 1)) # Predictions matrix allocation\n",
    "            \n",
    "        '''\n",
    "        For each sample in X calculate distances to the points in self._X, using the self._metric()\n",
    "        calculate distances and get K nearest points. \n",
    "        '''\n",
    "        for sample_id, X_this in enumerate(X):\n",
    "            distances: List = []\n",
    "            \n",
    "            for train_id, X_other in enumerate(self._X):\n",
    "                distance = self._metric(X_this, X_other)\n",
    "                distances.append({\n",
    "                    'train_id': train_id,\n",
    "                    'distance': distance,\n",
    "                })\n",
    "            sorted_distances: List = self._sort_distances(distances)\n",
    "            y_pred: int = self._get_nearest_class(sorted_distances)\n",
    "            ys_pred[sample_id] = y_pred\n",
    "\n",
    "        return ys_pred\n",
    "     \n",
    "    @staticmethod\n",
    "    def _sort_distances(distances: List, ascending=False) -> List:\n",
    "        return sorted(distances, key=lambda x: x['distance'], reverse=ascending)\n",
    "    \n",
    "    def _get_nearest_class(self, sorted_distances: list) -> int:\n",
    "        sorted_distances_top_k: List = sorted_distances[:self._k_neighbours]\n",
    "        labels_top_k: List = [self._y[sample['train_id']] for sample in sorted_distances_top_k]\n",
    "        predicted_label: int = self._decision_rule(labels_top_k)\n",
    "        return predicted_label\n",
    "    \n",
    "    @staticmethod\n",
    "    def _decision_rule(labels_top_k: List) -> int:\n",
    "        labels_count_top_k = Counter(labels_top_k) # {label_1: label_1_num_occurences, ...}\n",
    "        sorted_labels_count_top_k: List = sorted(labels_count_top_k.items(), \n",
    "                                                 key=lambda x: x[1], \n",
    "                                                 reverse=True)\n",
    "        predicted_label: int = sorted_labels_count_top_k[0][0]\n",
    "        return predicted_label"
   ]
  },
  {
   "cell_type": "markdown",
   "id": "0df4a9ea",
   "metadata": {},
   "source": [
    "Итак, исследуем наш класс и методы, которые представлены. \n",
    "\n",
    "**Конструктор класса**\n",
    "\n",
    "`KNNVotingClassifier.__init__(self, k_neighbours: int, metric: str = 'euclidean')` \n",
    "\n",
    "Реализует логику и процесс создания экземпляра класса. Принимаем на вход необходимые **гиперпараметры** модели -- количество соседей и метрику для расчета расстояния между точками. \n",
    "\n",
    "**Метод fit**\n",
    "\n",
    "`KNNVotingClassifier.fit(self, X: np.array, y: np.array) -> None`\n",
    "\n",
    "Реализует процесс \"обучения\" нашей модели. Понятное дело, никакого явного процесса обучения в методе kNN не может быть -- поэтому мы просто сохраняем переданные значения матрицы дизайна `X: np.array` и значения целевых переменных -- `y: np.array`.\n",
    "\n",
    "**Метод predict**\n",
    "\n",
    "`KNNVotingClassifier.predict(self, X: np.array) -> np.array`\n",
    "\n",
    "Реализует метод предсказания модели. Происходит итерация по всем наблюдения (точкам) из матрицы дизайна, сохраненной во время вызова метода `fit()` и расчет расстояния до каждого из наблюдения в тестовом наборе, который подается на вход метода. \n",
    "\n",
    "Метод возвращает предсказания классов по каждому из классов. \n",
    "\n",
    "**Важно!** Эта реализация является \"плохой\" в терминах скорости выполнения и оптимальности по памяти. Ее можно значительно оптимизировать как по памяти, так и по времени выполнения. \n",
    "\n",
    "**Метод sort_distances**\n",
    "\n",
    "`KNNVotingClassifier._sort_distances(distances: List, ascending=False) -> List`\n",
    "\n",
    "Приватный метод, выполняет сортировку контейнера расстояний, создаваемый во время вызова и работы метода предсказания. \n",
    "\n",
    "Возвращает список.\n",
    "\n",
    "**Метод sort_distances**\n",
    "\n",
    "`KNNVotingClassifier._get_nearest_sample(self, sorted_distances: list) -> int`\n",
    "\n",
    "Приватный метод, выполняет поиск верного ответа на основе `decision_rule` -- правила для выявления ответа на верный вопрос. \n",
    "\n",
    "**Метод decision_rule**\n",
    "\n",
    "`KNNVotingClassifier._decision_rule(labels_top_k: List) -> int`\n",
    "\n",
    "Правило, по которому модель решает, какую метку класса дать семплу, на основе `labels_top_k` -- топ k ближайших меток соседей (в терминах `self._metric`)"
   ]
  },
  {
   "cell_type": "markdown",
   "id": "c2c043ad",
   "metadata": {},
   "source": [
    "Таким образом, мы сделали удобный дизайн функционала для дальнейшего совершенствования. А пока проверим его работоспособность в таком виде.  "
   ]
  },
  {
   "cell_type": "markdown",
   "id": "1df5687c-24d2-4a17-8323-8bbd202d77d5",
   "metadata": {
    "tags": []
   },
   "source": [
    "### EDA -- Ирисы Фишера и первичная обработка данных.\n"
   ]
  },
  {
   "cell_type": "markdown",
   "id": "c6701d56",
   "metadata": {},
   "source": [
    "Загрузим датасет [\"Ирисов Фишера\"](https://archive.ics.uci.edu/ml/datasets/iris). Он находится в стандартном пакете `sklearn` в рамках модуля `datasets`. Его загрузка происходит автоматически при вызове соответствующей функции. "
   ]
  },
  {
   "cell_type": "code",
   "execution_count": 38,
   "id": "244236f4",
   "metadata": {},
   "outputs": [],
   "source": [
    "iris_dataset = datasets.load_iris()"
   ]
  },
  {
   "cell_type": "markdown",
   "id": "a79809b9",
   "metadata": {},
   "source": [
    "C помощью константного поля `DESCR` мы можем посмотреть полное описание датасета. Как мы видим, датасет содержит информацию про длину и ширину лепестка и бутона (тычинки) ирисов. На основе этих харакатеристик, мы должны предсказать класс, то есть подвид ирисов, к которому относится растение с соответствующими характеристиками. "
   ]
  },
  {
   "cell_type": "code",
   "execution_count": 39,
   "id": "903d8bd4",
   "metadata": {},
   "outputs": [
    {
     "name": "stdout",
     "output_type": "stream",
     "text": [
      ".. _iris_dataset:\n",
      "\n",
      "Iris plants dataset\n",
      "--------------------\n",
      "\n",
      "**Data Set Characteristics:**\n",
      "\n",
      "    :Number of Instances: 150 (50 in each of three classes)\n",
      "    :Number of Attributes: 4 numeric, predictive attributes and the class\n",
      "    :Attribute Information:\n",
      "        - sepal length in cm\n",
      "        - sepal width in cm\n",
      "        - petal length in cm\n",
      "        - petal width in cm\n",
      "        - class:\n",
      "                - Iris-Setosa\n",
      "                - Iris-Versicolour\n",
      "                - Iris-Virginica\n",
      "                \n",
      "    :Summary Statistics:\n",
      "\n",
      "    ============== ==== ==== ======= ===== ====================\n",
      "                    Min  Max   Mean    SD   Class Correlation\n",
      "    ============== ==== ==== ======= ===== ====================\n",
      "    sepal length:   4.3  7.9   5.84   0.83    0.7826\n",
      "    sepal width:    2.0  4.4   3.05   0.43   -0.4194\n",
      "    petal length:   1.0  6.9   3.76   1.76    0.9490  (high!)\n",
      "    petal width:    0.1  2.5   1.20   0.76    0.9565  (high!)\n",
      "    ============== ==== ==== ======= ===== ====================\n",
      "\n",
      "    :Missing Attribute Values: None\n",
      "    :Class Distribution: 33.3% for each of 3 classes.\n",
      "    :Creator: R.A. Fisher\n",
      "    :Donor: Michael Marshall (MARSHALL%PLU@io.arc.nasa.gov)\n",
      "    :Date: July, 1988\n",
      "\n",
      "The famous Iris database, first used by Sir R.A. Fisher. The dataset is taken\n",
      "from Fisher's paper. Note that it's the same as in R, but not as in the UCI\n",
      "Machine Learning Repository, which has two wrong data points.\n",
      "\n",
      "This is perhaps the best known database to be found in the\n",
      "pattern recognition literature.  Fisher's paper is a classic in the field and\n",
      "is referenced frequently to this day.  (See Duda & Hart, for example.)  The\n",
      "data set contains 3 classes of 50 instances each, where each class refers to a\n",
      "type of iris plant.  One class is linearly separable from the other 2; the\n",
      "latter are NOT linearly separable from each other.\n",
      "\n",
      ".. topic:: References\n",
      "\n",
      "   - Fisher, R.A. \"The use of multiple measurements in taxonomic problems\"\n",
      "     Annual Eugenics, 7, Part II, 179-188 (1936); also in \"Contributions to\n",
      "     Mathematical Statistics\" (John Wiley, NY, 1950).\n",
      "   - Duda, R.O., & Hart, P.E. (1973) Pattern Classification and Scene Analysis.\n",
      "     (Q327.D83) John Wiley & Sons.  ISBN 0-471-22361-1.  See page 218.\n",
      "   - Dasarathy, B.V. (1980) \"Nosing Around the Neighborhood: A New System\n",
      "     Structure and Classification Rule for Recognition in Partially Exposed\n",
      "     Environments\".  IEEE Transactions on Pattern Analysis and Machine\n",
      "     Intelligence, Vol. PAMI-2, No. 1, 67-71.\n",
      "   - Gates, G.W. (1972) \"The Reduced Nearest Neighbor Rule\".  IEEE Transactions\n",
      "     on Information Theory, May 1972, 431-433.\n",
      "   - See also: 1988 MLC Proceedings, 54-64.  Cheeseman et al\"s AUTOCLASS II\n",
      "     conceptual clustering system finds 3 classes in the data.\n",
      "   - Many, many more ...\n"
     ]
    }
   ],
   "source": [
    "print(iris_dataset.DESCR)"
   ]
  },
  {
   "cell_type": "markdown",
   "id": "c6ab8e81",
   "metadata": {},
   "source": [
    "Посмотрим на датасет, в котором видны все необходимые данные и соответствующие целевые значения. Их мы получаем из результата загрузки с помощью функции `load_iris()`"
   ]
  },
  {
   "cell_type": "code",
   "execution_count": 40,
   "id": "55612bc9",
   "metadata": {},
   "outputs": [
    {
     "data": {
      "text/html": [
       "<div>\n",
       "<style scoped>\n",
       "    .dataframe tbody tr th:only-of-type {\n",
       "        vertical-align: middle;\n",
       "    }\n",
       "\n",
       "    .dataframe tbody tr th {\n",
       "        vertical-align: top;\n",
       "    }\n",
       "\n",
       "    .dataframe thead th {\n",
       "        text-align: right;\n",
       "    }\n",
       "</style>\n",
       "<table border=\"1\" class=\"dataframe\">\n",
       "  <thead>\n",
       "    <tr style=\"text-align: right;\">\n",
       "      <th></th>\n",
       "      <th>sepal length (cm)</th>\n",
       "      <th>sepal width (cm)</th>\n",
       "      <th>petal length (cm)</th>\n",
       "      <th>petal width (cm)</th>\n",
       "      <th>target label</th>\n",
       "      <th>target name</th>\n",
       "    </tr>\n",
       "  </thead>\n",
       "  <tbody>\n",
       "    <tr>\n",
       "      <th>0</th>\n",
       "      <td>5.1</td>\n",
       "      <td>3.5</td>\n",
       "      <td>1.4</td>\n",
       "      <td>0.2</td>\n",
       "      <td>0</td>\n",
       "      <td>setosa</td>\n",
       "    </tr>\n",
       "    <tr>\n",
       "      <th>1</th>\n",
       "      <td>4.9</td>\n",
       "      <td>3.0</td>\n",
       "      <td>1.4</td>\n",
       "      <td>0.2</td>\n",
       "      <td>0</td>\n",
       "      <td>setosa</td>\n",
       "    </tr>\n",
       "    <tr>\n",
       "      <th>2</th>\n",
       "      <td>4.7</td>\n",
       "      <td>3.2</td>\n",
       "      <td>1.3</td>\n",
       "      <td>0.2</td>\n",
       "      <td>0</td>\n",
       "      <td>setosa</td>\n",
       "    </tr>\n",
       "    <tr>\n",
       "      <th>3</th>\n",
       "      <td>4.6</td>\n",
       "      <td>3.1</td>\n",
       "      <td>1.5</td>\n",
       "      <td>0.2</td>\n",
       "      <td>0</td>\n",
       "      <td>setosa</td>\n",
       "    </tr>\n",
       "    <tr>\n",
       "      <th>4</th>\n",
       "      <td>5.0</td>\n",
       "      <td>3.6</td>\n",
       "      <td>1.4</td>\n",
       "      <td>0.2</td>\n",
       "      <td>0</td>\n",
       "      <td>setosa</td>\n",
       "    </tr>\n",
       "  </tbody>\n",
       "</table>\n",
       "</div>"
      ],
      "text/plain": [
       "  sepal length (cm) sepal width (cm) petal length (cm) petal width (cm)  \\\n",
       "0               5.1              3.5               1.4              0.2   \n",
       "1               4.9              3.0               1.4              0.2   \n",
       "2               4.7              3.2               1.3              0.2   \n",
       "3               4.6              3.1               1.5              0.2   \n",
       "4               5.0              3.6               1.4              0.2   \n",
       "\n",
       "  target label target name  \n",
       "0            0      setosa  \n",
       "1            0      setosa  \n",
       "2            0      setosa  \n",
       "3            0      setosa  \n",
       "4            0      setosa  "
      ]
     },
     "execution_count": 40,
     "metadata": {},
     "output_type": "execute_result"
    }
   ],
   "source": [
    "# for now you don't need to understand what happens in this code - just look at the table\n",
    "ext_target = iris_dataset.target[:, None]\n",
    "\n",
    "# ext_target = np.expand_dims(dataset.target, axis=-1)\n",
    "df = pd.DataFrame(\n",
    "    np.concatenate((iris_dataset.data, ext_target, iris_dataset.target_names[ext_target]), axis=1),\n",
    "    columns=iris_dataset.feature_names + ['target label', 'target name'],\n",
    ")\n",
    "df.head()"
   ]
  },
  {
   "cell_type": "markdown",
   "id": "83186803",
   "metadata": {},
   "source": [
    "На данном этапе нет необходимости, чтобы вы понимали код, который связан с пакетом `pandas`, но, однако, полезно посмотреть на экстремальные, уникальные значения, а также частотные характеристики датасета выше. "
   ]
  },
  {
   "cell_type": "code",
   "execution_count": 41,
   "id": "d859d173",
   "metadata": {},
   "outputs": [
    {
     "data": {
      "text/html": [
       "<div>\n",
       "<style scoped>\n",
       "    .dataframe tbody tr th:only-of-type {\n",
       "        vertical-align: middle;\n",
       "    }\n",
       "\n",
       "    .dataframe tbody tr th {\n",
       "        vertical-align: top;\n",
       "    }\n",
       "\n",
       "    .dataframe thead th {\n",
       "        text-align: right;\n",
       "    }\n",
       "</style>\n",
       "<table border=\"1\" class=\"dataframe\">\n",
       "  <thead>\n",
       "    <tr style=\"text-align: right;\">\n",
       "      <th></th>\n",
       "      <th>sepal length (cm)</th>\n",
       "      <th>sepal width (cm)</th>\n",
       "      <th>petal length (cm)</th>\n",
       "      <th>petal width (cm)</th>\n",
       "      <th>target label</th>\n",
       "      <th>target name</th>\n",
       "    </tr>\n",
       "  </thead>\n",
       "  <tbody>\n",
       "    <tr>\n",
       "      <th>count</th>\n",
       "      <td>150</td>\n",
       "      <td>150</td>\n",
       "      <td>150</td>\n",
       "      <td>150</td>\n",
       "      <td>150</td>\n",
       "      <td>150</td>\n",
       "    </tr>\n",
       "    <tr>\n",
       "      <th>unique</th>\n",
       "      <td>35</td>\n",
       "      <td>23</td>\n",
       "      <td>43</td>\n",
       "      <td>22</td>\n",
       "      <td>3</td>\n",
       "      <td>3</td>\n",
       "    </tr>\n",
       "    <tr>\n",
       "      <th>top</th>\n",
       "      <td>5.0</td>\n",
       "      <td>3.0</td>\n",
       "      <td>1.4</td>\n",
       "      <td>0.2</td>\n",
       "      <td>0</td>\n",
       "      <td>setosa</td>\n",
       "    </tr>\n",
       "    <tr>\n",
       "      <th>freq</th>\n",
       "      <td>10</td>\n",
       "      <td>26</td>\n",
       "      <td>13</td>\n",
       "      <td>29</td>\n",
       "      <td>50</td>\n",
       "      <td>50</td>\n",
       "    </tr>\n",
       "  </tbody>\n",
       "</table>\n",
       "</div>"
      ],
      "text/plain": [
       "       sepal length (cm) sepal width (cm) petal length (cm) petal width (cm)  \\\n",
       "count                150              150               150              150   \n",
       "unique                35               23                43               22   \n",
       "top                  5.0              3.0               1.4              0.2   \n",
       "freq                  10               26                13               29   \n",
       "\n",
       "       target label target name  \n",
       "count           150         150  \n",
       "unique            3           3  \n",
       "top               0      setosa  \n",
       "freq             50          50  "
      ]
     },
     "execution_count": 41,
     "metadata": {},
     "output_type": "execute_result"
    }
   ],
   "source": [
    "df.describe()"
   ]
  },
  {
   "cell_type": "markdown",
   "id": "4d67248b",
   "metadata": {},
   "source": [
    "Еще один вспомогательный элемент для кода, который не требует глубокого понимания -- визуализация датасета. \n",
    "\n",
    "В данном случае, мы, с помощью библиотеки `plotly` отрисовали все точки, содержащиеся в датасете. \n",
    "\n",
    "**Важное замечание**: мы отрисовали только три измерения (из четырех) -- `sepal length (cm)`, `sepal width (cm)`, `petal width (cm)`. Но даже в этих ограничениях можно увидеть, что есть некоторая \"кластеризация\" каждого из точек ровно в три класса, которые присутствуют в датасете. Для того, чтобы увидеть полную картину, нам необходимо воспользоваться методами для понижения размерности -- только тогда мы сможем включить в нашу визуализацию еще один параметр -- `petal length (cm)`"
   ]
  },
  {
   "cell_type": "code",
   "execution_count": 69,
   "id": "3cf90320",
   "metadata": {},
   "outputs": [
    {
     "data": {
      "application/vnd.plotly.v1+json": {
       "config": {
        "plotlyServerURL": "https://plot.ly"
       },
       "data": [
        {
         "hovertemplate": "target name=setosa<br>sepal length (cm)=%{x}<br>sepal width (cm)=%{y}<br>petal width (cm)=%{z}<extra></extra>",
         "legendgroup": "setosa",
         "marker": {
          "color": "#636efa",
          "symbol": "circle"
         },
         "mode": "markers",
         "name": "setosa",
         "scene": "scene",
         "showlegend": true,
         "type": "scatter3d",
         "x": [
          "5.1",
          "4.9",
          "4.7",
          "4.6",
          "5.0",
          "5.4",
          "4.6",
          "5.0",
          "4.4",
          "4.9",
          "5.4",
          "4.8",
          "4.8",
          "4.3",
          "5.8",
          "5.7",
          "5.4",
          "5.1",
          "5.7",
          "5.1",
          "5.4",
          "5.1",
          "4.6",
          "5.1",
          "4.8",
          "5.0",
          "5.0",
          "5.2",
          "5.2",
          "4.7",
          "4.8",
          "5.4",
          "5.2",
          "5.5",
          "4.9",
          "5.0",
          "5.5",
          "4.9",
          "4.4",
          "5.1",
          "5.0",
          "4.5",
          "4.4",
          "5.0",
          "5.1",
          "4.8",
          "5.1",
          "4.6",
          "5.3",
          "5.0"
         ],
         "y": [
          "3.5",
          "3.0",
          "3.2",
          "3.1",
          "3.6",
          "3.9",
          "3.4",
          "3.4",
          "2.9",
          "3.1",
          "3.7",
          "3.4",
          "3.0",
          "3.0",
          "4.0",
          "4.4",
          "3.9",
          "3.5",
          "3.8",
          "3.8",
          "3.4",
          "3.7",
          "3.6",
          "3.3",
          "3.4",
          "3.0",
          "3.4",
          "3.5",
          "3.4",
          "3.2",
          "3.1",
          "3.4",
          "4.1",
          "4.2",
          "3.1",
          "3.2",
          "3.5",
          "3.6",
          "3.0",
          "3.4",
          "3.5",
          "2.3",
          "3.2",
          "3.5",
          "3.8",
          "3.0",
          "3.8",
          "3.2",
          "3.7",
          "3.3"
         ],
         "z": [
          "0.2",
          "0.2",
          "0.2",
          "0.2",
          "0.2",
          "0.4",
          "0.3",
          "0.2",
          "0.2",
          "0.1",
          "0.2",
          "0.2",
          "0.1",
          "0.1",
          "0.2",
          "0.4",
          "0.4",
          "0.3",
          "0.3",
          "0.3",
          "0.2",
          "0.4",
          "0.2",
          "0.5",
          "0.2",
          "0.2",
          "0.4",
          "0.2",
          "0.2",
          "0.2",
          "0.2",
          "0.4",
          "0.1",
          "0.2",
          "0.2",
          "0.2",
          "0.2",
          "0.1",
          "0.2",
          "0.2",
          "0.3",
          "0.3",
          "0.2",
          "0.6",
          "0.4",
          "0.3",
          "0.2",
          "0.2",
          "0.2",
          "0.2"
         ]
        },
        {
         "hovertemplate": "target name=versicolor<br>sepal length (cm)=%{x}<br>sepal width (cm)=%{y}<br>petal width (cm)=%{z}<extra></extra>",
         "legendgroup": "versicolor",
         "marker": {
          "color": "#EF553B",
          "symbol": "circle"
         },
         "mode": "markers",
         "name": "versicolor",
         "scene": "scene",
         "showlegend": true,
         "type": "scatter3d",
         "x": [
          "7.0",
          "6.4",
          "6.9",
          "5.5",
          "6.5",
          "5.7",
          "6.3",
          "4.9",
          "6.6",
          "5.2",
          "5.0",
          "5.9",
          "6.0",
          "6.1",
          "5.6",
          "6.7",
          "5.6",
          "5.8",
          "6.2",
          "5.6",
          "5.9",
          "6.1",
          "6.3",
          "6.1",
          "6.4",
          "6.6",
          "6.8",
          "6.7",
          "6.0",
          "5.7",
          "5.5",
          "5.5",
          "5.8",
          "6.0",
          "5.4",
          "6.0",
          "6.7",
          "6.3",
          "5.6",
          "5.5",
          "5.5",
          "6.1",
          "5.8",
          "5.0",
          "5.6",
          "5.7",
          "5.7",
          "6.2",
          "5.1",
          "5.7"
         ],
         "y": [
          "3.2",
          "3.2",
          "3.1",
          "2.3",
          "2.8",
          "2.8",
          "3.3",
          "2.4",
          "2.9",
          "2.7",
          "2.0",
          "3.0",
          "2.2",
          "2.9",
          "2.9",
          "3.1",
          "3.0",
          "2.7",
          "2.2",
          "2.5",
          "3.2",
          "2.8",
          "2.5",
          "2.8",
          "2.9",
          "3.0",
          "2.8",
          "3.0",
          "2.9",
          "2.6",
          "2.4",
          "2.4",
          "2.7",
          "2.7",
          "3.0",
          "3.4",
          "3.1",
          "2.3",
          "3.0",
          "2.5",
          "2.6",
          "3.0",
          "2.6",
          "2.3",
          "2.7",
          "3.0",
          "2.9",
          "2.9",
          "2.5",
          "2.8"
         ],
         "z": [
          "1.4",
          "1.5",
          "1.5",
          "1.3",
          "1.5",
          "1.3",
          "1.6",
          "1.0",
          "1.3",
          "1.4",
          "1.0",
          "1.5",
          "1.0",
          "1.4",
          "1.3",
          "1.4",
          "1.5",
          "1.0",
          "1.5",
          "1.1",
          "1.8",
          "1.3",
          "1.5",
          "1.2",
          "1.3",
          "1.4",
          "1.4",
          "1.7",
          "1.5",
          "1.0",
          "1.1",
          "1.0",
          "1.2",
          "1.6",
          "1.5",
          "1.6",
          "1.5",
          "1.3",
          "1.3",
          "1.3",
          "1.2",
          "1.4",
          "1.2",
          "1.0",
          "1.3",
          "1.2",
          "1.3",
          "1.3",
          "1.1",
          "1.3"
         ]
        },
        {
         "hovertemplate": "target name=virginica<br>sepal length (cm)=%{x}<br>sepal width (cm)=%{y}<br>petal width (cm)=%{z}<extra></extra>",
         "legendgroup": "virginica",
         "marker": {
          "color": "#00cc96",
          "symbol": "circle"
         },
         "mode": "markers",
         "name": "virginica",
         "scene": "scene",
         "showlegend": true,
         "type": "scatter3d",
         "x": [
          "6.3",
          "5.8",
          "7.1",
          "6.3",
          "6.5",
          "7.6",
          "4.9",
          "7.3",
          "6.7",
          "7.2",
          "6.5",
          "6.4",
          "6.8",
          "5.7",
          "5.8",
          "6.4",
          "6.5",
          "7.7",
          "7.7",
          "6.0",
          "6.9",
          "5.6",
          "7.7",
          "6.3",
          "6.7",
          "7.2",
          "6.2",
          "6.1",
          "6.4",
          "7.2",
          "7.4",
          "7.9",
          "6.4",
          "6.3",
          "6.1",
          "7.7",
          "6.3",
          "6.4",
          "6.0",
          "6.9",
          "6.7",
          "6.9",
          "5.8",
          "6.8",
          "6.7",
          "6.7",
          "6.3",
          "6.5",
          "6.2",
          "5.9"
         ],
         "y": [
          "3.3",
          "2.7",
          "3.0",
          "2.9",
          "3.0",
          "3.0",
          "2.5",
          "2.9",
          "2.5",
          "3.6",
          "3.2",
          "2.7",
          "3.0",
          "2.5",
          "2.8",
          "3.2",
          "3.0",
          "3.8",
          "2.6",
          "2.2",
          "3.2",
          "2.8",
          "2.8",
          "2.7",
          "3.3",
          "3.2",
          "2.8",
          "3.0",
          "2.8",
          "3.0",
          "2.8",
          "3.8",
          "2.8",
          "2.8",
          "2.6",
          "3.0",
          "3.4",
          "3.1",
          "3.0",
          "3.1",
          "3.1",
          "3.1",
          "2.7",
          "3.2",
          "3.3",
          "3.0",
          "2.5",
          "3.0",
          "3.4",
          "3.0"
         ],
         "z": [
          "2.5",
          "1.9",
          "2.1",
          "1.8",
          "2.2",
          "2.1",
          "1.7",
          "1.8",
          "1.8",
          "2.5",
          "2.0",
          "1.9",
          "2.1",
          "2.0",
          "2.4",
          "2.3",
          "1.8",
          "2.2",
          "2.3",
          "1.5",
          "2.3",
          "2.0",
          "2.0",
          "1.8",
          "2.1",
          "1.8",
          "1.8",
          "1.8",
          "2.1",
          "1.6",
          "1.9",
          "2.0",
          "2.2",
          "1.5",
          "1.4",
          "2.3",
          "2.4",
          "1.8",
          "1.8",
          "2.1",
          "2.4",
          "2.3",
          "1.9",
          "2.3",
          "2.5",
          "2.3",
          "1.9",
          "2.0",
          "2.3",
          "1.8"
         ]
        }
       ],
       "layout": {
        "legend": {
         "title": {
          "text": "target name"
         },
         "tracegroupgap": 0
        },
        "margin": {
         "t": 60
        },
        "scene": {
         "domain": {
          "x": [
           0,
           1
          ],
          "y": [
           0,
           1
          ]
         },
         "xaxis": {
          "title": {
           "text": "sepal length (cm)"
          }
         },
         "yaxis": {
          "title": {
           "text": "sepal width (cm)"
          }
         },
         "zaxis": {
          "title": {
           "text": "petal width (cm)"
          }
         }
        },
        "template": {
         "data": {
          "bar": [
           {
            "error_x": {
             "color": "#2a3f5f"
            },
            "error_y": {
             "color": "#2a3f5f"
            },
            "marker": {
             "line": {
              "color": "#E5ECF6",
              "width": 0.5
             },
             "pattern": {
              "fillmode": "overlay",
              "size": 10,
              "solidity": 0.2
             }
            },
            "type": "bar"
           }
          ],
          "barpolar": [
           {
            "marker": {
             "line": {
              "color": "#E5ECF6",
              "width": 0.5
             },
             "pattern": {
              "fillmode": "overlay",
              "size": 10,
              "solidity": 0.2
             }
            },
            "type": "barpolar"
           }
          ],
          "carpet": [
           {
            "aaxis": {
             "endlinecolor": "#2a3f5f",
             "gridcolor": "white",
             "linecolor": "white",
             "minorgridcolor": "white",
             "startlinecolor": "#2a3f5f"
            },
            "baxis": {
             "endlinecolor": "#2a3f5f",
             "gridcolor": "white",
             "linecolor": "white",
             "minorgridcolor": "white",
             "startlinecolor": "#2a3f5f"
            },
            "type": "carpet"
           }
          ],
          "choropleth": [
           {
            "colorbar": {
             "outlinewidth": 0,
             "ticks": ""
            },
            "type": "choropleth"
           }
          ],
          "contour": [
           {
            "colorbar": {
             "outlinewidth": 0,
             "ticks": ""
            },
            "colorscale": [
             [
              0,
              "#0d0887"
             ],
             [
              0.1111111111111111,
              "#46039f"
             ],
             [
              0.2222222222222222,
              "#7201a8"
             ],
             [
              0.3333333333333333,
              "#9c179e"
             ],
             [
              0.4444444444444444,
              "#bd3786"
             ],
             [
              0.5555555555555556,
              "#d8576b"
             ],
             [
              0.6666666666666666,
              "#ed7953"
             ],
             [
              0.7777777777777778,
              "#fb9f3a"
             ],
             [
              0.8888888888888888,
              "#fdca26"
             ],
             [
              1,
              "#f0f921"
             ]
            ],
            "type": "contour"
           }
          ],
          "contourcarpet": [
           {
            "colorbar": {
             "outlinewidth": 0,
             "ticks": ""
            },
            "type": "contourcarpet"
           }
          ],
          "heatmap": [
           {
            "colorbar": {
             "outlinewidth": 0,
             "ticks": ""
            },
            "colorscale": [
             [
              0,
              "#0d0887"
             ],
             [
              0.1111111111111111,
              "#46039f"
             ],
             [
              0.2222222222222222,
              "#7201a8"
             ],
             [
              0.3333333333333333,
              "#9c179e"
             ],
             [
              0.4444444444444444,
              "#bd3786"
             ],
             [
              0.5555555555555556,
              "#d8576b"
             ],
             [
              0.6666666666666666,
              "#ed7953"
             ],
             [
              0.7777777777777778,
              "#fb9f3a"
             ],
             [
              0.8888888888888888,
              "#fdca26"
             ],
             [
              1,
              "#f0f921"
             ]
            ],
            "type": "heatmap"
           }
          ],
          "heatmapgl": [
           {
            "colorbar": {
             "outlinewidth": 0,
             "ticks": ""
            },
            "colorscale": [
             [
              0,
              "#0d0887"
             ],
             [
              0.1111111111111111,
              "#46039f"
             ],
             [
              0.2222222222222222,
              "#7201a8"
             ],
             [
              0.3333333333333333,
              "#9c179e"
             ],
             [
              0.4444444444444444,
              "#bd3786"
             ],
             [
              0.5555555555555556,
              "#d8576b"
             ],
             [
              0.6666666666666666,
              "#ed7953"
             ],
             [
              0.7777777777777778,
              "#fb9f3a"
             ],
             [
              0.8888888888888888,
              "#fdca26"
             ],
             [
              1,
              "#f0f921"
             ]
            ],
            "type": "heatmapgl"
           }
          ],
          "histogram": [
           {
            "marker": {
             "pattern": {
              "fillmode": "overlay",
              "size": 10,
              "solidity": 0.2
             }
            },
            "type": "histogram"
           }
          ],
          "histogram2d": [
           {
            "colorbar": {
             "outlinewidth": 0,
             "ticks": ""
            },
            "colorscale": [
             [
              0,
              "#0d0887"
             ],
             [
              0.1111111111111111,
              "#46039f"
             ],
             [
              0.2222222222222222,
              "#7201a8"
             ],
             [
              0.3333333333333333,
              "#9c179e"
             ],
             [
              0.4444444444444444,
              "#bd3786"
             ],
             [
              0.5555555555555556,
              "#d8576b"
             ],
             [
              0.6666666666666666,
              "#ed7953"
             ],
             [
              0.7777777777777778,
              "#fb9f3a"
             ],
             [
              0.8888888888888888,
              "#fdca26"
             ],
             [
              1,
              "#f0f921"
             ]
            ],
            "type": "histogram2d"
           }
          ],
          "histogram2dcontour": [
           {
            "colorbar": {
             "outlinewidth": 0,
             "ticks": ""
            },
            "colorscale": [
             [
              0,
              "#0d0887"
             ],
             [
              0.1111111111111111,
              "#46039f"
             ],
             [
              0.2222222222222222,
              "#7201a8"
             ],
             [
              0.3333333333333333,
              "#9c179e"
             ],
             [
              0.4444444444444444,
              "#bd3786"
             ],
             [
              0.5555555555555556,
              "#d8576b"
             ],
             [
              0.6666666666666666,
              "#ed7953"
             ],
             [
              0.7777777777777778,
              "#fb9f3a"
             ],
             [
              0.8888888888888888,
              "#fdca26"
             ],
             [
              1,
              "#f0f921"
             ]
            ],
            "type": "histogram2dcontour"
           }
          ],
          "mesh3d": [
           {
            "colorbar": {
             "outlinewidth": 0,
             "ticks": ""
            },
            "type": "mesh3d"
           }
          ],
          "parcoords": [
           {
            "line": {
             "colorbar": {
              "outlinewidth": 0,
              "ticks": ""
             }
            },
            "type": "parcoords"
           }
          ],
          "pie": [
           {
            "automargin": true,
            "type": "pie"
           }
          ],
          "scatter": [
           {
            "fillpattern": {
             "fillmode": "overlay",
             "size": 10,
             "solidity": 0.2
            },
            "type": "scatter"
           }
          ],
          "scatter3d": [
           {
            "line": {
             "colorbar": {
              "outlinewidth": 0,
              "ticks": ""
             }
            },
            "marker": {
             "colorbar": {
              "outlinewidth": 0,
              "ticks": ""
             }
            },
            "type": "scatter3d"
           }
          ],
          "scattercarpet": [
           {
            "marker": {
             "colorbar": {
              "outlinewidth": 0,
              "ticks": ""
             }
            },
            "type": "scattercarpet"
           }
          ],
          "scattergeo": [
           {
            "marker": {
             "colorbar": {
              "outlinewidth": 0,
              "ticks": ""
             }
            },
            "type": "scattergeo"
           }
          ],
          "scattergl": [
           {
            "marker": {
             "colorbar": {
              "outlinewidth": 0,
              "ticks": ""
             }
            },
            "type": "scattergl"
           }
          ],
          "scattermapbox": [
           {
            "marker": {
             "colorbar": {
              "outlinewidth": 0,
              "ticks": ""
             }
            },
            "type": "scattermapbox"
           }
          ],
          "scatterpolar": [
           {
            "marker": {
             "colorbar": {
              "outlinewidth": 0,
              "ticks": ""
             }
            },
            "type": "scatterpolar"
           }
          ],
          "scatterpolargl": [
           {
            "marker": {
             "colorbar": {
              "outlinewidth": 0,
              "ticks": ""
             }
            },
            "type": "scatterpolargl"
           }
          ],
          "scatterternary": [
           {
            "marker": {
             "colorbar": {
              "outlinewidth": 0,
              "ticks": ""
             }
            },
            "type": "scatterternary"
           }
          ],
          "surface": [
           {
            "colorbar": {
             "outlinewidth": 0,
             "ticks": ""
            },
            "colorscale": [
             [
              0,
              "#0d0887"
             ],
             [
              0.1111111111111111,
              "#46039f"
             ],
             [
              0.2222222222222222,
              "#7201a8"
             ],
             [
              0.3333333333333333,
              "#9c179e"
             ],
             [
              0.4444444444444444,
              "#bd3786"
             ],
             [
              0.5555555555555556,
              "#d8576b"
             ],
             [
              0.6666666666666666,
              "#ed7953"
             ],
             [
              0.7777777777777778,
              "#fb9f3a"
             ],
             [
              0.8888888888888888,
              "#fdca26"
             ],
             [
              1,
              "#f0f921"
             ]
            ],
            "type": "surface"
           }
          ],
          "table": [
           {
            "cells": {
             "fill": {
              "color": "#EBF0F8"
             },
             "line": {
              "color": "white"
             }
            },
            "header": {
             "fill": {
              "color": "#C8D4E3"
             },
             "line": {
              "color": "white"
             }
            },
            "type": "table"
           }
          ]
         },
         "layout": {
          "annotationdefaults": {
           "arrowcolor": "#2a3f5f",
           "arrowhead": 0,
           "arrowwidth": 1
          },
          "autotypenumbers": "strict",
          "coloraxis": {
           "colorbar": {
            "outlinewidth": 0,
            "ticks": ""
           }
          },
          "colorscale": {
           "diverging": [
            [
             0,
             "#8e0152"
            ],
            [
             0.1,
             "#c51b7d"
            ],
            [
             0.2,
             "#de77ae"
            ],
            [
             0.3,
             "#f1b6da"
            ],
            [
             0.4,
             "#fde0ef"
            ],
            [
             0.5,
             "#f7f7f7"
            ],
            [
             0.6,
             "#e6f5d0"
            ],
            [
             0.7,
             "#b8e186"
            ],
            [
             0.8,
             "#7fbc41"
            ],
            [
             0.9,
             "#4d9221"
            ],
            [
             1,
             "#276419"
            ]
           ],
           "sequential": [
            [
             0,
             "#0d0887"
            ],
            [
             0.1111111111111111,
             "#46039f"
            ],
            [
             0.2222222222222222,
             "#7201a8"
            ],
            [
             0.3333333333333333,
             "#9c179e"
            ],
            [
             0.4444444444444444,
             "#bd3786"
            ],
            [
             0.5555555555555556,
             "#d8576b"
            ],
            [
             0.6666666666666666,
             "#ed7953"
            ],
            [
             0.7777777777777778,
             "#fb9f3a"
            ],
            [
             0.8888888888888888,
             "#fdca26"
            ],
            [
             1,
             "#f0f921"
            ]
           ],
           "sequentialminus": [
            [
             0,
             "#0d0887"
            ],
            [
             0.1111111111111111,
             "#46039f"
            ],
            [
             0.2222222222222222,
             "#7201a8"
            ],
            [
             0.3333333333333333,
             "#9c179e"
            ],
            [
             0.4444444444444444,
             "#bd3786"
            ],
            [
             0.5555555555555556,
             "#d8576b"
            ],
            [
             0.6666666666666666,
             "#ed7953"
            ],
            [
             0.7777777777777778,
             "#fb9f3a"
            ],
            [
             0.8888888888888888,
             "#fdca26"
            ],
            [
             1,
             "#f0f921"
            ]
           ]
          },
          "colorway": [
           "#636efa",
           "#EF553B",
           "#00cc96",
           "#ab63fa",
           "#FFA15A",
           "#19d3f3",
           "#FF6692",
           "#B6E880",
           "#FF97FF",
           "#FECB52"
          ],
          "font": {
           "color": "#2a3f5f"
          },
          "geo": {
           "bgcolor": "white",
           "lakecolor": "white",
           "landcolor": "#E5ECF6",
           "showlakes": true,
           "showland": true,
           "subunitcolor": "white"
          },
          "hoverlabel": {
           "align": "left"
          },
          "hovermode": "closest",
          "mapbox": {
           "style": "light"
          },
          "paper_bgcolor": "white",
          "plot_bgcolor": "#E5ECF6",
          "polar": {
           "angularaxis": {
            "gridcolor": "white",
            "linecolor": "white",
            "ticks": ""
           },
           "bgcolor": "#E5ECF6",
           "radialaxis": {
            "gridcolor": "white",
            "linecolor": "white",
            "ticks": ""
           }
          },
          "scene": {
           "xaxis": {
            "backgroundcolor": "#E5ECF6",
            "gridcolor": "white",
            "gridwidth": 2,
            "linecolor": "white",
            "showbackground": true,
            "ticks": "",
            "zerolinecolor": "white"
           },
           "yaxis": {
            "backgroundcolor": "#E5ECF6",
            "gridcolor": "white",
            "gridwidth": 2,
            "linecolor": "white",
            "showbackground": true,
            "ticks": "",
            "zerolinecolor": "white"
           },
           "zaxis": {
            "backgroundcolor": "#E5ECF6",
            "gridcolor": "white",
            "gridwidth": 2,
            "linecolor": "white",
            "showbackground": true,
            "ticks": "",
            "zerolinecolor": "white"
           }
          },
          "shapedefaults": {
           "line": {
            "color": "#2a3f5f"
           }
          },
          "ternary": {
           "aaxis": {
            "gridcolor": "white",
            "linecolor": "white",
            "ticks": ""
           },
           "baxis": {
            "gridcolor": "white",
            "linecolor": "white",
            "ticks": ""
           },
           "bgcolor": "#E5ECF6",
           "caxis": {
            "gridcolor": "white",
            "linecolor": "white",
            "ticks": ""
           }
          },
          "title": {
           "x": 0.05
          },
          "xaxis": {
           "automargin": true,
           "gridcolor": "white",
           "linecolor": "white",
           "ticks": "",
           "title": {
            "standoff": 15
           },
           "zerolinecolor": "white",
           "zerolinewidth": 2
          },
          "yaxis": {
           "automargin": true,
           "gridcolor": "white",
           "linecolor": "white",
           "ticks": "",
           "title": {
            "standoff": 15
           },
           "zerolinecolor": "white",
           "zerolinewidth": 2
          }
         }
        }
       }
      },
      "text/html": [
       "<div>                            <div id=\"5136654a-c71e-4b5f-b918-83ed26971b9a\" class=\"plotly-graph-div\" style=\"height:525px; width:100%;\"></div>            <script type=\"text/javascript\">                require([\"plotly\"], function(Plotly) {                    window.PLOTLYENV=window.PLOTLYENV || {};                                    if (document.getElementById(\"5136654a-c71e-4b5f-b918-83ed26971b9a\")) {                    Plotly.newPlot(                        \"5136654a-c71e-4b5f-b918-83ed26971b9a\",                        [{\"hovertemplate\":\"target name=setosa<br>sepal length (cm)=%{x}<br>sepal width (cm)=%{y}<br>petal width (cm)=%{z}<extra></extra>\",\"legendgroup\":\"setosa\",\"marker\":{\"color\":\"#636efa\",\"symbol\":\"circle\"},\"mode\":\"markers\",\"name\":\"setosa\",\"scene\":\"scene\",\"showlegend\":true,\"x\":[\"5.1\",\"4.9\",\"4.7\",\"4.6\",\"5.0\",\"5.4\",\"4.6\",\"5.0\",\"4.4\",\"4.9\",\"5.4\",\"4.8\",\"4.8\",\"4.3\",\"5.8\",\"5.7\",\"5.4\",\"5.1\",\"5.7\",\"5.1\",\"5.4\",\"5.1\",\"4.6\",\"5.1\",\"4.8\",\"5.0\",\"5.0\",\"5.2\",\"5.2\",\"4.7\",\"4.8\",\"5.4\",\"5.2\",\"5.5\",\"4.9\",\"5.0\",\"5.5\",\"4.9\",\"4.4\",\"5.1\",\"5.0\",\"4.5\",\"4.4\",\"5.0\",\"5.1\",\"4.8\",\"5.1\",\"4.6\",\"5.3\",\"5.0\"],\"y\":[\"3.5\",\"3.0\",\"3.2\",\"3.1\",\"3.6\",\"3.9\",\"3.4\",\"3.4\",\"2.9\",\"3.1\",\"3.7\",\"3.4\",\"3.0\",\"3.0\",\"4.0\",\"4.4\",\"3.9\",\"3.5\",\"3.8\",\"3.8\",\"3.4\",\"3.7\",\"3.6\",\"3.3\",\"3.4\",\"3.0\",\"3.4\",\"3.5\",\"3.4\",\"3.2\",\"3.1\",\"3.4\",\"4.1\",\"4.2\",\"3.1\",\"3.2\",\"3.5\",\"3.6\",\"3.0\",\"3.4\",\"3.5\",\"2.3\",\"3.2\",\"3.5\",\"3.8\",\"3.0\",\"3.8\",\"3.2\",\"3.7\",\"3.3\"],\"z\":[\"0.2\",\"0.2\",\"0.2\",\"0.2\",\"0.2\",\"0.4\",\"0.3\",\"0.2\",\"0.2\",\"0.1\",\"0.2\",\"0.2\",\"0.1\",\"0.1\",\"0.2\",\"0.4\",\"0.4\",\"0.3\",\"0.3\",\"0.3\",\"0.2\",\"0.4\",\"0.2\",\"0.5\",\"0.2\",\"0.2\",\"0.4\",\"0.2\",\"0.2\",\"0.2\",\"0.2\",\"0.4\",\"0.1\",\"0.2\",\"0.2\",\"0.2\",\"0.2\",\"0.1\",\"0.2\",\"0.2\",\"0.3\",\"0.3\",\"0.2\",\"0.6\",\"0.4\",\"0.3\",\"0.2\",\"0.2\",\"0.2\",\"0.2\"],\"type\":\"scatter3d\"},{\"hovertemplate\":\"target name=versicolor<br>sepal length (cm)=%{x}<br>sepal width (cm)=%{y}<br>petal width (cm)=%{z}<extra></extra>\",\"legendgroup\":\"versicolor\",\"marker\":{\"color\":\"#EF553B\",\"symbol\":\"circle\"},\"mode\":\"markers\",\"name\":\"versicolor\",\"scene\":\"scene\",\"showlegend\":true,\"x\":[\"7.0\",\"6.4\",\"6.9\",\"5.5\",\"6.5\",\"5.7\",\"6.3\",\"4.9\",\"6.6\",\"5.2\",\"5.0\",\"5.9\",\"6.0\",\"6.1\",\"5.6\",\"6.7\",\"5.6\",\"5.8\",\"6.2\",\"5.6\",\"5.9\",\"6.1\",\"6.3\",\"6.1\",\"6.4\",\"6.6\",\"6.8\",\"6.7\",\"6.0\",\"5.7\",\"5.5\",\"5.5\",\"5.8\",\"6.0\",\"5.4\",\"6.0\",\"6.7\",\"6.3\",\"5.6\",\"5.5\",\"5.5\",\"6.1\",\"5.8\",\"5.0\",\"5.6\",\"5.7\",\"5.7\",\"6.2\",\"5.1\",\"5.7\"],\"y\":[\"3.2\",\"3.2\",\"3.1\",\"2.3\",\"2.8\",\"2.8\",\"3.3\",\"2.4\",\"2.9\",\"2.7\",\"2.0\",\"3.0\",\"2.2\",\"2.9\",\"2.9\",\"3.1\",\"3.0\",\"2.7\",\"2.2\",\"2.5\",\"3.2\",\"2.8\",\"2.5\",\"2.8\",\"2.9\",\"3.0\",\"2.8\",\"3.0\",\"2.9\",\"2.6\",\"2.4\",\"2.4\",\"2.7\",\"2.7\",\"3.0\",\"3.4\",\"3.1\",\"2.3\",\"3.0\",\"2.5\",\"2.6\",\"3.0\",\"2.6\",\"2.3\",\"2.7\",\"3.0\",\"2.9\",\"2.9\",\"2.5\",\"2.8\"],\"z\":[\"1.4\",\"1.5\",\"1.5\",\"1.3\",\"1.5\",\"1.3\",\"1.6\",\"1.0\",\"1.3\",\"1.4\",\"1.0\",\"1.5\",\"1.0\",\"1.4\",\"1.3\",\"1.4\",\"1.5\",\"1.0\",\"1.5\",\"1.1\",\"1.8\",\"1.3\",\"1.5\",\"1.2\",\"1.3\",\"1.4\",\"1.4\",\"1.7\",\"1.5\",\"1.0\",\"1.1\",\"1.0\",\"1.2\",\"1.6\",\"1.5\",\"1.6\",\"1.5\",\"1.3\",\"1.3\",\"1.3\",\"1.2\",\"1.4\",\"1.2\",\"1.0\",\"1.3\",\"1.2\",\"1.3\",\"1.3\",\"1.1\",\"1.3\"],\"type\":\"scatter3d\"},{\"hovertemplate\":\"target name=virginica<br>sepal length (cm)=%{x}<br>sepal width (cm)=%{y}<br>petal width (cm)=%{z}<extra></extra>\",\"legendgroup\":\"virginica\",\"marker\":{\"color\":\"#00cc96\",\"symbol\":\"circle\"},\"mode\":\"markers\",\"name\":\"virginica\",\"scene\":\"scene\",\"showlegend\":true,\"x\":[\"6.3\",\"5.8\",\"7.1\",\"6.3\",\"6.5\",\"7.6\",\"4.9\",\"7.3\",\"6.7\",\"7.2\",\"6.5\",\"6.4\",\"6.8\",\"5.7\",\"5.8\",\"6.4\",\"6.5\",\"7.7\",\"7.7\",\"6.0\",\"6.9\",\"5.6\",\"7.7\",\"6.3\",\"6.7\",\"7.2\",\"6.2\",\"6.1\",\"6.4\",\"7.2\",\"7.4\",\"7.9\",\"6.4\",\"6.3\",\"6.1\",\"7.7\",\"6.3\",\"6.4\",\"6.0\",\"6.9\",\"6.7\",\"6.9\",\"5.8\",\"6.8\",\"6.7\",\"6.7\",\"6.3\",\"6.5\",\"6.2\",\"5.9\"],\"y\":[\"3.3\",\"2.7\",\"3.0\",\"2.9\",\"3.0\",\"3.0\",\"2.5\",\"2.9\",\"2.5\",\"3.6\",\"3.2\",\"2.7\",\"3.0\",\"2.5\",\"2.8\",\"3.2\",\"3.0\",\"3.8\",\"2.6\",\"2.2\",\"3.2\",\"2.8\",\"2.8\",\"2.7\",\"3.3\",\"3.2\",\"2.8\",\"3.0\",\"2.8\",\"3.0\",\"2.8\",\"3.8\",\"2.8\",\"2.8\",\"2.6\",\"3.0\",\"3.4\",\"3.1\",\"3.0\",\"3.1\",\"3.1\",\"3.1\",\"2.7\",\"3.2\",\"3.3\",\"3.0\",\"2.5\",\"3.0\",\"3.4\",\"3.0\"],\"z\":[\"2.5\",\"1.9\",\"2.1\",\"1.8\",\"2.2\",\"2.1\",\"1.7\",\"1.8\",\"1.8\",\"2.5\",\"2.0\",\"1.9\",\"2.1\",\"2.0\",\"2.4\",\"2.3\",\"1.8\",\"2.2\",\"2.3\",\"1.5\",\"2.3\",\"2.0\",\"2.0\",\"1.8\",\"2.1\",\"1.8\",\"1.8\",\"1.8\",\"2.1\",\"1.6\",\"1.9\",\"2.0\",\"2.2\",\"1.5\",\"1.4\",\"2.3\",\"2.4\",\"1.8\",\"1.8\",\"2.1\",\"2.4\",\"2.3\",\"1.9\",\"2.3\",\"2.5\",\"2.3\",\"1.9\",\"2.0\",\"2.3\",\"1.8\"],\"type\":\"scatter3d\"}],                        {\"template\":{\"data\":{\"histogram2dcontour\":[{\"type\":\"histogram2dcontour\",\"colorbar\":{\"outlinewidth\":0,\"ticks\":\"\"},\"colorscale\":[[0.0,\"#0d0887\"],[0.1111111111111111,\"#46039f\"],[0.2222222222222222,\"#7201a8\"],[0.3333333333333333,\"#9c179e\"],[0.4444444444444444,\"#bd3786\"],[0.5555555555555556,\"#d8576b\"],[0.6666666666666666,\"#ed7953\"],[0.7777777777777778,\"#fb9f3a\"],[0.8888888888888888,\"#fdca26\"],[1.0,\"#f0f921\"]]}],\"choropleth\":[{\"type\":\"choropleth\",\"colorbar\":{\"outlinewidth\":0,\"ticks\":\"\"}}],\"histogram2d\":[{\"type\":\"histogram2d\",\"colorbar\":{\"outlinewidth\":0,\"ticks\":\"\"},\"colorscale\":[[0.0,\"#0d0887\"],[0.1111111111111111,\"#46039f\"],[0.2222222222222222,\"#7201a8\"],[0.3333333333333333,\"#9c179e\"],[0.4444444444444444,\"#bd3786\"],[0.5555555555555556,\"#d8576b\"],[0.6666666666666666,\"#ed7953\"],[0.7777777777777778,\"#fb9f3a\"],[0.8888888888888888,\"#fdca26\"],[1.0,\"#f0f921\"]]}],\"heatmap\":[{\"type\":\"heatmap\",\"colorbar\":{\"outlinewidth\":0,\"ticks\":\"\"},\"colorscale\":[[0.0,\"#0d0887\"],[0.1111111111111111,\"#46039f\"],[0.2222222222222222,\"#7201a8\"],[0.3333333333333333,\"#9c179e\"],[0.4444444444444444,\"#bd3786\"],[0.5555555555555556,\"#d8576b\"],[0.6666666666666666,\"#ed7953\"],[0.7777777777777778,\"#fb9f3a\"],[0.8888888888888888,\"#fdca26\"],[1.0,\"#f0f921\"]]}],\"heatmapgl\":[{\"type\":\"heatmapgl\",\"colorbar\":{\"outlinewidth\":0,\"ticks\":\"\"},\"colorscale\":[[0.0,\"#0d0887\"],[0.1111111111111111,\"#46039f\"],[0.2222222222222222,\"#7201a8\"],[0.3333333333333333,\"#9c179e\"],[0.4444444444444444,\"#bd3786\"],[0.5555555555555556,\"#d8576b\"],[0.6666666666666666,\"#ed7953\"],[0.7777777777777778,\"#fb9f3a\"],[0.8888888888888888,\"#fdca26\"],[1.0,\"#f0f921\"]]}],\"contourcarpet\":[{\"type\":\"contourcarpet\",\"colorbar\":{\"outlinewidth\":0,\"ticks\":\"\"}}],\"contour\":[{\"type\":\"contour\",\"colorbar\":{\"outlinewidth\":0,\"ticks\":\"\"},\"colorscale\":[[0.0,\"#0d0887\"],[0.1111111111111111,\"#46039f\"],[0.2222222222222222,\"#7201a8\"],[0.3333333333333333,\"#9c179e\"],[0.4444444444444444,\"#bd3786\"],[0.5555555555555556,\"#d8576b\"],[0.6666666666666666,\"#ed7953\"],[0.7777777777777778,\"#fb9f3a\"],[0.8888888888888888,\"#fdca26\"],[1.0,\"#f0f921\"]]}],\"surface\":[{\"type\":\"surface\",\"colorbar\":{\"outlinewidth\":0,\"ticks\":\"\"},\"colorscale\":[[0.0,\"#0d0887\"],[0.1111111111111111,\"#46039f\"],[0.2222222222222222,\"#7201a8\"],[0.3333333333333333,\"#9c179e\"],[0.4444444444444444,\"#bd3786\"],[0.5555555555555556,\"#d8576b\"],[0.6666666666666666,\"#ed7953\"],[0.7777777777777778,\"#fb9f3a\"],[0.8888888888888888,\"#fdca26\"],[1.0,\"#f0f921\"]]}],\"mesh3d\":[{\"type\":\"mesh3d\",\"colorbar\":{\"outlinewidth\":0,\"ticks\":\"\"}}],\"scatter\":[{\"fillpattern\":{\"fillmode\":\"overlay\",\"size\":10,\"solidity\":0.2},\"type\":\"scatter\"}],\"parcoords\":[{\"type\":\"parcoords\",\"line\":{\"colorbar\":{\"outlinewidth\":0,\"ticks\":\"\"}}}],\"scatterpolargl\":[{\"type\":\"scatterpolargl\",\"marker\":{\"colorbar\":{\"outlinewidth\":0,\"ticks\":\"\"}}}],\"bar\":[{\"error_x\":{\"color\":\"#2a3f5f\"},\"error_y\":{\"color\":\"#2a3f5f\"},\"marker\":{\"line\":{\"color\":\"#E5ECF6\",\"width\":0.5},\"pattern\":{\"fillmode\":\"overlay\",\"size\":10,\"solidity\":0.2}},\"type\":\"bar\"}],\"scattergeo\":[{\"type\":\"scattergeo\",\"marker\":{\"colorbar\":{\"outlinewidth\":0,\"ticks\":\"\"}}}],\"scatterpolar\":[{\"type\":\"scatterpolar\",\"marker\":{\"colorbar\":{\"outlinewidth\":0,\"ticks\":\"\"}}}],\"histogram\":[{\"marker\":{\"pattern\":{\"fillmode\":\"overlay\",\"size\":10,\"solidity\":0.2}},\"type\":\"histogram\"}],\"scattergl\":[{\"type\":\"scattergl\",\"marker\":{\"colorbar\":{\"outlinewidth\":0,\"ticks\":\"\"}}}],\"scatter3d\":[{\"type\":\"scatter3d\",\"line\":{\"colorbar\":{\"outlinewidth\":0,\"ticks\":\"\"}},\"marker\":{\"colorbar\":{\"outlinewidth\":0,\"ticks\":\"\"}}}],\"scattermapbox\":[{\"type\":\"scattermapbox\",\"marker\":{\"colorbar\":{\"outlinewidth\":0,\"ticks\":\"\"}}}],\"scatterternary\":[{\"type\":\"scatterternary\",\"marker\":{\"colorbar\":{\"outlinewidth\":0,\"ticks\":\"\"}}}],\"scattercarpet\":[{\"type\":\"scattercarpet\",\"marker\":{\"colorbar\":{\"outlinewidth\":0,\"ticks\":\"\"}}}],\"carpet\":[{\"aaxis\":{\"endlinecolor\":\"#2a3f5f\",\"gridcolor\":\"white\",\"linecolor\":\"white\",\"minorgridcolor\":\"white\",\"startlinecolor\":\"#2a3f5f\"},\"baxis\":{\"endlinecolor\":\"#2a3f5f\",\"gridcolor\":\"white\",\"linecolor\":\"white\",\"minorgridcolor\":\"white\",\"startlinecolor\":\"#2a3f5f\"},\"type\":\"carpet\"}],\"table\":[{\"cells\":{\"fill\":{\"color\":\"#EBF0F8\"},\"line\":{\"color\":\"white\"}},\"header\":{\"fill\":{\"color\":\"#C8D4E3\"},\"line\":{\"color\":\"white\"}},\"type\":\"table\"}],\"barpolar\":[{\"marker\":{\"line\":{\"color\":\"#E5ECF6\",\"width\":0.5},\"pattern\":{\"fillmode\":\"overlay\",\"size\":10,\"solidity\":0.2}},\"type\":\"barpolar\"}],\"pie\":[{\"automargin\":true,\"type\":\"pie\"}]},\"layout\":{\"autotypenumbers\":\"strict\",\"colorway\":[\"#636efa\",\"#EF553B\",\"#00cc96\",\"#ab63fa\",\"#FFA15A\",\"#19d3f3\",\"#FF6692\",\"#B6E880\",\"#FF97FF\",\"#FECB52\"],\"font\":{\"color\":\"#2a3f5f\"},\"hovermode\":\"closest\",\"hoverlabel\":{\"align\":\"left\"},\"paper_bgcolor\":\"white\",\"plot_bgcolor\":\"#E5ECF6\",\"polar\":{\"bgcolor\":\"#E5ECF6\",\"angularaxis\":{\"gridcolor\":\"white\",\"linecolor\":\"white\",\"ticks\":\"\"},\"radialaxis\":{\"gridcolor\":\"white\",\"linecolor\":\"white\",\"ticks\":\"\"}},\"ternary\":{\"bgcolor\":\"#E5ECF6\",\"aaxis\":{\"gridcolor\":\"white\",\"linecolor\":\"white\",\"ticks\":\"\"},\"baxis\":{\"gridcolor\":\"white\",\"linecolor\":\"white\",\"ticks\":\"\"},\"caxis\":{\"gridcolor\":\"white\",\"linecolor\":\"white\",\"ticks\":\"\"}},\"coloraxis\":{\"colorbar\":{\"outlinewidth\":0,\"ticks\":\"\"}},\"colorscale\":{\"sequential\":[[0.0,\"#0d0887\"],[0.1111111111111111,\"#46039f\"],[0.2222222222222222,\"#7201a8\"],[0.3333333333333333,\"#9c179e\"],[0.4444444444444444,\"#bd3786\"],[0.5555555555555556,\"#d8576b\"],[0.6666666666666666,\"#ed7953\"],[0.7777777777777778,\"#fb9f3a\"],[0.8888888888888888,\"#fdca26\"],[1.0,\"#f0f921\"]],\"sequentialminus\":[[0.0,\"#0d0887\"],[0.1111111111111111,\"#46039f\"],[0.2222222222222222,\"#7201a8\"],[0.3333333333333333,\"#9c179e\"],[0.4444444444444444,\"#bd3786\"],[0.5555555555555556,\"#d8576b\"],[0.6666666666666666,\"#ed7953\"],[0.7777777777777778,\"#fb9f3a\"],[0.8888888888888888,\"#fdca26\"],[1.0,\"#f0f921\"]],\"diverging\":[[0,\"#8e0152\"],[0.1,\"#c51b7d\"],[0.2,\"#de77ae\"],[0.3,\"#f1b6da\"],[0.4,\"#fde0ef\"],[0.5,\"#f7f7f7\"],[0.6,\"#e6f5d0\"],[0.7,\"#b8e186\"],[0.8,\"#7fbc41\"],[0.9,\"#4d9221\"],[1,\"#276419\"]]},\"xaxis\":{\"gridcolor\":\"white\",\"linecolor\":\"white\",\"ticks\":\"\",\"title\":{\"standoff\":15},\"zerolinecolor\":\"white\",\"automargin\":true,\"zerolinewidth\":2},\"yaxis\":{\"gridcolor\":\"white\",\"linecolor\":\"white\",\"ticks\":\"\",\"title\":{\"standoff\":15},\"zerolinecolor\":\"white\",\"automargin\":true,\"zerolinewidth\":2},\"scene\":{\"xaxis\":{\"backgroundcolor\":\"#E5ECF6\",\"gridcolor\":\"white\",\"linecolor\":\"white\",\"showbackground\":true,\"ticks\":\"\",\"zerolinecolor\":\"white\",\"gridwidth\":2},\"yaxis\":{\"backgroundcolor\":\"#E5ECF6\",\"gridcolor\":\"white\",\"linecolor\":\"white\",\"showbackground\":true,\"ticks\":\"\",\"zerolinecolor\":\"white\",\"gridwidth\":2},\"zaxis\":{\"backgroundcolor\":\"#E5ECF6\",\"gridcolor\":\"white\",\"linecolor\":\"white\",\"showbackground\":true,\"ticks\":\"\",\"zerolinecolor\":\"white\",\"gridwidth\":2}},\"shapedefaults\":{\"line\":{\"color\":\"#2a3f5f\"}},\"annotationdefaults\":{\"arrowcolor\":\"#2a3f5f\",\"arrowhead\":0,\"arrowwidth\":1},\"geo\":{\"bgcolor\":\"white\",\"landcolor\":\"#E5ECF6\",\"subunitcolor\":\"white\",\"showland\":true,\"showlakes\":true,\"lakecolor\":\"white\"},\"title\":{\"x\":0.05},\"mapbox\":{\"style\":\"light\"}}},\"scene\":{\"domain\":{\"x\":[0.0,1.0],\"y\":[0.0,1.0]},\"xaxis\":{\"title\":{\"text\":\"sepal length (cm)\"}},\"yaxis\":{\"title\":{\"text\":\"sepal width (cm)\"}},\"zaxis\":{\"title\":{\"text\":\"petal width (cm)\"}}},\"legend\":{\"title\":{\"text\":\"target name\"},\"tracegroupgap\":0},\"margin\":{\"t\":60}},                        {\"responsive\": true}                    ).then(function(){\n",
       "                            \n",
       "var gd = document.getElementById('5136654a-c71e-4b5f-b918-83ed26971b9a');\n",
       "var x = new MutationObserver(function (mutations, observer) {{\n",
       "        var display = window.getComputedStyle(gd).display;\n",
       "        if (!display || display === 'none') {{\n",
       "            console.log([gd, 'removed!']);\n",
       "            Plotly.purge(gd);\n",
       "            observer.disconnect();\n",
       "        }}\n",
       "}});\n",
       "\n",
       "// Listen for the removal of the full notebook cells\n",
       "var notebookContainer = gd.closest('#notebook-container');\n",
       "if (notebookContainer) {{\n",
       "    x.observe(notebookContainer, {childList: true});\n",
       "}}\n",
       "\n",
       "// Listen for the clearing of the current output cell\n",
       "var outputEl = gd.closest('.output');\n",
       "if (outputEl) {{\n",
       "    x.observe(outputEl, {childList: true});\n",
       "}}\n",
       "\n",
       "                        })                };                });            </script>        </div>"
      ]
     },
     "metadata": {},
     "output_type": "display_data"
    },
    {
     "data": {
      "text/plain": [
       "<Figure size 800x800 with 0 Axes>"
      ]
     },
     "metadata": {},
     "output_type": "display_data"
    }
   ],
   "source": [
    "# 3d plot\n",
    "fig = plt.figure(figsize=(8, 8))\n",
    "fig = px.scatter_3d(df, x='sepal length (cm)', y='sepal width (cm)', z='petal width (cm)',\n",
    "                    color='target name')\n",
    "fig.show()"
   ]
  },
  {
   "cell_type": "markdown",
   "id": "edab397d",
   "metadata": {},
   "source": [
    "Можем также заметить, что в наших данных есть явные выбросы -- точки, которые имеют один класс, но лежат в окружении точек, которые совершенно из другого класса. \n",
    "\n",
    "**Но это \"выбросы\"именно в рамках это визуализации и использованных параметров!** Если мы посмотрим на общую картину с учетом `petal length (cm)`, то этих выбросов может не оказаться -- подумайте над этим самостоятельно. "
   ]
  },
  {
   "cell_type": "markdown",
   "id": "ccbb233f",
   "metadata": {},
   "source": [
    "Теперь выделим отдельно матрицу с признаками (матрица дизайна) и целевые значения в формате `numpy` для дальнейшего использования в нашей модели. "
   ]
  },
  {
   "cell_type": "code",
   "execution_count": 43,
   "id": "173e7830",
   "metadata": {},
   "outputs": [
    {
     "data": {
      "text/plain": [
       "((150, 4), (150,))"
      ]
     },
     "execution_count": 43,
     "metadata": {},
     "output_type": "execute_result"
    }
   ],
   "source": [
    "features = iris_dataset.data\n",
    "target = iris_dataset.target\n",
    "\n",
    "features.shape, target.shape"
   ]
  },
  {
   "cell_type": "markdown",
   "id": "a5f69a57",
   "metadata": {},
   "source": [
    "Как видим, всего 3 класса, причем порядок -- последовательный. Поэтому надо хорошо перемешать все семплы перед использованием. "
   ]
  },
  {
   "cell_type": "code",
   "execution_count": 44,
   "id": "a61d6fac",
   "metadata": {},
   "outputs": [
    {
     "data": {
      "text/plain": [
       "array([0, 0, 0, 0, 0, 0, 0, 0, 0, 0, 0, 0, 0, 0, 0, 0, 0, 0, 0, 0, 0, 0,\n",
       "       0, 0, 0, 0, 0, 0, 0, 0, 0, 0, 0, 0, 0, 0, 0, 0, 0, 0, 0, 0, 0, 0,\n",
       "       0, 0, 0, 0, 0, 0, 1, 1, 1, 1, 1, 1, 1, 1, 1, 1, 1, 1, 1, 1, 1, 1,\n",
       "       1, 1, 1, 1, 1, 1, 1, 1, 1, 1, 1, 1, 1, 1, 1, 1, 1, 1, 1, 1, 1, 1,\n",
       "       1, 1, 1, 1, 1, 1, 1, 1, 1, 1, 1, 1, 2, 2, 2, 2, 2, 2, 2, 2, 2, 2,\n",
       "       2, 2, 2, 2, 2, 2, 2, 2, 2, 2, 2, 2, 2, 2, 2, 2, 2, 2, 2, 2, 2, 2,\n",
       "       2, 2, 2, 2, 2, 2, 2, 2, 2, 2, 2, 2, 2, 2, 2, 2, 2, 2])"
      ]
     },
     "execution_count": 44,
     "metadata": {},
     "output_type": "execute_result"
    }
   ],
   "source": [
    "target"
   ]
  },
  {
   "cell_type": "markdown",
   "id": "fc8fc1d0",
   "metadata": {},
   "source": [
    "Создадим для этого функцию для разделения на train и test подвыборки."
   ]
  },
  {
   "cell_type": "code",
   "execution_count": 45,
   "id": "eda23805",
   "metadata": {},
   "outputs": [],
   "source": [
    "def train_test_split_data(X, y, train_percentage=0.7):\n",
    "    num_data_points = X.shape[0]\n",
    "    \n",
    "    train_data_points = int(num_data_points * train_percentage)\n",
    "    \n",
    "    all_idx = np.arange(num_data_points)\n",
    "    np.random.shuffle(all_idx)\n",
    "    \n",
    "    train_idx = all_idx[:train_data_points]\n",
    "    test_idx = all_idx[train_data_points:]\n",
    "    \n",
    "    return X[train_idx], y[train_idx], X[test_idx], y[test_idx]"
   ]
  },
  {
   "cell_type": "markdown",
   "id": "9bbacbed",
   "metadata": {},
   "source": [
    "### Инициализация, использование и тестирование модели"
   ]
  },
  {
   "cell_type": "markdown",
   "id": "c72fde80",
   "metadata": {},
   "source": [
    "Инициализируем модель с гиперпараметром `k_neighbours = 5`. "
   ]
  },
  {
   "cell_type": "code",
   "execution_count": 46,
   "id": "de083507",
   "metadata": {},
   "outputs": [],
   "source": [
    "# fix seed for reproducibility\n",
    "np.random.seed(2)\n",
    "\n",
    "k_neighbours = 5\n",
    "knn_voting_clf = KNNVotingClassifier(k_neighbours)"
   ]
  },
  {
   "cell_type": "markdown",
   "id": "f908d0da",
   "metadata": {},
   "source": [
    "Создадим сплит на тест и обучающую выборки. Будем использовать соотношение 70/30 -- 70% данных на обучение, а остальные 30% -- на валидацию. "
   ]
  },
  {
   "cell_type": "code",
   "execution_count": 47,
   "id": "e761cc87",
   "metadata": {},
   "outputs": [],
   "source": [
    "X_train, y_train, X_test, y_test = train_test_split_data(features, target)"
   ]
  },
  {
   "cell_type": "markdown",
   "id": "f06f005b",
   "metadata": {},
   "source": [
    "Сделаем fit-predict."
   ]
  },
  {
   "cell_type": "code",
   "execution_count": 48,
   "id": "7a8c19a0",
   "metadata": {},
   "outputs": [],
   "source": [
    "knn_voting_clf.fit(X_train, y_train)\n",
    "y_pred = knn_voting_clf.predict(X_test)"
   ]
  },
  {
   "cell_type": "markdown",
   "id": "8b12da42",
   "metadata": {},
   "source": [
    "И сначала просто визуально посмотрим на предсказания. \n",
    "\n",
    "В виде \"из коробки\" мы имеем на самом деле матрицу размера `(n, 1)` -- и именно так и должен выглядеть аутпут модели. Для того, чтобы привести ее к виду, соотносимому с тестовыми данными в датасете, мы можем применить метод `squeeze()` к нампаевскому массиву. "
   ]
  },
  {
   "cell_type": "code",
   "execution_count": 49,
   "id": "311349af",
   "metadata": {},
   "outputs": [
    {
     "data": {
      "text/plain": [
       "array([0., 0., 1., 2., 1., 2., 1., 1., 2., 1., 1., 1., 2., 2., 2., 2., 0.,\n",
       "       1., 1., 1., 1., 2., 1., 0., 0., 2., 1., 2., 0., 2., 0., 2., 2., 0.,\n",
       "       1., 0., 2., 1., 0., 2., 1., 0., 0., 2., 0.])"
      ]
     },
     "execution_count": 49,
     "metadata": {},
     "output_type": "execute_result"
    }
   ],
   "source": [
    "y_pred.squeeze()"
   ]
  },
  {
   "cell_type": "code",
   "execution_count": 50,
   "id": "4468faf1",
   "metadata": {},
   "outputs": [
    {
     "data": {
      "text/plain": [
       "array([0, 0, 1, 2, 1, 2, 1, 1, 2, 1, 1, 1, 2, 1, 2, 1, 0, 1, 1, 1, 1, 2,\n",
       "       1, 0, 0, 2, 1, 2, 0, 2, 0, 2, 2, 0, 1, 0, 2, 1, 0, 2, 1, 0, 0, 1,\n",
       "       0])"
      ]
     },
     "execution_count": 50,
     "metadata": {},
     "output_type": "execute_result"
    }
   ],
   "source": [
    "y_test"
   ]
  },
  {
   "cell_type": "markdown",
   "id": "161bd86a",
   "metadata": {},
   "source": [
    "Проверим самую наивную метрику, которую всегда можно написать самому -- количество верных ответов на общее количество семплов. \n",
    "\n",
    "Это и есть `accuracy`. "
   ]
  },
  {
   "cell_type": "code",
   "execution_count": 51,
   "id": "e7e76043",
   "metadata": {},
   "outputs": [
    {
     "data": {
      "text/plain": [
       "0.9333333333333333"
      ]
     },
     "execution_count": 51,
     "metadata": {},
     "output_type": "execute_result"
    }
   ],
   "source": [
    "np.count_nonzero(y_test == y_pred.squeeze()) / y_test.shape[0]"
   ]
  },
  {
   "cell_type": "markdown",
   "id": "50608855",
   "metadata": {},
   "source": [
    "Проверим, что наша импелементация метрики соотносится с имплементацией метрики из `sklearn`, а также проверим другие метрики, такие как многоклассовый (микро-усредненный) F1-Score, ROC-AUC Score и Precision Score."
   ]
  },
  {
   "cell_type": "code",
   "execution_count": 52,
   "id": "d3675c8b",
   "metadata": {},
   "outputs": [
    {
     "data": {
      "text/plain": [
       "0.9333333333333333"
      ]
     },
     "execution_count": 52,
     "metadata": {},
     "output_type": "execute_result"
    }
   ],
   "source": [
    "accuracy_score(y_test, y_pred)"
   ]
  },
  {
   "cell_type": "code",
   "execution_count": 53,
   "id": "81893d12",
   "metadata": {},
   "outputs": [
    {
     "data": {
      "text/plain": [
       "0.9333333333333333"
      ]
     },
     "execution_count": 53,
     "metadata": {},
     "output_type": "execute_result"
    }
   ],
   "source": [
    "f1_score(y_test, y_pred, average='micro')"
   ]
  },
  {
   "cell_type": "code",
   "execution_count": 54,
   "id": "a2ad8c11",
   "metadata": {},
   "outputs": [
    {
     "data": {
      "text/plain": [
       "0.9580592105263158"
      ]
     },
     "execution_count": 54,
     "metadata": {},
     "output_type": "execute_result"
    }
   ],
   "source": [
    "encoder = OneHotEncoder()\n",
    "\n",
    "roc_auc_score(encoder.fit_transform(y_test[:, np.newaxis]).toarray(), \n",
    "              encoder.fit_transform(y_pred).toarray(), \n",
    "              multi_class='ovr')"
   ]
  },
  {
   "cell_type": "code",
   "execution_count": 55,
   "id": "ab036ce0",
   "metadata": {},
   "outputs": [
    {
     "data": {
      "text/plain": [
       "0.9333333333333333"
      ]
     },
     "execution_count": 55,
     "metadata": {},
     "output_type": "execute_result"
    }
   ],
   "source": [
    "precision_score(y_test, y_pred, average='micro')"
   ]
  },
  {
   "cell_type": "markdown",
   "id": "f001a8f8",
   "metadata": {},
   "source": [
    "### Зависимость от количества соседей (k_neighbours)"
   ]
  },
  {
   "cell_type": "markdown",
   "id": "71775b51",
   "metadata": {},
   "source": [
    "Давайте посмотрим на зависимость нашей модели от гиперпараметра `k_neighbours` количества соседей. "
   ]
  },
  {
   "cell_type": "code",
   "execution_count": 56,
   "id": "f94ff5e5",
   "metadata": {},
   "outputs": [],
   "source": [
    "accuracies = []\n",
    "X_train, y_train, X_test, y_test = train_test_split_data(features, target)\n",
    "\n",
    "for k in range(1, 30):\n",
    "    knn_voting_clf = KNNVotingClassifier(k)\n",
    "    knn_voting_clf.fit(X_train, y_train)\n",
    "    y_pred = knn_voting_clf.predict(X_test)\n",
    "    accuracy = np.count_nonzero(y_test == y_pred.squeeze()) / y_test.shape[0]\n",
    "    accuracies.append(accuracy)"
   ]
  },
  {
   "cell_type": "code",
   "execution_count": 57,
   "id": "e8941e6d",
   "metadata": {},
   "outputs": [
    {
     "data": {
      "text/plain": [
       "[<matplotlib.lines.Line2D at 0x1f2ae565850>]"
      ]
     },
     "execution_count": 57,
     "metadata": {},
     "output_type": "execute_result"
    },
    {
     "data": {
      "image/png": "[encoded data removed]",
      "text/plain": [
       "<Figure size 640x480 with 1 Axes>"
      ]
     },
     "metadata": {},
     "output_type": "display_data"
    }
   ],
   "source": [
    "plt.plot(range(1, 30), accuracies)"
   ]
  },
  {
   "cell_type": "markdown",
   "id": "5be2c0fa",
   "metadata": {},
   "source": [
    "Почему мы видим такую зависимость?"
   ]
  },
  {
   "cell_type": "markdown",
   "id": "6946c115",
   "metadata": {},
   "source": [
    "### Визуализация предсказаний и разделяющих плоскостей"
   ]
  },
  {
   "cell_type": "markdown",
   "id": "243b21f6",
   "metadata": {},
   "source": [
    "Для ответа на вопрос, произведем визуализацию предсказаний и разделяющих плоскостей. \n",
    "\n",
    "Для того, чтобы быстрее и удобнее визуализировать данные на 2D-плоскости, будем пользоваться только двумя последними фичами датасета. \n",
    "\n",
    "**Почему именно двумя последними?** Если вернуться выше, то мы можем видеть в документации датасета `iris_dataset.DESCR`, что две последние фичи являются самыми кореллирующимися с нашими целевыми переменными. \n",
    "\n",
    "**А почему именно двумя (а не тремя или одним)?** Все просто -- для визуализации на плоскости нам нужно как раз два измерения -- это ось абсцисс и ординат. Разумеется, выбор двух фичей -- не самая лучшая затея (и не самая практичная и широко применимая), поэтому для реальных задач лучше пользоваться методами для понижения размерности (PCA, SVD и др.), но так как у нас самые сильные корелляции уже приходятся на 2 последние фичи -- мы просто можем взять их. "
   ]
  },
  {
   "cell_type": "code",
   "execution_count": 58,
   "id": "6f824f25",
   "metadata": {},
   "outputs": [],
   "source": [
    "def get_meshgrid(data, step=.05, border=.5,):\n",
    "    x_min, x_max = data[:, 0].min() - border, data[:, 0].max() + border\n",
    "    y_min, y_max = data[:, 1].min() - border, data[:, 1].max() + border\n",
    "    return np.meshgrid(np.arange(x_min, x_max, step), np.arange(y_min, y_max, step))\n",
    "\n",
    "def plot_decision_surface(estimator, train_data, train_labels, test_data, test_labels):\n",
    "    colors = ListedColormap(['red', 'blue', 'yellow'])\n",
    "    light_colors = ListedColormap(['lightcoral', 'lightblue', 'lightyellow'])\n",
    "    \n",
    "    #fit model\n",
    "    estimator.fit(train_data, train_labels)\n",
    "    \n",
    "    #set figure size\n",
    "    pyplot.figure(figsize = (16, 6))\n",
    "    \n",
    "    #plot decision surface on the train data \n",
    "    pyplot.subplot(1, 2, 1)\n",
    "    xx, yy = get_meshgrid(train_data)\n",
    "    mesh_predictions = np.array(estimator.predict(np.c_[xx.ravel(), yy.ravel()])).reshape(xx.shape)\n",
    "    pyplot.pcolormesh(xx, yy, mesh_predictions, cmap=light_colors)\n",
    "    pyplot.scatter(train_data[:, 0], train_data[:, 1], c=train_labels, s=100, cmap=colors)\n",
    "    pyplot.title('Train data, accuracy={:.2f}'.format(accuracy_score(train_labels, estimator.predict(train_data))))\n",
    "    \n",
    "    #plot decision surface on the test data\n",
    "    pyplot.subplot(1, 2, 2)\n",
    "    pyplot.pcolormesh(xx, yy, mesh_predictions, cmap=light_colors)\n",
    "    pyplot.scatter(test_data[:, 0], test_data[:, 1], c=test_labels, s=100, cmap=colors)\n",
    "    pyplot.title('Test data, accuracy={:.2f}'.format(accuracy_score(test_labels, estimator.predict(test_data))))"
   ]
  },
  {
   "cell_type": "code",
   "execution_count": 59,
   "id": "627ecffb",
   "metadata": {},
   "outputs": [
    {
     "data": {
      "image/png": "[encoded data removed]",
      "text/plain": [
       "<Figure size 1600x600 with 2 Axes>"
      ]
     },
     "metadata": {},
     "output_type": "display_data"
    }
   ],
   "source": [
    "k_neighbours = 5\n",
    "knn_voting_clf = KNNVotingClassifier(k_neighbours)\n",
    "plot_decision_surface(knn_voting_clf, X_train[:, 2:], y_train, X_test[:, 2:], y_test)"
   ]
  },
  {
   "cell_type": "code",
   "execution_count": 60,
   "id": "87053300",
   "metadata": {},
   "outputs": [
    {
     "data": {
      "image/png": "[encoded data removed]",
      "text/plain": [
       "<Figure size 1600x600 with 2 Axes>"
      ]
     },
     "metadata": {},
     "output_type": "display_data"
    }
   ],
   "source": [
    "k_neighbours = 6\n",
    "knn_voting_clf = KNNVotingClassifier(k_neighbours)\n",
    "plot_decision_surface(knn_voting_clf, X_train[:, 2:], y_train, X_test[:, 2:], y_test)"
   ]
  },
  {
   "cell_type": "markdown",
   "id": "a648ace0",
   "metadata": {},
   "source": [
    "А теперь резко увеличим количество ближайших соседей. \n"
   ]
  },
  {
   "cell_type": "code",
   "execution_count": 61,
   "id": "479f2c7a",
   "metadata": {},
   "outputs": [
    {
     "data": {
      "image/png": "[encoded data removed]",
      "text/plain": [
       "<Figure size 1600x600 with 2 Axes>"
      ]
     },
     "metadata": {},
     "output_type": "display_data"
    }
   ],
   "source": [
    "k_neighbours = 35\n",
    "knn_voting_clf = KNNVotingClassifier(k_neighbours)\n",
    "plot_decision_surface(knn_voting_clf, X_train[:, 2:], y_train, X_test[:, 2:], y_test)"
   ]
  },
  {
   "cell_type": "markdown",
   "id": "523d7c3d",
   "metadata": {},
   "source": [
    "### Сравнение с sklearn"
   ]
  },
  {
   "cell_type": "markdown",
   "id": "5e0fb43e",
   "metadata": {},
   "source": [
    "Проверим, что наша импелементация модели соотносится с имплементацией `KNeighborsClassifier` из `sklearn`. "
   ]
  },
  {
   "cell_type": "code",
   "execution_count": 62,
   "id": "1308b5d2",
   "metadata": {},
   "outputs": [
    {
     "name": "stdout",
     "output_type": "stream",
     "text": [
      "Sklearn kNN Accuracy = 0.9555555555555556\n",
      "Sklearn kNN F1-Score = 0.9555555555555556\n"
     ]
    }
   ],
   "source": [
    "sk_knn_clf = KNeighborsClassifier(10, \n",
    "                                  metric='euclidean', \n",
    "                                  algorithm='brute')\n",
    "sk_knn_clf.fit(X_train, y_train)\n",
    "\n",
    "y_pred = sk_knn_clf.predict(X_test)\n",
    "print('Sklearn kNN Accuracy =', accuracy_score(y_test, y_pred))\n",
    "print('Sklearn kNN F1-Score =', f1_score(y_test, y_pred, average='micro'))"
   ]
  },
  {
   "cell_type": "markdown",
   "id": "c53472cd",
   "metadata": {},
   "source": [
    "Видно, что метрики сопоставимы. Проверим теперь корелляцию точности модели с гиперпараметром количества соседей."
   ]
  },
  {
   "cell_type": "code",
   "execution_count": 63,
   "id": "fa58c1db",
   "metadata": {},
   "outputs": [],
   "source": [
    "accuracies = []\n",
    "X_train, y_train, X_test, y_test = train_test_split_data(features, target)\n",
    "\n",
    "for k in range(1, 30):\n",
    "    knn_voting_clf = KNeighborsClassifier(k, metric='euclidean', algorithm='brute')\n",
    "    knn_voting_clf.fit(X_train, y_train)\n",
    "    y_pred = knn_voting_clf.predict(X_test)\n",
    "    accuracy = np.count_nonzero(y_test == y_pred.squeeze()) / y_test.shape[0]\n",
    "    accuracies.append(accuracy)"
   ]
  },
  {
   "cell_type": "code",
   "execution_count": 64,
   "id": "a4abb52e",
   "metadata": {},
   "outputs": [
    {
     "data": {
      "text/plain": [
       "[<matplotlib.lines.Line2D at 0x1f2acc484d0>]"
      ]
     },
     "execution_count": 64,
     "metadata": {},
     "output_type": "execute_result"
    },
    {
     "data": {
      "image/png": "[encoded data removed]",
      "text/plain": [
       "<Figure size 640x480 with 1 Axes>"
      ]
     },
     "metadata": {},
     "output_type": "display_data"
    }
   ],
   "source": [
    "plt.plot(range(1, 30), accuracies)"
   ]
  },
  {
   "cell_type": "markdown",
   "id": "f42602f6-2de5-4850-8c63-24129cbc3cde",
   "metadata": {},
   "source": [
    "### Проведем анализ ошибок \n",
    "\n",
    "Как ошибки связаны с расстоянием до других объектов класса?\n",
    "\n",
    "Какая реальная зависимость точности от гиперпараметра `k_neighbours`? Проведите анализ -- почему она такая?\n",
    "\n",
    "Почему реализация \"из коробки\" отличается от нашей реализации? Подсказка: посмотрите в [документацию](https://scikit-learn.org/stable/modules/generated/sklearn.neighbors.KNeighborsClassifier.html?highlight=kneighbors#sklearn.neighbors.KNeighborsClassifier.kneighbors)."
   ]
  },
  {
   "cell_type": "markdown",
   "id": "7e1bcee0-504a-4550-a9fc-c4fc2ec3fc2a",
   "metadata": {},
   "source": [
    "### Practice"
   ]
  },
  {
   "cell_type": "markdown",
   "id": "c7b64092-7361-4e0d-81f4-078ff3595699",
   "metadata": {},
   "source": [
    "Допустим мы хотим модифицировать наш алгоритм так, чтобы объекты, которые находятся рядом с предсказываемым объектом имели больший вес при классификации, чем объекты которые далеки от него. Добавьте  булевый аттрибут **weight_samples** в **KNNClassifier** класс, который сможет учитывать такое поведение. "
   ]
  },
  {
   "cell_type": "code",
   "execution_count": 72,
   "id": "c0de7fde",
   "metadata": {},
   "outputs": [],
   "source": [
    "class KNNWeightClassifier:\n",
    "    def __init__(self, \n",
    "                 k_neighbours: int, \n",
    "                 weight_samples: bool = True, \n",
    "                 metric: str = 'euclidean'):\n",
    "        \n",
    "        self._allowed_metrics = {\n",
    "            'euclidean': lambda x, y: numpy_euclidean_norm(x - y),\n",
    "        }\n",
    "        \n",
    "        assert metric in self._allowed_metrics, f\"Metric should be one of the {self._allowed_metrics.keys()}, got {metric}\"\n",
    "        \n",
    "        self._metric = self._allowed_metrics[metric]\n",
    "        self._k_neighbours = k_neighbours\n",
    "        self._weight_samples = weight_samples\n",
    "        \n",
    "        self._X, self._y = None, None\n",
    "    \n",
    "    def fit(self, X: np.array, y: np.array) -> None:\n",
    "        '''\n",
    "        When fit() method called -- model just saves the Xs and ys\n",
    "        '''\n",
    "        self._X = X\n",
    "        self._y = y\n",
    "        \n",
    "    def predict(self, X: np.array) -> np.array:\n",
    "        '''Non-optimized version (python loop-based)'''\n",
    "        \n",
    "        # Assertion check -- if model is fitted or not\n",
    "        assert (self._X is not None and self._y is not None), f\"Model is not fitted yet!\"\n",
    "        \n",
    "        ys_pred: np.array = np.zeros(shape=(X.shape[0], 1)) # Predictions matrix allocation\n",
    "            \n",
    "        '''\n",
    "        For each sample in X calculate distances to the points in self._X, using the self._metric()\n",
    "        calculate distances and get K nearest points. \n",
    "        '''\n",
    "        for sample_id, X_this in enumerate(X):\n",
    "            distances: List = []\n",
    "            \n",
    "            for train_id, X_other in enumerate(self._X):\n",
    "                distance = self._metric(X_this, X_other)\n",
    "                distances.append({\n",
    "                    'train_id': train_id,\n",
    "                    'distance': distance,\n",
    "                })\n",
    "            sorted_distances: List = self._sort_distances(distances)\n",
    "            y_pred: int = self._get_nearest_class(sorted_distances)\n",
    "            ys_pred[sample_id] = y_pred\n",
    "\n",
    "        return ys_pred\n",
    "     \n",
    "    @staticmethod\n",
    "    def _sort_distances(distances: List, ascending=False) -> List:\n",
    "        return sorted(distances, key=lambda x: x['distance'], reverse=ascending)\n",
    "    \n",
    "    def _get_nearest_class(self, sorted_distances: list) -> int:\n",
    "        ### YOUR CODE HERE...\n",
    "        # Напишите код для получения топа лейблов и расстояний до каждого из топа лейблов\n",
    "        def weight(dist):\n",
    "            return 1 / ((dist + np.finfo(float).eps) ** 2)\n",
    "\n",
    "        dist = [(distance(point, inst), label)\n",
    "                for inst, label in zip(self.x, self.y)]\n",
    "        dist = self.find_k_closest(dist)\n",
    "\n",
    "        label_weight = defaultdict(float)\n",
    "        for d, label in dist:\n",
    "            label_weight[label] += weight(d)\n",
    "        \n",
    "        \n",
    "        predicted_label = self._decision_rule(labels_top_k, distances)\n",
    "        return predicted_label\n",
    "    \n",
    "    @staticmethod\n",
    "    def _decision_rule(labels_top_k: List, distances: List) -> int:\n",
    "        ### YOUR CODE HERE...\n",
    "        # Напишите код для получения предсказания лейбла\n",
    "        max_weight, predicted_label = 0.0, None\n",
    "        for label in labels_top_k:\n",
    "            if labels_top_k[label] > max_weight:\n",
    "                max_weight, predicted_label = labels_top_k[label], label\n",
    "\n",
    "        return predicted_label\n",
    "    \n",
    "    def find_k_closest(self, dist):\n",
    "        min_dist = []\n",
    "        for i in range(self.K):\n",
    "            closest = min(dist, key=itemgetter(0))\n",
    "            min_dist.append(closest)\n",
    "            dist.remove(closest)\n",
    "        return min_dist\n",
    "    \n",
    "    def distance(p1, p2, n=2.0):\n",
    "        return math.sqrt(sum(map(lambda a, b: (a - b) ** n, p1, p2)))"
   ]
  },
  {
   "cell_type": "markdown",
   "id": "6a2fcd46",
   "metadata": {},
   "source": [
    "## Practice со звездочкой*"
   ]
  },
  {
   "cell_type": "markdown",
   "id": "373d47a2",
   "metadata": {},
   "source": [
    "Предположим, что мы хотим выкатить нашу модельку в прод. \n",
    "\n",
    "Пускай теперь нам нужно выяснить, как долго будет выполняться одна итерация предсказания (будем считать, что на обучения у нас не уходит времени, т.к. эта операция выполняется за `О(1)`.\n",
    "\n",
    "Сделаем это: "
   ]
  },
  {
   "cell_type": "code",
   "execution_count": null,
   "id": "27de946b",
   "metadata": {},
   "outputs": [],
   "source": [
    "def test_custom():\n",
    "    knn_clf =  KNNVotingClassifier(6)\n",
    "    knn_clf.fit(X_train, y_train)\n",
    "    knn_clf.predict(X_test)\n",
    "    \n",
    "%timeit -r 4 -n 3000 test_custom()"
   ]
  },
  {
   "cell_type": "markdown",
   "id": "42584986",
   "metadata": {},
   "source": [
    "Видим, что в среднем одна итерация занимает 8.45 миллисекунд. Кажется, что неплохо... Но правда ли неплохо?..\n",
    "\n",
    "Сравнимся с `sklearn`."
   ]
  },
  {
   "cell_type": "code",
   "execution_count": null,
   "id": "5690d72e",
   "metadata": {},
   "outputs": [],
   "source": [
    "def test_sklearn():\n",
    "    knn_clf =  KNeighborsClassifier(6)\n",
    "    knn_clf.fit(X_train, y_train)\n",
    "    knn_clf.predict(X_test)\n",
    "\n",
    "%timeit -r 4 -n 3000 test_sklearn()"
   ]
  },
  {
   "cell_type": "markdown",
   "id": "1d29090d",
   "metadata": {},
   "source": [
    "На первый взгляд могло показаться, что наше решение даже быстрее, чем коробочное, но, если посмотреть внимательнее, то видно, что решение из sklearn работает за **МИКРОСЕКУНДЫ**. Наше же решение дольше на целые порядки.\n",
    "\n",
    "Поэтому, нужно это исправлять."
   ]
  },
  {
   "cell_type": "markdown",
   "id": "85443c3a",
   "metadata": {},
   "source": [
    "Как выше выяснилось, наша реализация является не самой эффективной в плане скорости выполнения и используемой памяти. \n",
    "\n",
    "С помощью [numpy broadcasting](https://numpy.org/doc/stable/user/basics.broadcasting.html) и векторизации вычислимых функций в `numpy`, сделайте реализацию нашего метода `predict()` более эффективной и быстрой. \n",
    "\n",
    "Это может потребовать изменение архитектуры и изменения реализации метода `predict()` полностью.\n",
    "\n",
    "Для простоты, можно ужать функционал и оставить только одну метрику, так как иначе реализация кода для нескольких метрик, или тем более в общем случае для любой кастомной метрики расстояния, сделает решение слишком громоздким и сложным для понимания.\n",
    "\n",
    "В качестве датасета выберите датасет MNIST, а в качестве метрики используйте метрику Фробениуса (Фробениусову норму)."
   ]
  },
  {
   "cell_type": "code",
   "execution_count": 68,
   "id": "722574ad",
   "metadata": {},
   "outputs": [],
   "source": [
    "### YOUR CODE HERE...\n",
    "class OptimizedKNNClassifier(object):\n",
    "    pass"
   ]
  }
 ],
 "metadata": {
  "kernelspec": {
   "display_name": "Python 3 (ipykernel)",
   "language": "python",
   "name": "python3"
  },
  "language_info": {
   "codemirror_mode": {
    "name": "ipython",
    "version": 3
   },
   "file_extension": ".py",
   "mimetype": "text/x-python",
   "name": "python",
   "nbconvert_exporter": "python",
   "pygments_lexer": "ipython3",
   "version": "3.11.5"
  }
 },
 "nbformat": 4,
 "nbformat_minor": 5
}
