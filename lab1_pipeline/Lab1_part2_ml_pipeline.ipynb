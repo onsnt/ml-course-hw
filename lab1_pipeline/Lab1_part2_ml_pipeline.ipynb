{
 "cells": [
  {
   "cell_type": "markdown",
   "metadata": {
    "nbgrader": {
     "grade": false,
     "grade_id": "cell-86e0de040aac317a",
     "locked": true,
     "schema_version": 2,
     "solution": false
    }
   },
   "source": [
    "# Lab assignment №1, part 2\n",
    "\n",
    "This lab assignment consists of several parts. You are supposed to make some transformations, train some models, estimate the quality of the models and explain your results.\n",
    "\n",
    "Several comments:\n",
    "* Don't hesitate to ask questions, it's a good practice.\n",
    "* No private/public sharing, please. The copied assignments will be graded with 0 points.\n",
    "* Blocks of this lab will be graded separately."
   ]
  },
  {
   "cell_type": "markdown",
   "metadata": {},
   "source": [
    "__*This is the second part of the assignment. First and third parts are waiting for you in the same directory.*__"
   ]
  },
  {
   "cell_type": "markdown",
   "metadata": {
    "nbgrader": {
     "grade": false,
     "grade_id": "cell-512ba712fc0fc065",
     "locked": true,
     "schema_version": 2,
     "solution": false
    }
   },
   "source": [
    "## Part 2. Data preprocessing, model training and evaluation."
   ]
  },
  {
   "cell_type": "markdown",
   "metadata": {
    "nbgrader": {
     "grade": false,
     "grade_id": "cell-b656a4266174b009",
     "locked": true,
     "schema_version": 2,
     "solution": false
    }
   },
   "source": [
    "### 1. Reading the data\n",
    "Today we work with the [dataset](https://archive.ics.uci.edu/ml/datasets/Statlog+%28Vehicle+Silhouettes%29), describing different cars for multiclass ($k=4$) classification problem. The data is available below."
   ]
  },
  {
   "cell_type": "code",
   "execution_count": 12,
   "metadata": {},
   "outputs": [],
   "source": [
    "# If on colab, uncomment the following lines\n",
    "\n",
    "# ! wget https://raw.githubusercontent.com/girafe-ai/ml-course/22f_made/homeworks/lab01_ml_pipeline/car_data.csv"
   ]
  },
  {
   "cell_type": "code",
   "execution_count": 13,
   "metadata": {
    "nbgrader": {
     "grade": false,
     "grade_id": "cell-eebac6bfdf73d0bc",
     "locked": true,
     "schema_version": 2,
     "solution": false
    }
   },
   "outputs": [
    {
     "name": "stdout",
     "output_type": "stream",
     "text": [
      "(846, 19) (846,)\n",
      "(549, 19) (549,) (297, 19) (297,)\n"
     ]
    }
   ],
   "source": [
    "import pandas as pd\n",
    "import numpy as np\n",
    "from sklearn.model_selection import train_test_split\n",
    "\n",
    "dataset = pd.read_csv('car_data.csv', delimiter=',', header=None).values\n",
    "data = dataset[:, :-1].astype(int)\n",
    "target = dataset[:, -1]\n",
    "\n",
    "print(data.shape, target.shape)\n",
    "\n",
    "X_train, X_test, y_train, y_test = train_test_split(data, target, test_size=0.35)\n",
    "print(X_train.shape, y_train.shape, X_test.shape, y_test.shape)"
   ]
  },
  {
   "cell_type": "markdown",
   "metadata": {
    "nbgrader": {
     "grade": false,
     "grade_id": "cell-88b1a0f688568f2c",
     "locked": true,
     "schema_version": 2,
     "solution": false
    }
   },
   "source": [
    "To get some insights about the dataset, `pandas` might be used. The `train` part is transformed to `pd.DataFrame` below."
   ]
  },
  {
   "cell_type": "code",
   "execution_count": 14,
   "metadata": {},
   "outputs": [
    {
     "data": {
      "text/html": [
       "<div>\n",
       "<style scoped>\n",
       "    .dataframe tbody tr th:only-of-type {\n",
       "        vertical-align: middle;\n",
       "    }\n",
       "\n",
       "    .dataframe tbody tr th {\n",
       "        vertical-align: top;\n",
       "    }\n",
       "\n",
       "    .dataframe thead th {\n",
       "        text-align: right;\n",
       "    }\n",
       "</style>\n",
       "<table border=\"1\" class=\"dataframe\">\n",
       "  <thead>\n",
       "    <tr style=\"text-align: right;\">\n",
       "      <th></th>\n",
       "      <th>0</th>\n",
       "      <th>1</th>\n",
       "      <th>2</th>\n",
       "      <th>3</th>\n",
       "      <th>4</th>\n",
       "      <th>5</th>\n",
       "      <th>6</th>\n",
       "      <th>7</th>\n",
       "      <th>8</th>\n",
       "      <th>9</th>\n",
       "      <th>10</th>\n",
       "      <th>11</th>\n",
       "      <th>12</th>\n",
       "      <th>13</th>\n",
       "      <th>14</th>\n",
       "      <th>15</th>\n",
       "      <th>16</th>\n",
       "      <th>17</th>\n",
       "      <th>18</th>\n",
       "    </tr>\n",
       "  </thead>\n",
       "  <tbody>\n",
       "    <tr>\n",
       "      <th>0</th>\n",
       "      <td>749</td>\n",
       "      <td>93</td>\n",
       "      <td>51</td>\n",
       "      <td>90</td>\n",
       "      <td>209</td>\n",
       "      <td>69</td>\n",
       "      <td>8</td>\n",
       "      <td>183</td>\n",
       "      <td>36</td>\n",
       "      <td>22</td>\n",
       "      <td>156</td>\n",
       "      <td>211</td>\n",
       "      <td>506</td>\n",
       "      <td>230</td>\n",
       "      <td>70</td>\n",
       "      <td>6</td>\n",
       "      <td>1</td>\n",
       "      <td>189</td>\n",
       "      <td>196</td>\n",
       "    </tr>\n",
       "    <tr>\n",
       "      <th>1</th>\n",
       "      <td>831</td>\n",
       "      <td>100</td>\n",
       "      <td>47</td>\n",
       "      <td>70</td>\n",
       "      <td>185</td>\n",
       "      <td>70</td>\n",
       "      <td>7</td>\n",
       "      <td>162</td>\n",
       "      <td>40</td>\n",
       "      <td>20</td>\n",
       "      <td>153</td>\n",
       "      <td>179</td>\n",
       "      <td>406</td>\n",
       "      <td>172</td>\n",
       "      <td>68</td>\n",
       "      <td>9</td>\n",
       "      <td>6</td>\n",
       "      <td>200</td>\n",
       "      <td>205</td>\n",
       "    </tr>\n",
       "    <tr>\n",
       "      <th>2</th>\n",
       "      <td>673</td>\n",
       "      <td>91</td>\n",
       "      <td>35</td>\n",
       "      <td>66</td>\n",
       "      <td>159</td>\n",
       "      <td>59</td>\n",
       "      <td>7</td>\n",
       "      <td>147</td>\n",
       "      <td>45</td>\n",
       "      <td>19</td>\n",
       "      <td>131</td>\n",
       "      <td>169</td>\n",
       "      <td>322</td>\n",
       "      <td>123</td>\n",
       "      <td>64</td>\n",
       "      <td>1</td>\n",
       "      <td>1</td>\n",
       "      <td>197</td>\n",
       "      <td>203</td>\n",
       "    </tr>\n",
       "    <tr>\n",
       "      <th>3</th>\n",
       "      <td>745</td>\n",
       "      <td>85</td>\n",
       "      <td>43</td>\n",
       "      <td>69</td>\n",
       "      <td>141</td>\n",
       "      <td>62</td>\n",
       "      <td>7</td>\n",
       "      <td>152</td>\n",
       "      <td>44</td>\n",
       "      <td>19</td>\n",
       "      <td>145</td>\n",
       "      <td>178</td>\n",
       "      <td>341</td>\n",
       "      <td>179</td>\n",
       "      <td>84</td>\n",
       "      <td>1</td>\n",
       "      <td>4</td>\n",
       "      <td>181</td>\n",
       "      <td>184</td>\n",
       "    </tr>\n",
       "    <tr>\n",
       "      <th>4</th>\n",
       "      <td>401</td>\n",
       "      <td>85</td>\n",
       "      <td>37</td>\n",
       "      <td>80</td>\n",
       "      <td>158</td>\n",
       "      <td>59</td>\n",
       "      <td>8</td>\n",
       "      <td>153</td>\n",
       "      <td>44</td>\n",
       "      <td>19</td>\n",
       "      <td>126</td>\n",
       "      <td>179</td>\n",
       "      <td>348</td>\n",
       "      <td>136</td>\n",
       "      <td>69</td>\n",
       "      <td>6</td>\n",
       "      <td>21</td>\n",
       "      <td>191</td>\n",
       "      <td>197</td>\n",
       "    </tr>\n",
       "    <tr>\n",
       "      <th>5</th>\n",
       "      <td>493</td>\n",
       "      <td>102</td>\n",
       "      <td>54</td>\n",
       "      <td>98</td>\n",
       "      <td>177</td>\n",
       "      <td>56</td>\n",
       "      <td>10</td>\n",
       "      <td>219</td>\n",
       "      <td>31</td>\n",
       "      <td>25</td>\n",
       "      <td>171</td>\n",
       "      <td>219</td>\n",
       "      <td>706</td>\n",
       "      <td>223</td>\n",
       "      <td>72</td>\n",
       "      <td>5</td>\n",
       "      <td>17</td>\n",
       "      <td>186</td>\n",
       "      <td>196</td>\n",
       "    </tr>\n",
       "    <tr>\n",
       "      <th>6</th>\n",
       "      <td>434</td>\n",
       "      <td>104</td>\n",
       "      <td>51</td>\n",
       "      <td>105</td>\n",
       "      <td>168</td>\n",
       "      <td>54</td>\n",
       "      <td>10</td>\n",
       "      <td>208</td>\n",
       "      <td>32</td>\n",
       "      <td>24</td>\n",
       "      <td>162</td>\n",
       "      <td>220</td>\n",
       "      <td>641</td>\n",
       "      <td>221</td>\n",
       "      <td>72</td>\n",
       "      <td>9</td>\n",
       "      <td>20</td>\n",
       "      <td>187</td>\n",
       "      <td>197</td>\n",
       "    </tr>\n",
       "    <tr>\n",
       "      <th>7</th>\n",
       "      <td>826</td>\n",
       "      <td>95</td>\n",
       "      <td>49</td>\n",
       "      <td>92</td>\n",
       "      <td>193</td>\n",
       "      <td>62</td>\n",
       "      <td>10</td>\n",
       "      <td>178</td>\n",
       "      <td>37</td>\n",
       "      <td>21</td>\n",
       "      <td>154</td>\n",
       "      <td>200</td>\n",
       "      <td>478</td>\n",
       "      <td>171</td>\n",
       "      <td>64</td>\n",
       "      <td>2</td>\n",
       "      <td>0</td>\n",
       "      <td>198</td>\n",
       "      <td>206</td>\n",
       "    </tr>\n",
       "    <tr>\n",
       "      <th>8</th>\n",
       "      <td>183</td>\n",
       "      <td>84</td>\n",
       "      <td>35</td>\n",
       "      <td>53</td>\n",
       "      <td>122</td>\n",
       "      <td>57</td>\n",
       "      <td>4</td>\n",
       "      <td>116</td>\n",
       "      <td>59</td>\n",
       "      <td>17</td>\n",
       "      <td>123</td>\n",
       "      <td>135</td>\n",
       "      <td>196</td>\n",
       "      <td>128</td>\n",
       "      <td>76</td>\n",
       "      <td>10</td>\n",
       "      <td>27</td>\n",
       "      <td>183</td>\n",
       "      <td>190</td>\n",
       "    </tr>\n",
       "    <tr>\n",
       "      <th>9</th>\n",
       "      <td>272</td>\n",
       "      <td>91</td>\n",
       "      <td>43</td>\n",
       "      <td>88</td>\n",
       "      <td>157</td>\n",
       "      <td>61</td>\n",
       "      <td>9</td>\n",
       "      <td>149</td>\n",
       "      <td>45</td>\n",
       "      <td>19</td>\n",
       "      <td>157</td>\n",
       "      <td>165</td>\n",
       "      <td>326</td>\n",
       "      <td>140</td>\n",
       "      <td>64</td>\n",
       "      <td>1</td>\n",
       "      <td>26</td>\n",
       "      <td>197</td>\n",
       "      <td>207</td>\n",
       "    </tr>\n",
       "    <tr>\n",
       "      <th>10</th>\n",
       "      <td>291</td>\n",
       "      <td>89</td>\n",
       "      <td>45</td>\n",
       "      <td>81</td>\n",
       "      <td>246</td>\n",
       "      <td>102</td>\n",
       "      <td>43</td>\n",
       "      <td>155</td>\n",
       "      <td>44</td>\n",
       "      <td>20</td>\n",
       "      <td>160</td>\n",
       "      <td>200</td>\n",
       "      <td>347</td>\n",
       "      <td>177</td>\n",
       "      <td>90</td>\n",
       "      <td>9</td>\n",
       "      <td>17</td>\n",
       "      <td>183</td>\n",
       "      <td>192</td>\n",
       "    </tr>\n",
       "    <tr>\n",
       "      <th>11</th>\n",
       "      <td>50</td>\n",
       "      <td>78</td>\n",
       "      <td>38</td>\n",
       "      <td>63</td>\n",
       "      <td>115</td>\n",
       "      <td>51</td>\n",
       "      <td>6</td>\n",
       "      <td>142</td>\n",
       "      <td>47</td>\n",
       "      <td>19</td>\n",
       "      <td>130</td>\n",
       "      <td>162</td>\n",
       "      <td>299</td>\n",
       "      <td>146</td>\n",
       "      <td>77</td>\n",
       "      <td>2</td>\n",
       "      <td>4</td>\n",
       "      <td>181</td>\n",
       "      <td>185</td>\n",
       "    </tr>\n",
       "    <tr>\n",
       "      <th>12</th>\n",
       "      <td>343</td>\n",
       "      <td>102</td>\n",
       "      <td>54</td>\n",
       "      <td>101</td>\n",
       "      <td>190</td>\n",
       "      <td>58</td>\n",
       "      <td>10</td>\n",
       "      <td>222</td>\n",
       "      <td>30</td>\n",
       "      <td>25</td>\n",
       "      <td>171</td>\n",
       "      <td>224</td>\n",
       "      <td>728</td>\n",
       "      <td>203</td>\n",
       "      <td>71</td>\n",
       "      <td>13</td>\n",
       "      <td>6</td>\n",
       "      <td>189</td>\n",
       "      <td>198</td>\n",
       "    </tr>\n",
       "    <tr>\n",
       "      <th>13</th>\n",
       "      <td>186</td>\n",
       "      <td>91</td>\n",
       "      <td>42</td>\n",
       "      <td>81</td>\n",
       "      <td>193</td>\n",
       "      <td>69</td>\n",
       "      <td>5</td>\n",
       "      <td>169</td>\n",
       "      <td>38</td>\n",
       "      <td>20</td>\n",
       "      <td>137</td>\n",
       "      <td>184</td>\n",
       "      <td>434</td>\n",
       "      <td>156</td>\n",
       "      <td>68</td>\n",
       "      <td>3</td>\n",
       "      <td>23</td>\n",
       "      <td>198</td>\n",
       "      <td>204</td>\n",
       "    </tr>\n",
       "    <tr>\n",
       "      <th>14</th>\n",
       "      <td>675</td>\n",
       "      <td>100</td>\n",
       "      <td>58</td>\n",
       "      <td>109</td>\n",
       "      <td>230</td>\n",
       "      <td>70</td>\n",
       "      <td>11</td>\n",
       "      <td>226</td>\n",
       "      <td>30</td>\n",
       "      <td>25</td>\n",
       "      <td>182</td>\n",
       "      <td>234</td>\n",
       "      <td>752</td>\n",
       "      <td>207</td>\n",
       "      <td>72</td>\n",
       "      <td>0</td>\n",
       "      <td>13</td>\n",
       "      <td>187</td>\n",
       "      <td>198</td>\n",
       "    </tr>\n",
       "  </tbody>\n",
       "</table>\n",
       "</div>"
      ],
      "text/plain": [
       "     0    1   2    3    4    5   6    7   8   9    10   11   12   13  14  15  \\\n",
       "0   749   93  51   90  209   69   8  183  36  22  156  211  506  230  70   6   \n",
       "1   831  100  47   70  185   70   7  162  40  20  153  179  406  172  68   9   \n",
       "2   673   91  35   66  159   59   7  147  45  19  131  169  322  123  64   1   \n",
       "3   745   85  43   69  141   62   7  152  44  19  145  178  341  179  84   1   \n",
       "4   401   85  37   80  158   59   8  153  44  19  126  179  348  136  69   6   \n",
       "5   493  102  54   98  177   56  10  219  31  25  171  219  706  223  72   5   \n",
       "6   434  104  51  105  168   54  10  208  32  24  162  220  641  221  72   9   \n",
       "7   826   95  49   92  193   62  10  178  37  21  154  200  478  171  64   2   \n",
       "8   183   84  35   53  122   57   4  116  59  17  123  135  196  128  76  10   \n",
       "9   272   91  43   88  157   61   9  149  45  19  157  165  326  140  64   1   \n",
       "10  291   89  45   81  246  102  43  155  44  20  160  200  347  177  90   9   \n",
       "11   50   78  38   63  115   51   6  142  47  19  130  162  299  146  77   2   \n",
       "12  343  102  54  101  190   58  10  222  30  25  171  224  728  203  71  13   \n",
       "13  186   91  42   81  193   69   5  169  38  20  137  184  434  156  68   3   \n",
       "14  675  100  58  109  230   70  11  226  30  25  182  234  752  207  72   0   \n",
       "\n",
       "    16   17   18  \n",
       "0    1  189  196  \n",
       "1    6  200  205  \n",
       "2    1  197  203  \n",
       "3    4  181  184  \n",
       "4   21  191  197  \n",
       "5   17  186  196  \n",
       "6   20  187  197  \n",
       "7    0  198  206  \n",
       "8   27  183  190  \n",
       "9   26  197  207  \n",
       "10  17  183  192  \n",
       "11   4  181  185  \n",
       "12   6  189  198  \n",
       "13  23  198  204  \n",
       "14  13  187  198  "
      ]
     },
     "execution_count": 14,
     "metadata": {},
     "output_type": "execute_result"
    }
   ],
   "source": [
    "X_train_pd = pd.DataFrame(X_train)\n",
    "\n",
    "# First 15 rows of our dataset.\n",
    "X_train_pd.head(15)"
   ]
  },
  {
   "cell_type": "markdown",
   "metadata": {
    "nbgrader": {
     "grade": false,
     "grade_id": "cell-98e7d91d77d65fcf",
     "locked": true,
     "schema_version": 2,
     "solution": false
    }
   },
   "source": [
    "Methods `describe` and `info` deliver some useful information."
   ]
  },
  {
   "cell_type": "code",
   "execution_count": 15,
   "metadata": {},
   "outputs": [
    {
     "data": {
      "text/html": [
       "<div>\n",
       "<style scoped>\n",
       "    .dataframe tbody tr th:only-of-type {\n",
       "        vertical-align: middle;\n",
       "    }\n",
       "\n",
       "    .dataframe tbody tr th {\n",
       "        vertical-align: top;\n",
       "    }\n",
       "\n",
       "    .dataframe thead th {\n",
       "        text-align: right;\n",
       "    }\n",
       "</style>\n",
       "<table border=\"1\" class=\"dataframe\">\n",
       "  <thead>\n",
       "    <tr style=\"text-align: right;\">\n",
       "      <th></th>\n",
       "      <th>0</th>\n",
       "      <th>1</th>\n",
       "      <th>2</th>\n",
       "      <th>3</th>\n",
       "      <th>4</th>\n",
       "      <th>5</th>\n",
       "      <th>6</th>\n",
       "      <th>7</th>\n",
       "      <th>8</th>\n",
       "      <th>9</th>\n",
       "      <th>10</th>\n",
       "      <th>11</th>\n",
       "      <th>12</th>\n",
       "      <th>13</th>\n",
       "      <th>14</th>\n",
       "      <th>15</th>\n",
       "      <th>16</th>\n",
       "      <th>17</th>\n",
       "      <th>18</th>\n",
       "    </tr>\n",
       "  </thead>\n",
       "  <tbody>\n",
       "    <tr>\n",
       "      <th>count</th>\n",
       "      <td>549.000000</td>\n",
       "      <td>549.000000</td>\n",
       "      <td>549.000000</td>\n",
       "      <td>549.000000</td>\n",
       "      <td>549.000000</td>\n",
       "      <td>549.000000</td>\n",
       "      <td>549.000000</td>\n",
       "      <td>549.000000</td>\n",
       "      <td>549.000000</td>\n",
       "      <td>549.000000</td>\n",
       "      <td>549.000000</td>\n",
       "      <td>549.000000</td>\n",
       "      <td>549.000000</td>\n",
       "      <td>549.000000</td>\n",
       "      <td>549.000000</td>\n",
       "      <td>549.000000</td>\n",
       "      <td>549.000000</td>\n",
       "      <td>549.000000</td>\n",
       "      <td>549.000000</td>\n",
       "    </tr>\n",
       "    <tr>\n",
       "      <th>mean</th>\n",
       "      <td>429.916211</td>\n",
       "      <td>93.781421</td>\n",
       "      <td>45.094718</td>\n",
       "      <td>82.677596</td>\n",
       "      <td>169.919854</td>\n",
       "      <td>61.837887</td>\n",
       "      <td>8.575592</td>\n",
       "      <td>170.153005</td>\n",
       "      <td>40.601093</td>\n",
       "      <td>20.686703</td>\n",
       "      <td>148.604736</td>\n",
       "      <td>189.925319</td>\n",
       "      <td>446.533698</td>\n",
       "      <td>175.524590</td>\n",
       "      <td>72.644809</td>\n",
       "      <td>6.455373</td>\n",
       "      <td>12.253188</td>\n",
       "      <td>188.888889</td>\n",
       "      <td>195.504554</td>\n",
       "    </tr>\n",
       "    <tr>\n",
       "      <th>std</th>\n",
       "      <td>245.306564</td>\n",
       "      <td>8.274683</td>\n",
       "      <td>6.089220</td>\n",
       "      <td>15.663427</td>\n",
       "      <td>33.817740</td>\n",
       "      <td>8.105888</td>\n",
       "      <td>4.803457</td>\n",
       "      <td>33.389133</td>\n",
       "      <td>7.684903</td>\n",
       "      <td>2.622931</td>\n",
       "      <td>14.313055</td>\n",
       "      <td>31.868111</td>\n",
       "      <td>179.348449</td>\n",
       "      <td>32.253583</td>\n",
       "      <td>7.626517</td>\n",
       "      <td>5.082559</td>\n",
       "      <td>8.702274</td>\n",
       "      <td>6.231575</td>\n",
       "      <td>7.516313</td>\n",
       "    </tr>\n",
       "    <tr>\n",
       "      <th>min</th>\n",
       "      <td>0.000000</td>\n",
       "      <td>76.000000</td>\n",
       "      <td>33.000000</td>\n",
       "      <td>42.000000</td>\n",
       "      <td>104.000000</td>\n",
       "      <td>47.000000</td>\n",
       "      <td>3.000000</td>\n",
       "      <td>114.000000</td>\n",
       "      <td>26.000000</td>\n",
       "      <td>17.000000</td>\n",
       "      <td>118.000000</td>\n",
       "      <td>131.000000</td>\n",
       "      <td>191.000000</td>\n",
       "      <td>109.000000</td>\n",
       "      <td>59.000000</td>\n",
       "      <td>0.000000</td>\n",
       "      <td>0.000000</td>\n",
       "      <td>176.000000</td>\n",
       "      <td>181.000000</td>\n",
       "    </tr>\n",
       "    <tr>\n",
       "      <th>25%</th>\n",
       "      <td>221.000000</td>\n",
       "      <td>87.000000</td>\n",
       "      <td>40.000000</td>\n",
       "      <td>70.000000</td>\n",
       "      <td>141.000000</td>\n",
       "      <td>57.000000</td>\n",
       "      <td>6.000000</td>\n",
       "      <td>147.000000</td>\n",
       "      <td>33.000000</td>\n",
       "      <td>19.000000</td>\n",
       "      <td>138.000000</td>\n",
       "      <td>168.000000</td>\n",
       "      <td>321.000000</td>\n",
       "      <td>151.000000</td>\n",
       "      <td>67.000000</td>\n",
       "      <td>2.000000</td>\n",
       "      <td>5.000000</td>\n",
       "      <td>184.000000</td>\n",
       "      <td>190.000000</td>\n",
       "    </tr>\n",
       "    <tr>\n",
       "      <th>50%</th>\n",
       "      <td>438.000000</td>\n",
       "      <td>93.000000</td>\n",
       "      <td>44.000000</td>\n",
       "      <td>80.000000</td>\n",
       "      <td>168.000000</td>\n",
       "      <td>61.000000</td>\n",
       "      <td>8.000000</td>\n",
       "      <td>158.000000</td>\n",
       "      <td>43.000000</td>\n",
       "      <td>20.000000</td>\n",
       "      <td>147.000000</td>\n",
       "      <td>179.000000</td>\n",
       "      <td>366.000000</td>\n",
       "      <td>174.000000</td>\n",
       "      <td>72.000000</td>\n",
       "      <td>6.000000</td>\n",
       "      <td>11.000000</td>\n",
       "      <td>189.000000</td>\n",
       "      <td>197.000000</td>\n",
       "    </tr>\n",
       "    <tr>\n",
       "      <th>75%</th>\n",
       "      <td>642.000000</td>\n",
       "      <td>100.000000</td>\n",
       "      <td>50.000000</td>\n",
       "      <td>98.000000</td>\n",
       "      <td>197.000000</td>\n",
       "      <td>65.000000</td>\n",
       "      <td>10.000000</td>\n",
       "      <td>200.000000</td>\n",
       "      <td>46.000000</td>\n",
       "      <td>23.000000</td>\n",
       "      <td>160.000000</td>\n",
       "      <td>217.000000</td>\n",
       "      <td>595.000000</td>\n",
       "      <td>198.000000</td>\n",
       "      <td>76.000000</td>\n",
       "      <td>10.000000</td>\n",
       "      <td>18.000000</td>\n",
       "      <td>193.000000</td>\n",
       "      <td>201.000000</td>\n",
       "    </tr>\n",
       "    <tr>\n",
       "      <th>max</th>\n",
       "      <td>843.000000</td>\n",
       "      <td>119.000000</td>\n",
       "      <td>59.000000</td>\n",
       "      <td>112.000000</td>\n",
       "      <td>333.000000</td>\n",
       "      <td>138.000000</td>\n",
       "      <td>55.000000</td>\n",
       "      <td>265.000000</td>\n",
       "      <td>59.000000</td>\n",
       "      <td>29.000000</td>\n",
       "      <td>188.000000</td>\n",
       "      <td>320.000000</td>\n",
       "      <td>1018.000000</td>\n",
       "      <td>268.000000</td>\n",
       "      <td>135.000000</td>\n",
       "      <td>22.000000</td>\n",
       "      <td>41.000000</td>\n",
       "      <td>206.000000</td>\n",
       "      <td>211.000000</td>\n",
       "    </tr>\n",
       "  </tbody>\n",
       "</table>\n",
       "</div>"
      ],
      "text/plain": [
       "               0           1           2           3           4           5   \\\n",
       "count  549.000000  549.000000  549.000000  549.000000  549.000000  549.000000   \n",
       "mean   429.916211   93.781421   45.094718   82.677596  169.919854   61.837887   \n",
       "std    245.306564    8.274683    6.089220   15.663427   33.817740    8.105888   \n",
       "min      0.000000   76.000000   33.000000   42.000000  104.000000   47.000000   \n",
       "25%    221.000000   87.000000   40.000000   70.000000  141.000000   57.000000   \n",
       "50%    438.000000   93.000000   44.000000   80.000000  168.000000   61.000000   \n",
       "75%    642.000000  100.000000   50.000000   98.000000  197.000000   65.000000   \n",
       "max    843.000000  119.000000   59.000000  112.000000  333.000000  138.000000   \n",
       "\n",
       "               6           7           8           9           10          11  \\\n",
       "count  549.000000  549.000000  549.000000  549.000000  549.000000  549.000000   \n",
       "mean     8.575592  170.153005   40.601093   20.686703  148.604736  189.925319   \n",
       "std      4.803457   33.389133    7.684903    2.622931   14.313055   31.868111   \n",
       "min      3.000000  114.000000   26.000000   17.000000  118.000000  131.000000   \n",
       "25%      6.000000  147.000000   33.000000   19.000000  138.000000  168.000000   \n",
       "50%      8.000000  158.000000   43.000000   20.000000  147.000000  179.000000   \n",
       "75%     10.000000  200.000000   46.000000   23.000000  160.000000  217.000000   \n",
       "max     55.000000  265.000000   59.000000   29.000000  188.000000  320.000000   \n",
       "\n",
       "                12          13          14          15          16  \\\n",
       "count   549.000000  549.000000  549.000000  549.000000  549.000000   \n",
       "mean    446.533698  175.524590   72.644809    6.455373   12.253188   \n",
       "std     179.348449   32.253583    7.626517    5.082559    8.702274   \n",
       "min     191.000000  109.000000   59.000000    0.000000    0.000000   \n",
       "25%     321.000000  151.000000   67.000000    2.000000    5.000000   \n",
       "50%     366.000000  174.000000   72.000000    6.000000   11.000000   \n",
       "75%     595.000000  198.000000   76.000000   10.000000   18.000000   \n",
       "max    1018.000000  268.000000  135.000000   22.000000   41.000000   \n",
       "\n",
       "               17          18  \n",
       "count  549.000000  549.000000  \n",
       "mean   188.888889  195.504554  \n",
       "std      6.231575    7.516313  \n",
       "min    176.000000  181.000000  \n",
       "25%    184.000000  190.000000  \n",
       "50%    189.000000  197.000000  \n",
       "75%    193.000000  201.000000  \n",
       "max    206.000000  211.000000  "
      ]
     },
     "execution_count": 15,
     "metadata": {},
     "output_type": "execute_result"
    }
   ],
   "source": [
    "X_train_pd.describe()"
   ]
  },
  {
   "cell_type": "code",
   "execution_count": 16,
   "metadata": {},
   "outputs": [
    {
     "name": "stdout",
     "output_type": "stream",
     "text": [
      "<class 'pandas.core.frame.DataFrame'>\n",
      "RangeIndex: 549 entries, 0 to 548\n",
      "Data columns (total 19 columns):\n",
      " #   Column  Non-Null Count  Dtype\n",
      "---  ------  --------------  -----\n",
      " 0   0       549 non-null    int32\n",
      " 1   1       549 non-null    int32\n",
      " 2   2       549 non-null    int32\n",
      " 3   3       549 non-null    int32\n",
      " 4   4       549 non-null    int32\n",
      " 5   5       549 non-null    int32\n",
      " 6   6       549 non-null    int32\n",
      " 7   7       549 non-null    int32\n",
      " 8   8       549 non-null    int32\n",
      " 9   9       549 non-null    int32\n",
      " 10  10      549 non-null    int32\n",
      " 11  11      549 non-null    int32\n",
      " 12  12      549 non-null    int32\n",
      " 13  13      549 non-null    int32\n",
      " 14  14      549 non-null    int32\n",
      " 15  15      549 non-null    int32\n",
      " 16  16      549 non-null    int32\n",
      " 17  17      549 non-null    int32\n",
      " 18  18      549 non-null    int32\n",
      "dtypes: int32(19)\n",
      "memory usage: 40.9 KB\n"
     ]
    }
   ],
   "source": [
    "X_train_pd.info()"
   ]
  },
  {
   "cell_type": "markdown",
   "metadata": {
    "nbgrader": {
     "grade": false,
     "grade_id": "cell-be844269be69c387",
     "locked": true,
     "schema_version": 2,
     "solution": false
    }
   },
   "source": [
    "### 2. Machine Learning pipeline\n",
    "Here you are supposed to perform the desired transformations. Please, explain your results briefly after each task."
   ]
  },
  {
   "cell_type": "markdown",
   "metadata": {},
   "source": [
    "#### 2.0. Data preprocessing\n",
    "* Make some transformations of the dataset (if necessary). Briefly explain the transformations"
   ]
  },
  {
   "cell_type": "code",
   "execution_count": 17,
   "metadata": {
    "nbgrader": {
     "grade": true,
     "grade_id": "cell-a1514aa189a49fca",
     "locked": false,
     "points": 15,
     "schema_version": 2,
     "solution": true
    }
   },
   "outputs": [],
   "source": [
    "### YOUR CODE HERE\n",
    "filtered_dataset = np.ndarray((0, dataset.shape[1]))\n",
    "for datarow in dataset:\n",
    "    # Визуально в 14 колонке есть выбросы со слишком большим значением (118)\n",
    "    if datarow[14] < 100:\n",
    "        filtered_dataset = np.vstack((filtered_dataset,datarow))\n",
    "\n",
    "#Убираем 0 столбец, т.к. он содержит порядковые номера, а не существенные признаки\n",
    "filtered_dataset = np.delete(filtered_dataset,0,axis=1)\n",
    "data = dataset[:, :-1].astype(int)\n",
    "target = dataset[:, -1]\n",
    "X_train, X_test, y_train, y_test = train_test_split(data, target, test_size=0.35)"
   ]
  },
  {
   "cell_type": "markdown",
   "metadata": {},
   "source": [
    "#### 2.1. Basic logistic regression\n",
    "* Find optimal hyperparameters for logistic regression with cross-validation on the `train` data (small grid/random search is enough, no need to find the *best* parameters).\n",
    "\n",
    "* Estimate the model quality with `f1` and `accuracy` scores.\n",
    "* Plot a ROC-curve for the trained model. For the multiclass case you might use `scikitplot` library (e.g. `scikitplot.metrics.plot_roc(test_labels, predicted_proba)`).\n",
    "\n",
    "*Note: please, use the following hyperparameters for logistic regression: `multi_class='multinomial'`, `solver='saga'` `tol=1e-3` and ` max_iter=500`.*"
   ]
  },
  {
   "cell_type": "code",
   "execution_count": 41,
   "metadata": {
    "nbgrader": {
     "grade": true,
     "grade_id": "cell-1dd5ad5d0845cbbb",
     "locked": false,
     "points": 5,
     "schema_version": 2,
     "solution": true
    }
   },
   "outputs": [
    {
     "name": "stderr",
     "output_type": "stream",
     "text": [
      "c:\\Anaconda3\\lib\\site-packages\\sklearn\\linear_model\\_sag.py:352: ConvergenceWarning: The max_iter was reached which means the coef_ did not converge\n",
      "  warnings.warn(\n",
      "c:\\Anaconda3\\lib\\site-packages\\sklearn\\linear_model\\_sag.py:352: ConvergenceWarning: The max_iter was reached which means the coef_ did not converge\n",
      "  warnings.warn(\n",
      "c:\\Anaconda3\\lib\\site-packages\\sklearn\\linear_model\\_sag.py:352: ConvergenceWarning: The max_iter was reached which means the coef_ did not converge\n",
      "  warnings.warn(\n",
      "c:\\Anaconda3\\lib\\site-packages\\sklearn\\linear_model\\_sag.py:352: ConvergenceWarning: The max_iter was reached which means the coef_ did not converge\n",
      "  warnings.warn(\n",
      "c:\\Anaconda3\\lib\\site-packages\\sklearn\\linear_model\\_sag.py:352: ConvergenceWarning: The max_iter was reached which means the coef_ did not converge\n",
      "  warnings.warn(\n",
      "c:\\Anaconda3\\lib\\site-packages\\sklearn\\linear_model\\_sag.py:352: ConvergenceWarning: The max_iter was reached which means the coef_ did not converge\n",
      "  warnings.warn(\n",
      "c:\\Anaconda3\\lib\\site-packages\\sklearn\\linear_model\\_sag.py:352: ConvergenceWarning: The max_iter was reached which means the coef_ did not converge\n",
      "  warnings.warn(\n",
      "c:\\Anaconda3\\lib\\site-packages\\sklearn\\linear_model\\_sag.py:352: ConvergenceWarning: The max_iter was reached which means the coef_ did not converge\n",
      "  warnings.warn(\n",
      "c:\\Anaconda3\\lib\\site-packages\\sklearn\\linear_model\\_sag.py:352: ConvergenceWarning: The max_iter was reached which means the coef_ did not converge\n",
      "  warnings.warn(\n",
      "c:\\Anaconda3\\lib\\site-packages\\sklearn\\linear_model\\_sag.py:352: ConvergenceWarning: The max_iter was reached which means the coef_ did not converge\n",
      "  warnings.warn(\n",
      "c:\\Anaconda3\\lib\\site-packages\\sklearn\\linear_model\\_sag.py:352: ConvergenceWarning: The max_iter was reached which means the coef_ did not converge\n",
      "  warnings.warn(\n",
      "c:\\Anaconda3\\lib\\site-packages\\sklearn\\linear_model\\_sag.py:352: ConvergenceWarning: The max_iter was reached which means the coef_ did not converge\n",
      "  warnings.warn(\n",
      "c:\\Anaconda3\\lib\\site-packages\\sklearn\\linear_model\\_sag.py:352: ConvergenceWarning: The max_iter was reached which means the coef_ did not converge\n",
      "  warnings.warn(\n",
      "c:\\Anaconda3\\lib\\site-packages\\sklearn\\linear_model\\_sag.py:352: ConvergenceWarning: The max_iter was reached which means the coef_ did not converge\n",
      "  warnings.warn(\n",
      "c:\\Anaconda3\\lib\\site-packages\\sklearn\\linear_model\\_sag.py:352: ConvergenceWarning: The max_iter was reached which means the coef_ did not converge\n",
      "  warnings.warn(\n",
      "c:\\Anaconda3\\lib\\site-packages\\sklearn\\linear_model\\_sag.py:352: ConvergenceWarning: The max_iter was reached which means the coef_ did not converge\n",
      "  warnings.warn(\n",
      "c:\\Anaconda3\\lib\\site-packages\\sklearn\\linear_model\\_sag.py:352: ConvergenceWarning: The max_iter was reached which means the coef_ did not converge\n",
      "  warnings.warn(\n",
      "c:\\Anaconda3\\lib\\site-packages\\sklearn\\linear_model\\_sag.py:352: ConvergenceWarning: The max_iter was reached which means the coef_ did not converge\n",
      "  warnings.warn(\n",
      "c:\\Anaconda3\\lib\\site-packages\\sklearn\\linear_model\\_sag.py:352: ConvergenceWarning: The max_iter was reached which means the coef_ did not converge\n",
      "  warnings.warn(\n",
      "c:\\Anaconda3\\lib\\site-packages\\sklearn\\linear_model\\_sag.py:352: ConvergenceWarning: The max_iter was reached which means the coef_ did not converge\n",
      "  warnings.warn(\n",
      "c:\\Anaconda3\\lib\\site-packages\\sklearn\\linear_model\\_sag.py:352: ConvergenceWarning: The max_iter was reached which means the coef_ did not converge\n",
      "  warnings.warn(\n",
      "c:\\Anaconda3\\lib\\site-packages\\sklearn\\linear_model\\_sag.py:352: ConvergenceWarning: The max_iter was reached which means the coef_ did not converge\n",
      "  warnings.warn(\n",
      "c:\\Anaconda3\\lib\\site-packages\\sklearn\\linear_model\\_sag.py:352: ConvergenceWarning: The max_iter was reached which means the coef_ did not converge\n",
      "  warnings.warn(\n",
      "c:\\Anaconda3\\lib\\site-packages\\sklearn\\linear_model\\_sag.py:352: ConvergenceWarning: The max_iter was reached which means the coef_ did not converge\n",
      "  warnings.warn(\n",
      "c:\\Anaconda3\\lib\\site-packages\\sklearn\\linear_model\\_sag.py:352: ConvergenceWarning: The max_iter was reached which means the coef_ did not converge\n",
      "  warnings.warn(\n",
      "c:\\Anaconda3\\lib\\site-packages\\sklearn\\linear_model\\_sag.py:352: ConvergenceWarning: The max_iter was reached which means the coef_ did not converge\n",
      "  warnings.warn(\n"
     ]
    }
   ],
   "source": [
    "### YOUR CODE HERE\n",
    "from sklearn.linear_model import LogisticRegression\n",
    "from sklearn.model_selection import GridSearchCV\n",
    "from sklearn.metrics import f1_score\n",
    "from sklearn.metrics import balanced_accuracy_score\n",
    "\n",
    "log_reg = LogisticRegression(multi_class='multinomial', solver='saga', tol=1e-3, max_iter=500)\n",
    "\n",
    "parameters = {'C':np.linspace(1,10,5)}\n",
    "grid_clf = GridSearchCV(log_reg, parameters, scoring=['f1_micro', 'accuracy'], refit='accuracy')\n",
    "grid_clf.fit(X_train, y_train)\n",
    "y_probas = grid_clf.predict_proba(X_test)"
   ]
  },
  {
   "cell_type": "code",
   "execution_count": 19,
   "metadata": {},
   "outputs": [
    {
     "data": {
      "text/plain": [
       "<AxesSubplot:title={'center':'ROC Curves'}, xlabel='False Positive Rate', ylabel='True Positive Rate'>"
      ]
     },
     "execution_count": 19,
     "metadata": {},
     "output_type": "execute_result"
    },
    {
     "data": {
      "image/png": "[encoded data removed]",
      "text/plain": [
       "<Figure size 640x480 with 1 Axes>"
      ]
     },
     "metadata": {},
     "output_type": "display_data"
    }
   ],
   "source": [
    "# You might use this command to install scikit-plot. \n",
    "# Warning, if you a running locally, don't call pip from within jupyter, call it from terminal in the corresponding \n",
    "# virtual environment instead\n",
    "import scikitplot as skplt\n",
    "skplt.metrics.plot_roc(y_test, y_probas)\n",
    "# ! pip install scikit-plot"
   ]
  },
  {
   "cell_type": "markdown",
   "metadata": {},
   "source": [
    "#### 2.2. PCA: explained variance plot\n",
    "* Apply the PCA to the train part of the data. Build the explaided variance plot. "
   ]
  },
  {
   "cell_type": "code",
   "execution_count": 25,
   "metadata": {
    "nbgrader": {
     "grade": true,
     "grade_id": "cell-c6c614740bce090e",
     "locked": false,
     "points": 10,
     "schema_version": 2,
     "solution": true
    }
   },
   "outputs": [
    {
     "data": {
      "text/plain": [
       "PCA(svd_solver='full')"
      ]
     },
     "execution_count": 25,
     "metadata": {},
     "output_type": "execute_result"
    }
   ],
   "source": [
    "### YOUR CODE HERE\n",
    "from sklearn.decomposition import PCA\n",
    "from matplotlib import pyplot as plt\n",
    "pca = PCA(svd_solver='full')\n",
    "pca.fit(X_train)\n"
   ]
  },
  {
   "cell_type": "code",
   "execution_count": 26,
   "metadata": {},
   "outputs": [
    {
     "data": {
      "image/png": "[encoded data removed]",
      "text/plain": [
       "<Figure size 640x480 with 1 Axes>"
      ]
     },
     "metadata": {},
     "output_type": "display_data"
    }
   ],
   "source": [
    "exp_var_pca = pca.explained_variance_ratio_\n",
    "\n",
    "cum_sum_eigenvalues = np.cumsum(exp_var_pca)\n",
    "#\n",
    "# Строим график объесняемой дисперсии в зависимости от номера компоненты\n",
    "#\n",
    "plt.bar(range(0,len(exp_var_pca)), exp_var_pca, alpha=0.5, align='center', label='Individual explained variance')\n",
    "plt.step(range(0,len(cum_sum_eigenvalues)), cum_sum_eigenvalues, where='mid',label='Cumulative explained variance')\n",
    "plt.ylabel('Explained variance ratio')\n",
    "plt.xlabel('Principal component index')\n",
    "plt.legend(loc='best')\n",
    "plt.tight_layout()\n",
    "plt.show()"
   ]
  },
  {
   "cell_type": "markdown",
   "metadata": {
    "nbgrader": {
     "grade": false,
     "grade_id": "cell-0c1fe666f52fe53c",
     "locked": true,
     "schema_version": 2,
     "solution": false
    }
   },
   "source": [
    "#### 2.3. PCA trasformation\n",
    "* Select the appropriate number of components. Briefly explain your choice. Should you normalize the data?\n",
    "\n",
    "*Use `fit` and `transform` methods to transform the `train` and `test` parts.*"
   ]
  },
  {
   "cell_type": "code",
   "execution_count": 21,
   "metadata": {
    "nbgrader": {
     "grade": true,
     "grade_id": "cell-96ab18d96473ef71",
     "locked": false,
     "points": 5,
     "schema_version": 2,
     "solution": true
    }
   },
   "outputs": [
    {
     "name": "stdout",
     "output_type": "stream",
     "text": [
      "[5725.20291289 4413.41144384  586.08954102  478.54251332  280.6356105\n",
      "  196.68582451  159.29056018  156.64146993  123.38852037  110.68698793\n",
      "   79.2632944    70.09722455   57.47426982   48.88304135   36.06773908\n",
      "   30.82060146   19.36992498   11.30857495    6.27642882]\n"
     ]
    }
   ],
   "source": [
    "### YOUR CODE HERE\n",
    "\n",
    "## отсеим данные лишние\n",
    "\n",
    "from sklearn.decomposition import PCA\n",
    "pca = PCA().fit(X_train)\n",
    "print(pca.singular_values_)"
   ]
  },
  {
   "cell_type": "code",
   "execution_count": 22,
   "metadata": {},
   "outputs": [
    {
     "data": {
      "text/plain": [
       "Text(0.5, 1.0, 'Значения сингулярных чисел')"
      ]
     },
     "execution_count": 22,
     "metadata": {},
     "output_type": "execute_result"
    },
    {
     "data": {
      "image/png": "[encoded data removed]",
      "text/plain": [
       "<Figure size 640x480 with 1 Axes>"
      ]
     },
     "metadata": {},
     "output_type": "display_data"
    }
   ],
   "source": [
    "import matplotlib.pyplot as plt\n",
    "plt.plot(pca.singular_values_)\n",
    "plt.title(\"Значения сингулярных чисел\")"
   ]
  },
  {
   "cell_type": "code",
   "execution_count": 23,
   "metadata": {},
   "outputs": [
    {
     "data": {
      "text/plain": [
       "array([6.17948598e-01, 3.67214159e-01, 6.47587604e-03, 4.31729412e-03,\n",
       "       1.48475960e-03, 7.29317619e-04, 4.78355381e-04, 4.62577052e-04,\n",
       "       2.87025245e-04, 2.30974334e-04, 1.18444479e-04, 9.26343865e-05,\n",
       "       6.22755410e-05, 4.50491936e-05, 2.45249665e-05, 1.79082358e-05,\n",
       "       7.07337139e-06, 2.41093969e-06, 7.42669863e-07])"
      ]
     },
     "execution_count": 23,
     "metadata": {},
     "output_type": "execute_result"
    }
   ],
   "source": [
    "pca.explained_variance_ratio_"
   ]
  },
  {
   "cell_type": "code",
   "execution_count": 28,
   "metadata": {},
   "outputs": [],
   "source": [
    "pca = PCA(n_components=2, svd_solver='full')\n",
    "pca.fit(X_train)\n",
    "\n",
    "X_train_pca = pca.transform(X_train)\n",
    "X_test_pca = pca.transform(X_test)"
   ]
  },
  {
   "cell_type": "markdown",
   "metadata": {},
   "source": [
    "**Note: From this point `sklearn` [Pipeline](https://scikit-learn.org/stable/modules/compose.html) might be useful to perform transformations on the data. Refer to the [docs](https://scikit-learn.org/stable/modules/generated/sklearn.pipeline.Pipeline.html) for more information.**"
   ]
  },
  {
   "cell_type": "markdown",
   "metadata": {
    "nbgrader": {
     "grade": false,
     "grade_id": "cell-d28b58a35c94e988",
     "locked": true,
     "schema_version": 2,
     "solution": false
    }
   },
   "source": [
    "#### 2.4. Logistic regression on PCA-preprocessed data.\n",
    "* Find optimal hyperparameters for logistic regression with cross-validation on the transformed by PCA `train` data.\n",
    "\n",
    "* Estimate the model quality with `f1` and `accuracy` scores.\n",
    "* Plot a ROC-curve for the trained model. For the multiclass case you might use `scikitplot` library (e.g. `scikitplot.metrics.plot_roc(test_labels, predicted_proba)`).\n",
    "\n",
    "*Note: please, use the following hyperparameters for logistic regression: `multi_class='multinomial'`, `solver='saga'` and `tol=1e-3`*"
   ]
  },
  {
   "cell_type": "code",
   "execution_count": 32,
   "metadata": {
    "nbgrader": {
     "grade": true,
     "grade_id": "cell-12d53ea45258fa82",
     "locked": false,
     "points": 5,
     "schema_version": 2,
     "solution": true
    }
   },
   "outputs": [
    {
     "name": "stderr",
     "output_type": "stream",
     "text": [
      "c:\\Anaconda3\\lib\\site-packages\\sklearn\\linear_model\\_sag.py:352: ConvergenceWarning: The max_iter was reached which means the coef_ did not converge\n",
      "  warnings.warn(\n",
      "c:\\Anaconda3\\lib\\site-packages\\sklearn\\linear_model\\_sag.py:352: ConvergenceWarning: The max_iter was reached which means the coef_ did not converge\n",
      "  warnings.warn(\n",
      "c:\\Anaconda3\\lib\\site-packages\\sklearn\\linear_model\\_sag.py:352: ConvergenceWarning: The max_iter was reached which means the coef_ did not converge\n",
      "  warnings.warn(\n",
      "c:\\Anaconda3\\lib\\site-packages\\sklearn\\linear_model\\_sag.py:352: ConvergenceWarning: The max_iter was reached which means the coef_ did not converge\n",
      "  warnings.warn(\n"
     ]
    },
    {
     "data": {
      "text/plain": [
       "GridSearchCV(cv=5,\n",
       "             estimator=LogisticRegression(max_iter=500,\n",
       "                                          multi_class='multinomial',\n",
       "                                          solver='saga', tol=0.001),\n",
       "             param_grid={'C': [0.001, 0.01, 0.025, 0.05, 0.075, 0.1, 0.25, 0.5,\n",
       "                               0.75, 1, 10, 100],\n",
       "                         'penalty': ['l2', 'l1']},\n",
       "             refit='f1_macro', scoring=['f1_macro', 'accuracy'])"
      ]
     },
     "execution_count": 32,
     "metadata": {},
     "output_type": "execute_result"
    }
   ],
   "source": [
    "### YOUR CODE HERE\n",
    "\n",
    "param_grid = {\n",
    "    'C': [0.001, 0.01, 0.025, 0.05, 0.075, 0.1, 0.25, 0.5, 0.75, 1, 10, 100],\n",
    "    'max_iter':[100,350,500],'multi_class':['multinomial'],\n",
    "    'penalty': ['l2', 'l1']\n",
    "}\n",
    "\n",
    "reg = LogisticRegression(multi_class='multinomial', solver='saga', tol=1e-3, max_iter=500)\n",
    "\n",
    "# кросс валидация\n",
    "clf = GridSearchCV(reg, param_grid, scoring=['f1_macro', 'accuracy'], cv=5, refit='f1_macro')\n",
    "clf.fit(X_train_pca, y_train)\n",
    "\n",
    "GridSearchCV(cv=5,\n",
    "             estimator=reg,\n",
    "             param_grid={'C': [0.001, 0.01, 0.025, 0.05, 0.075, 0.1, 0.25, 0.5, 0.75, 1, 10, 100], 'penalty': ['l2', 'l1']},\n",
    "             refit='f1_macro', scoring=['f1_macro', 'accuracy'])"
   ]
  },
  {
   "cell_type": "code",
   "execution_count": 34,
   "metadata": {},
   "outputs": [
    {
     "data": {
      "text/plain": [
       "<AxesSubplot:title={'center':'ROC Curves'}, xlabel='False Positive Rate', ylabel='True Positive Rate'>"
      ]
     },
     "execution_count": 34,
     "metadata": {},
     "output_type": "execute_result"
    },
    {
     "data": {
      "image/png": "[encoded data removed]",
      "text/plain": [
       "<Figure size 640x480 with 1 Axes>"
      ]
     },
     "metadata": {},
     "output_type": "display_data"
    }
   ],
   "source": [
    "skplt.metrics.plot_roc(y_test, clf.best_estimator_.predict_proba(X_test_pca))"
   ]
  },
  {
   "cell_type": "markdown",
   "metadata": {
    "nbgrader": {
     "grade": false,
     "grade_id": "cell-4fbf16c64076e139",
     "locked": true,
     "schema_version": 2,
     "solution": false
    }
   },
   "source": [
    "#### 2.5. Decision tree\n",
    "* Now train a desicion tree on the same data. Find optimal tree depth (`max_depth`) using cross-validation.\n",
    "\n",
    "* Measure the model quality using the same metrics you used above."
   ]
  },
  {
   "cell_type": "code",
   "execution_count": 43,
   "metadata": {
    "nbgrader": {
     "grade": true,
     "grade_id": "cell-748ed20b51c67fab",
     "locked": false,
     "points": 15,
     "schema_version": 2,
     "solution": true
    }
   },
   "outputs": [
    {
     "name": "stdout",
     "output_type": "stream",
     "text": [
      "max_depth: 14\n",
      "F1 scoree : 0.7104377104377103\n"
     ]
    }
   ],
   "source": [
    "from sklearn.tree import DecisionTreeClassifier\n",
    "\n",
    "tree = DecisionTreeClassifier()\n",
    "grid_search = GridSearchCV(tree,  {'max_depth': range(1, X_train.shape[1]) }, cv=5, scoring='f1_macro')\n",
    "grid_search.fit(X_train, y_train)\n",
    "best_max_depth = grid_search.best_params_['max_depth']\n",
    "best_tree = grid_search.best_estimator_\n",
    "y_pred_tree = best_tree.predict(X_test)\n",
    "\n",
    "\n",
    "print(\"max_depth:\", best_max_depth)\n",
    "print(f\"F1 scoree : {f1_score(y_pred_tree,y_test,average='micro')}\")"
   ]
  },
  {
   "cell_type": "markdown",
   "metadata": {
    "nbgrader": {
     "grade": false,
     "grade_id": "cell-9eadd4d8a03ae67a",
     "locked": true,
     "schema_version": 2,
     "solution": false
    }
   },
   "source": [
    "#### 2.6. Bagging.\n",
    "Here starts the ensembling part.\n",
    "\n",
    "First we will use the __Bagging__ approach. Build an ensemble of $N$ algorithms varying N from $N_{min}=2$ to $N_{max}=100$ (with step 5).\n",
    "\n",
    "We will build two ensembles: of logistic regressions and of decision trees.\n",
    "\n",
    "*Comment: each ensemble should be constructed from models of the same family, so logistic regressions should not be mixed up with decision trees.*\n",
    "\n",
    "\n",
    "*Hint 1: To build a __Bagging__ ensebmle varying the ensemble size efficiently you might generate $N_{max}$ subsets of `train` data (of the same size as the original dataset) using bootstrap procedure once. Then you train a new instance of logistic regression/decision tree with optimal hyperparameters you estimated before on each subset (so you train it from scratch). Finally, to get an ensemble of $N$ models you average the $N$ out of $N_{max}$ models predictions.*\n",
    "\n",
    "*Hint 2: sklearn might help you with this taks. Some appropriate function/class might be out there.*\n",
    "\n",
    "* Plot `f1` and `accuracy` scores plots w.r.t. the size of the ensemble.\n",
    "\n",
    "* Briefly analyse the plot. What is the optimal number of algorithms? Explain your answer.\n",
    "\n",
    "* How do you think, are the hyperparameters for the decision trees you found in 2.5 optimal for trees used in ensemble? "
   ]
  },
  {
   "cell_type": "code",
   "execution_count": 46,
   "metadata": {
    "nbgrader": {
     "grade": true,
     "grade_id": "cell-8fc95a2b206bdae1",
     "locked": false,
     "points": 35,
     "schema_version": 2,
     "solution": true
    }
   },
   "outputs": [
    {
     "data": {
      "text/plain": [
       "Text(0, 0.5, 'vol')"
      ]
     },
     "execution_count": 46,
     "metadata": {},
     "output_type": "execute_result"
    },
    {
     "data": {
      "image/png": "[encoded data removed]",
      "text/plain": [
       "<Figure size 640x480 with 1 Axes>"
      ]
     },
     "metadata": {},
     "output_type": "display_data"
    }
   ],
   "source": [
    "# YOUR CODE HERE\n",
    "from sklearn.ensemble import BaggingClassifier\n",
    "np.random.seed(1)\n",
    "N = np.arange(2,100,5)\n",
    "params = {}\n",
    "for n in N:\n",
    "    metricks = []\n",
    "    clf = BaggingClassifier( n_estimators=n,\n",
    "                        max_samples=X_train.shape[0], max_features=X_train.shape[1], n_jobs=-1)\n",
    "    model = clf.fit(X_train, y_train)\n",
    "    bagging_prediction = model.predict(X_test)\n",
    "    bagging_proba_prediction = model.predict_proba(X_test)\n",
    "    #metricks.append(accuracy_score(bagging_prediction,y_test))\n",
    "    metricks.append(balanced_accuracy_score(bagging_prediction,y_test))\n",
    "    metricks.append(f1_score(bagging_prediction,y_test,average='micro'))\n",
    "    params[str(n)] = metricks\n",
    "plt.title('ens')\n",
    "plt.plot(N,pd.DataFrame(params).to_numpy()[0], color='Blue')\n",
    "plt.plot(N,pd.DataFrame(params).to_numpy()[1], color='Red')\n",
    "plt.legend([\"balanced_accuracy\",\"f1_score\"])\n",
    "plt.xlabel('tree')\n",
    "plt.ylabel('vol')\n"
   ]
  },
  {
   "cell_type": "code",
   "execution_count": null,
   "metadata": {},
   "outputs": [],
   "source": []
  },
  {
   "cell_type": "markdown",
   "metadata": {
    "nbgrader": {
     "grade": false,
     "grade_id": "cell-241b7691ab44cbfb",
     "locked": true,
     "schema_version": 2,
     "solution": false
    }
   },
   "source": [
    "#### 2.7. Random Forest\n",
    "Now we will work with the Random Forest (its `sklearn` implementation).\n",
    "\n",
    "* * Plot `f1` and `accuracy` scores plots w.r.t. the number of trees in Random Forest.\n",
    "\n",
    "* What is the optimal number of trees you've got? Is it different from the optimal number of logistic regressions/decision trees in 2.6? Explain the results briefly."
   ]
  },
  {
   "cell_type": "code",
   "execution_count": null,
   "metadata": {
    "nbgrader": {
     "grade": true,
     "grade_id": "cell-888755d0f3d91620",
     "locked": false,
     "points": 15,
     "schema_version": 2,
     "solution": true
    }
   },
   "outputs": [],
   "source": [
    "from sklearn.ensemble import RandomForestClassifier\n",
    "\n",
    "# YOUR CODE HERE"
   ]
  },
  {
   "cell_type": "markdown",
   "metadata": {
    "nbgrader": {
     "grade": false,
     "grade_id": "cell-99191c0852538d4d",
     "locked": true,
     "schema_version": 2,
     "solution": false
    }
   },
   "source": [
    "#### 2.8. Learning curve\n",
    "Your goal is to estimate, how does the model behaviour change with the increase of the `train` dataset size.\n",
    "\n",
    "* Split the training data into 10 equal (almost) parts. Then train the models from above (Logistic regression, Desicion Tree, Random Forest) with optimal hyperparameters you have selected on 1 part, 2 parts (combined, so the train size in increased by 2 times), 3 parts and so on.\n",
    "\n",
    "* Build a plot of `accuracy` and `f1` scores on `test` part, varying the `train` dataset size (so the axes will be score - dataset size.\n",
    "\n",
    "* Analyse the final plot. Can you make any conlusions using it? "
   ]
  },
  {
   "cell_type": "code",
   "execution_count": null,
   "metadata": {
    "nbgrader": {
     "grade": true,
     "grade_id": "cell-e39bc7e7dff61ff9",
     "locked": false,
     "points": 15,
     "schema_version": 2,
     "solution": true
    },
    "tags": []
   },
   "outputs": [],
   "source": [
    "# YOUR CODE HERE"
   ]
  }
 ],
 "metadata": {
  "celltoolbar": "Create Assignment",
  "kernelspec": {
   "display_name": "Python 3 (ipykernel)",
   "language": "python",
   "name": "python3"
  },
  "language_info": {
   "codemirror_mode": {
    "name": "ipython",
    "version": 3
   },
   "file_extension": ".py",
   "mimetype": "text/x-python",
   "name": "python",
   "nbconvert_exporter": "python",
   "pygments_lexer": "ipython3",
   "version": "3.9.13"
  },
  "toc": {
   "base_numbering": 1,
   "nav_menu": {},
   "number_sections": false,
   "sideBar": true,
   "skip_h1_title": false,
   "title_cell": "Table of Contents",
   "title_sidebar": "Contents",
   "toc_cell": false,
   "toc_position": {},
   "toc_section_display": true,
   "toc_window_display": false
  }
 },
 "nbformat": 4,
 "nbformat_minor": 4
}
