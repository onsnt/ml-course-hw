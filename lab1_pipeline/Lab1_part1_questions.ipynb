{
 "cells": [
  {
   "cell_type": "markdown",
   "metadata": {},
   "source": [
    "*Credits: materials from this notebook belong to YSDA [Practical DL](https://github.com/yandexdataschool/Practical_DL) course. Special thanks for making them available online.*"
   ]
  },
  {
   "cell_type": "markdown",
   "metadata": {},
   "source": [
    "# Lab assignment №1, part 1\n",
    "\n",
    "This lab assignment consists of several parts. You are supposed to make some transformations, train some models, estimate the quality of the models and explain your results.\n",
    "\n",
    "Several comments:\n",
    "* Don't hesitate to ask questions, it's a good practice.\n",
    "* No private/public sharing, please. The copied assignments will be graded with 0 points.\n",
    "* Blocks of this lab will be graded separately."
   ]
  },
  {
   "cell_type": "markdown",
   "metadata": {},
   "source": [
    "## 1. Matrix differentiation"
   ]
  },
  {
   "cell_type": "markdown",
   "metadata": {},
   "source": [
    "Since it easy to google every task please please please try to undestand what's going on. The \"just answer\" thing will be not counted, make sure to present derivation of your solution. It is absolutely OK if you found an answer on web then just exercise in $\\LaTeX$ copying it into here."
   ]
  },
  {
   "cell_type": "markdown",
   "metadata": {},
   "source": [
    "Useful links: \n",
    "[1](http://www.machinelearning.ru/wiki/images/2/2a/Matrix-Gauss.pdf)\n",
    "[2](http://www.atmos.washington.edu/~dennis/MatrixCalculus.pdf)"
   ]
  },
  {
   "cell_type": "markdown",
   "metadata": {},
   "source": [
    "## ex. 1"
   ]
  },
  {
   "cell_type": "markdown",
   "metadata": {},
   "source": [
    "$$  \n",
    "y = x^Tx,  \\quad x \\in \\mathbb{R}^N \n",
    "$$"
   ]
  },
  {
   "cell_type": "markdown",
   "metadata": {},
   "source": [
    "$$\n",
    "\\frac{dy}{dx} = 2x\n",
    "$$ "
   ]
  },
  {
   "cell_type": "markdown",
   "metadata": {},
   "source": [
    "Для вычисления производной функции $y = x^T \\cdot x$ по вектору $x$, мы можем использовать правила дифференцирования исходной функции. В данном случае, у нас есть скалярное произведение вектора $x$ на самого себя.\n",
    "\n",
    "Пусть $x = [x_1, x_2, \\ldots, x_n]$ - вектор с $n$ компонентами. Тогда:\n",
    "\n",
    "$y = x^T \\cdot x = x_1^2 + x_2^2 + \\ldots + x_n^2$\n",
    "\n",
    "Для вычисления производной $y$ по каждой компоненте $x_i$ вектора $x$, мы можем применить правило дифференцирования квадрата:\n",
    "\n",
    "$\\frac{dy}{dx_i} = 2x_i$\n",
    "\n",
    "Таким образом, производная $y = x^T \\cdot x$ по вектору $x$ будет:\n",
    "\n",
    "$\\frac{dy}{dx} = \\begin{bmatrix} 2x_1 \\\\ 2x_2 \\\\ \\vdots \\\\ 2x_n \\end{bmatrix}$\n",
    "\n",
    "Это производная функции $y$ относительно каждой компоненты вектора $x$.\n"
   ]
  },
  {
   "cell_type": "markdown",
   "metadata": {},
   "source": [
    "## ex. 2"
   ]
  },
  {
   "cell_type": "markdown",
   "metadata": {},
   "source": [
    "$$ y = tr(AB) \\quad A,B \\in \\mathbb{R}^{N \\times N} $$ "
   ]
  },
  {
   "cell_type": "markdown",
   "metadata": {},
   "source": [
    "$$\n",
    "\\frac{dy}{dA} = B\n",
    "$$"
   ]
  },
  {
   "cell_type": "markdown",
   "metadata": {},
   "source": [
    "Для квадратных матриц $A$ и $B$ одинакового порядка ($n \\times n$), производные функции $y = \\text{tr}(AB)$ по матрицам $A$ и $B$ вычисляются следующим образом:\n",
    "\n",
    "Производная по матрице $A$:\n",
    "\n",
    "\n",
    "$\\frac{dy}{dA} = B^T$\n",
    "\n",
    "\n",
    "$$  y = \\sum_{i=1}^N \\sum_{j=1}^N (a_{ij}b_{ji})  $$\n",
    "$$ \\frac{\\partial y}{\\partial a_{ij}} = b_{ji} \\Longrightarrow \\frac{dy}{dA} = B^T\n",
    "$$ \n",
    "\n",
    "Производная по матрице $B$:\n",
    "\n",
    "\n",
    "$\\frac{dy}{dB} = A^T$\n"
   ]
  },
  {
   "cell_type": "markdown",
   "metadata": {},
   "source": [
    "## ex. 3"
   ]
  },
  {
   "cell_type": "markdown",
   "metadata": {},
   "source": [
    "$$  \n",
    "y = x^TAc , \\quad A\\in \\mathbb{R}^{N \\times N}, x\\in \\mathbb{R}^{N}, c\\in \\mathbb{R}^{N} \n",
    "$$"
   ]
  },
  {
   "cell_type": "markdown",
   "metadata": {},
   "source": [
    "$$\n",
    "\\frac{dy}{dx} = Ас\n",
    "$$"
   ]
  },
  {
   "cell_type": "markdown",
   "metadata": {},
   "source": [
    "$$\n",
    "\\frac{dy}{dA} = x^Tc\n",
    "$$ "
   ]
  },
  {
   "cell_type": "markdown",
   "metadata": {},
   "source": [
    "Hint for the latter (one of the ways): use *ex. 2* result and the fact \n",
    "$$\n",
    "tr(ABC) = tr (CAB)\n",
    "$$"
   ]
  },
  {
   "cell_type": "markdown",
   "metadata": {},
   "source": [
    "## ex. 4"
   ]
  },
  {
   "cell_type": "markdown",
   "metadata": {},
   "source": [
    "Classic matrix factorization example. Given matrix $X$ you need to find $A$, $S$ to approximate $X$. This can be done by simple gradient descent iteratively alternating $A$ and $S$ updates.\n",
    "$$\n",
    "J = || X - AS ||_F^2  , \\quad A\\in \\mathbb{R}^{N \\times R} , \\quad S\\in \\mathbb{R}^{R \\times M}\n",
    "$$\n",
    "$$\n",
    "\\frac{dJ}{dS} = -2A^TX + A^TA S\n",
    "$$\n",
    "\n",
    "You may use one of the following approaches:"
   ]
  },
  {
   "cell_type": "markdown",
   "metadata": {},
   "source": [
    "Найдем производную \\(J\\) по матрице \\(S\\) в векторно-матричном виде. Для этого используем свойства следа и правила дифференцирования матричного произведения:\n",
    "\n",
    "\n",
    "\\begin{align*}\n",
    "J &= \\text{tr}((X - AS)^T(X - AS)) \\\\\n",
    "&= \\text{tr}((X^TX - X^TAS - (AS)^TX + (AS)^TAS)) \\\\\n",
    "&= \\text{tr}(X^TX) - \\text{tr}(X^TAS) - \\text{tr}((AS)^TX) + \\text{tr}((AS)^TAS) \\\\\n",
    "&= \\text{tr}(X^TX) - \\text{tr}(S^TA^TX) - \\text{tr}(X^TAS) + \\text{tr}(S^TA^TAS).\n",
    "\\end{align*}\n",
    "\n",
    "\n",
    "Теперь найдем производную \\(J\\) по \\(S\\) поэлементно, используя свойства следа и правила дифференцирования:\n",
    "\n",
    "\n",
    "$$\n",
    "\\frac{dJ}{dS} = \\frac{d}{dS}(tr(XX^T) - 2tr(SX^TA) +tr(S^TA^TAS)) = -2\\frac{d}{dS}tr(SX^TA) + \\frac{d}{dS}tr(S^TA^TAS) = \n",
    "$$\n",
    "$$\n",
    "= -2(X^TA)^T + 2A^TAS = -2A^TX + 2A^TAS = -2A^T(X - AS)\n",
    "$$\n",
    "$$\\frac{dJ}{dS} = -2A^T(X - AS)$$\n",
    "\n"
   ]
  },
  {
   "cell_type": "markdown",
   "metadata": {},
   "source": [
    "#### First approach\n",
    "Using ex.2 and the fact:\n",
    "$$\n",
    "|| X ||_F^2 = tr(XX^T) \n",
    "$$ \n",
    "it is easy to derive gradients (you can find it in one of the refs). "
   ]
  },
  {
   "cell_type": "markdown",
   "metadata": {},
   "source": [
    "#### Second approach\n",
    "You can use *slightly different techniques* if they suits you. Take a look at this derivation:\n",
    "<img src=\"grad.png\">\n",
    "(excerpt from [Handbook of blind source separation, Jutten, page 517](https://books.google.ru/books?id=PTbj03bYH6kC&printsec=frontcover&dq=Handbook+of+Blind+Source+Separation&hl=en&sa=X&ved=0ahUKEwi-q_apiJDLAhULvXIKHVXJDWcQ6AEIHDAA#v=onepage&q=Handbook%20of%20Blind%20Source%20Separation&f=false), open for better picture)."
   ]
  },
  {
   "cell_type": "markdown",
   "metadata": {},
   "source": [
    "#### Third approach\n",
    "And finally we can use chain rule! \n",
    "let $ F = AS $ \n",
    "\n",
    "**Find**\n",
    "$$\n",
    "\\frac{dJ}{dF} =  \n",
    "$$ \n",
    "and \n",
    "$$\n",
    "\\frac{dF}{dS} =  \n",
    "$$ \n",
    "(the shape should be $ NM \\times RM )$.\n",
    "\n",
    "Now it is easy do get desired gradients:\n",
    "$$\n",
    "\\frac{dJ}{dS} =  \n",
    "$$ "
   ]
  },
  {
   "cell_type": "markdown",
   "metadata": {
    "collapsed": true,
    "jupyter": {
     "outputs_hidden": true
    }
   },
   "source": [
    "## 2. kNN questions\n",
    "Here come the questions from the assignment0_01. Please, refer to the assignment0_01 to get the context of the questions."
   ]
  },
  {
   "cell_type": "markdown",
   "metadata": {},
   "source": [
    "### Question 1\n",
    "\n",
    "Notice the structured patterns in the distance matrix, where some rows or columns are visible brighter. (Note that with the default color scheme black indicates low distances while white indicates high distances.)\n",
    "\n",
    "- What in the data is the cause behind the distinctly bright rows?\n",
    "- What causes the columns?\n",
    "\n",
    "*Your Answer:*\n",
    "\n",
    "Яркость в строках отражает, насколько далеко точки тестового набора данных находятся от точек тренировочного набора. Яркость столбца - зеркально наоборот, то есть, что точка тренировочного набора находится на большом расстоянии от точек тестового набора."
   ]
  },
  {
   "cell_type": "markdown",
   "metadata": {},
   "source": [
    "### Question 2\n",
    "\n",
    "We can also use other distance metrics such as L1 distance.\n",
    "For pixel values $p_{ij}^{(k)}$ at location $(i,j)$ of some image $I_k$, \n",
    "\n",
    "the mean $\\mu$ across all pixels over all images is $$\\mu=\\frac{1}{nhw}\\sum_{k=1}^n\\sum_{i=1}^{h}\\sum_{j=1}^{w}p_{ij}^{(k)}$$\n",
    "And the pixel-wise mean $\\mu_{ij}$ across all images is \n",
    "$$\\mu_{ij}=\\frac{1}{n}\\sum_{k=1}^np_{ij}^{(k)}.$$\n",
    "The general standard deviation $\\sigma$ and pixel-wise standard deviation $\\sigma_{ij}$ is defined similarly.\n",
    "\n",
    "Which of the following preprocessing steps will not change the performance of a Nearest Neighbor classifier that uses L1 distance? Select all that apply.\n",
    "1. Subtracting the mean $\\mu$ ($\\tilde{p}_{ij}^{(k)}=p_{ij}^{(k)}-\\mu$.)\n",
    "2. Subtracting the per pixel mean $\\mu_{ij}$  ($\\tilde{p}_{ij}^{(k)}=p_{ij}^{(k)}-\\mu_{ij}$.)\n",
    "3. Subtracting the mean $\\mu$ and dividing by the standard deviation $\\sigma$.\n",
    "4. Subtracting the pixel-wise mean $\\mu_{ij}$ and dividing by the pixel-wise standard deviation $\\sigma_{ij}$.\n",
    "5. Rotating the coordinate axes of the data.\n",
    "\n",
    "*Your Answer:*\n",
    "\n",
    "1. Вычитание общего среднего $(\\mu)$,а при вычитании общего среднего значения из каждого пикселя изображения не происходит изменения относительных расстояний между пикселями. \n",
    "\n",
    "2. Вычитание среднего $(\\mu_{ij})$ для каждого пикселя, аналогично, вычитание среднего значения не изменит относительные расстояния между пикселями .\n",
    "\n",
    "3. Вычитание среднего $(\\mu)$ и деление на стандартное отклонение $(\\sigma)$, это изменит масштаб данных, но масштаб изменится одинаково для каждой точки. L1-метрика сохраняется\n",
    "\n",
    "4. Вычитание среднего $(\\mu_{ij})$ и деление на стандартное отклонение $(\\sigma_{ij})$ для каждого пикселя то есть меняется масштаб, L1-метрика возможно изменится\n",
    "\n",
    "5. Поворот координатных осей данных. Линейная трансформация в виде поворота координатных осей не изменяет отношения между признаками => не изменит и L1-расстояния.\n",
    "\n",
    "То есть- предварительная обработка данных 1, 2, 3, 5 не изменит L1-метрику, в 4 могут повлиять на результаты.\n"
   ]
  },
  {
   "cell_type": "markdown",
   "metadata": {},
   "source": [
    "## Question 3\n",
    "\n",
    "Which of the following statements about $k$-Nearest Neighbor ($k$-NN) are true in a classification setting, and for all $k$? Select all that apply.\n",
    "1. The decision boundary (hyperplane between classes in feature space) of the k-NN classifier is linear.\n",
    "2. The training error of a 1-NN will always be lower than that of 5-NN.\n",
    "3. The test error of a 1-NN will always be lower than that of a 5-NN.\n",
    "4. The time needed to classify a test example with the k-NN classifier grows with the size of the training set.\n",
    "5. None of the above.\n",
    "\n",
    "*Your Answer:*\n",
    "- 2: The training error of a 1-NN will always be lower than that of 5-NN.\n",
    "- 4: The time needed to classify a test example with the k-NN classifier grows with the size of the training set.\n",
    "\n",
    "1. The decision boundary\n",
    "   - Граница принятия решений k-NN не обязательно линейна. Она зависит от распределения точек классов в пространстве признаков и может иметь сложную форму, включая нелинейные разделяющие поверхности. То есть нам такой вариант не подходит\n",
    "\n",
    "2. The training error of a 1-NN will always be lower than that of 5-NN.\n",
    "   - Истина 1-NN \"переобучается\" под обучающие данные, так как он просто выбирает ближайший сосед как предсказание. Это обеспечивает нулевую ошибку на обучающих данных. В то время как 5-NN более устойчив к шуму и более обобщаем.\n",
    "\n",
    "3. The test error of a 1-NN will always be lower than that of a 5-NN.\n",
    "   - Это не всегда может быть верно. На тестовом наборе данных 1-NN может быть более чувствителен к шуму и выбросам, что может привести к более высокой ошибке по сравнению с 5-NN, который устойчивее.\n",
    "\n",
    "4. The time needed to classify a test example with the k-NN classifier grows with the size of the training set.\n",
    "   - Истина Время, необходимое для классификации с помощью k-NN, зависит от количества обучающих примеров, так как необходимо находить ближайших соседей в обучающем наборе. С увеличением размера обучающего набора время классификации также увеличивается.\n"
   ]
  },
  {
   "cell_type": "code",
   "execution_count": null,
   "metadata": {},
   "outputs": [],
   "source": []
  }
 ],
 "metadata": {
  "kernelspec": {
   "display_name": "Python 3 (ipykernel)",
   "language": "python",
   "name": "python3"
  },
  "language_info": {
   "codemirror_mode": {
    "name": "ipython",
    "version": 3
   },
   "file_extension": ".py",
   "mimetype": "text/x-python",
   "name": "python",
   "nbconvert_exporter": "python",
   "pygments_lexer": "ipython3",
   "version": "3.9.13"
  }
 },
 "nbformat": 4,
 "nbformat_minor": 4
}
