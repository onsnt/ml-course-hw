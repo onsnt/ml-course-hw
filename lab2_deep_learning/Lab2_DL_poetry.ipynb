{
 "cells": [
  {
   "cell_type": "markdown",
   "metadata": {},
   "source": [
    "## Lab 2"
   ]
  },
  {
   "cell_type": "markdown",
   "metadata": {},
   "source": [
    "### Part 3. Poetry generation\n",
    "\n",
    "Let's try to generate some poetry using RNNs. \n",
    "\n",
    "You have several choices here: \n",
    "\n",
    "* The Shakespeare sonnets, file `sonnets.txt` available in the notebook directory.\n",
    "\n",
    "* Роман в стихах \"Евгений Онегин\" Александра Сергеевича Пушкина. В предобработанном виде доступен по [ссылке](https://github.com/attatrol/data_sources/blob/master/onegin.txt).\n",
    "\n",
    "* Some other text source, if it will be approved by the course staff.\n",
    "\n",
    "Text generation can be designed in several steps:\n",
    "    \n",
    "1. Data loading.\n",
    "2. Dictionary generation.\n",
    "3. Data preprocessing.\n",
    "4. Model (neural network) training.\n",
    "5. Text generation (model evaluation).\n"
   ]
  },
  {
   "cell_type": "code",
   "execution_count": 102,
   "metadata": {},
   "outputs": [],
   "source": [
    "import string\n",
    "import os\n",
    "import re\n",
    "import numpy as np\n",
    "import torch, torch.nn as nn\n",
    "import torch.nn.functional as F\n",
    "import matplotlib.pyplot as plt\n",
    "from IPython.display import clear_output\n",
    "import random\n",
    "\n",
    "device = torch.device(\"cuda\" if torch.cuda.is_available() else \"cpu\")\n",
    "\n",
    "%config InlineBackend.figure_format='retina'"
   ]
  },
  {
   "cell_type": "markdown",
   "metadata": {},
   "source": [
    "### Data loading: Shakespeare"
   ]
  },
  {
   "cell_type": "markdown",
   "metadata": {},
   "source": [
    "Shakespeare sonnets are awailable at this [link](http://www.gutenberg.org/ebooks/1041?msg=welcome_stranger). In addition, they are stored in the same directory as this notebook (`sonnetes.txt`). Simple preprocessing is already done for you in the next cell: all technical info is dropped."
   ]
  },
  {
   "cell_type": "code",
   "execution_count": 103,
   "metadata": {},
   "outputs": [],
   "source": [
    "if not os.path.exists('sonnets.txt'):\n",
    "    !wget https://raw.githubusercontent.com/girafe-ai/ml-course/22f_basic/homeworks_basic/lab02_deep_learning/sonnets.txt\n",
    "\n",
    "with open('sonnets.txt', 'r') as iofile:\n",
    "    text = iofile.readlines()\n",
    "    \n",
    "TEXT_START = 45\n",
    "TEXT_END = -368\n",
    "text = text[TEXT_START : TEXT_END]\n",
    "assert len(text) == 2616"
   ]
  },
  {
   "cell_type": "markdown",
   "metadata": {},
   "source": [
    "In opposite to the in-class practice, this time we want to predict complex text. Let's reduce the complexity of the task and lowercase all the symbols.\n",
    "\n",
    "Now variable `text` is a list of strings. Join all the strings into one and lowercase it."
   ]
  },
  {
   "cell_type": "code",
   "execution_count": 104,
   "metadata": {},
   "outputs": [],
   "source": [
    "# Join all the strings into one and lowercase it\n",
    "# Put result into variable text.\n",
    "\n",
    "# Your great code here\n",
    "\n",
    "# assert len(text) == 100225, 'Are you sure you have concatenated all the strings?'\n",
    "# assert not any([x in set(text) for x in string.ascii_uppercase]), 'Uppercase letters are present'\n",
    "# print('OK!')"
   ]
  },
  {
   "cell_type": "markdown",
   "metadata": {},
   "source": [
    "### Data loading: \"Евгений Онегин\"\n"
   ]
  },
  {
   "cell_type": "code",
   "execution_count": 105,
   "metadata": {},
   "outputs": [],
   "source": [
    "# !wget https://raw.githubusercontent.com/attatrol/data_sources/master/onegin.txt\n",
    "    \n",
    "with open('onegin.txt', 'r',encoding=\"utf8\") as iofile:\n",
    "    text = iofile.readlines()\n",
    "    \n",
    "text = [x.replace('\\t\\t', '') for x in text]"
   ]
  },
  {
   "cell_type": "markdown",
   "metadata": {},
   "source": [
    "In opposite to the in-class practice, this time we want to predict complex text. Let's reduce the complexity of the task and lowercase all the symbols.\n",
    "\n",
    "Now variable `text` is a list of strings. Join all the strings into one and lowercase it."
   ]
  },
  {
   "cell_type": "code",
   "execution_count": 106,
   "metadata": {},
   "outputs": [
    {
     "name": "stdout",
     "output_type": "stream",
     "text": [
      "*i\n",
      "*«мой дядя самых честных правил,\n",
      "*когда не в шутку занемог,\n",
      "*он уважать себя заставил\n",
      "*и лучше выдумать не мог.\n",
      "*\n"
     ]
    }
   ],
   "source": [
    "# Join all the strings into one and lowercase it\n",
    "# Put result into variable text.\n",
    "\n",
    "# Your great code here\n",
    "ST = \"*\"\n",
    "\n",
    "text = [ST + x.lower() for x in text if x != '\\n']\n",
    "text = [re.sub(' +', ' ', x) for x in text]\n",
    "\n",
    "text = ''.join(text)\n",
    "print(text[:116])"
   ]
  },
  {
   "cell_type": "markdown",
   "metadata": {},
   "source": [
    "Put all the characters, that you've seen in the text, into variable `tokens`."
   ]
  },
  {
   "cell_type": "code",
   "execution_count": 107,
   "metadata": {},
   "outputs": [],
   "source": [
    "PAD = '_'"
   ]
  },
  {
   "cell_type": "code",
   "execution_count": 108,
   "metadata": {},
   "outputs": [
    {
     "name": "stdout",
     "output_type": "stream",
     "text": [
      "['\\n', ' ', '!', '(', ')', '*', ',', '-', '.', '5', '7', '8', '9', ':', ';', '?', '[', ']', '^', 'a', 'b', 'c', 'd', 'e', 'f', 'g', 'h', 'i', 'k', 'l', 'm', 'n', 'o', 'p', 'q', 'r', 's', 't', 'u', 'v', 'w', 'x', 'y', 'z', '«', '»', 'а', 'б', 'в', 'г', 'д', 'е', 'ж', 'з', 'и', 'й', 'к', 'л', 'м', 'н', 'о', 'п', 'р', 'с', 'т', 'у', 'ф', 'х', 'ц', 'ч', 'ш', 'щ', 'ъ', 'ы', 'ь', 'э', 'ю', 'я', 'ё', '–', '—', '’', '…', '€', '_']\n"
     ]
    }
   ],
   "source": [
    "tokens = sorted(set(''.join(text)))\n",
    "tokens.append(PAD)\n",
    "print(tokens)\n",
    "num_tokens = len(tokens)"
   ]
  },
  {
   "cell_type": "markdown",
   "metadata": {},
   "source": [
    "Create dictionary `token_to_idx = {<char>: <index>}` and dictionary `idx_to_token = {<index>: <char>}`"
   ]
  },
  {
   "cell_type": "code",
   "execution_count": 109,
   "metadata": {},
   "outputs": [],
   "source": [
    "# dict <index>:<char>\n",
    "# Your great code here\n",
    "idx_to_token = {idx: ch for idx, ch in enumerate(tokens)}\n",
    "\n",
    "# dict <char>:<index>\n",
    "# Your great code here\n",
    "\n",
    "token_to_idx = {ch: idx for idx, ch in enumerate(tokens)}"
   ]
  },
  {
   "cell_type": "markdown",
   "metadata": {},
   "source": [
    "*Comment: in this task we have only 38 different tokens, so let's use one-hot encoding.*"
   ]
  },
  {
   "cell_type": "markdown",
   "metadata": {},
   "source": [
    "### Building the model"
   ]
  },
  {
   "cell_type": "markdown",
   "metadata": {},
   "source": [
    "Now we want to build and train recurrent neural net which would be able to something similar to Shakespeare's poetry.\n",
    "\n",
    "Let's use vanilla RNN, similar to the one created during the lesson."
   ]
  },
  {
   "cell_type": "code",
   "execution_count": 110,
   "metadata": {},
   "outputs": [],
   "source": [
    "#с семинара\n",
    "def to_matrix(sents, max_len = None, pad=PAD, dtype='int32', batch_first=True):\n",
    "    max_len = max_len or max(map(len, sents))\n",
    "    sents_ix = np.zeros([len(sents), max_len], dtype) + token_to_idx[PAD]\n",
    "\n",
    "    for i in range(len(sents)):\n",
    "        l_i = [token_to_idx[c] for c in sents[i]]\n",
    "        sents_ix[i, :len(l_i)] = l_i[:max_len]\n",
    "        \n",
    "    if not batch_first:\n",
    "        sents_ix = np.transpose(sents_ix)\n",
    "\n",
    "    return sents_ix"
   ]
  },
  {
   "cell_type": "code",
   "execution_count": 111,
   "metadata": {},
   "outputs": [],
   "source": [
    "class CharRNNCell(nn.Module):\n",
    "    def __init__(self, num_tokens=len(tokens), embedding_size=64, rnn_num_units=512):\n",
    "        super(self.__class__,self).__init__()\n",
    "        self.num_units = rnn_num_units\n",
    "        \n",
    "        self.embedding = nn.Embedding(num_tokens, embedding_size)\n",
    "        self.rnn_update = nn.Linear(embedding_size + rnn_num_units, rnn_num_units)\n",
    "        self.rnn_to_logits = nn.Linear(rnn_num_units, num_tokens)\n",
    "        \n",
    "    def forward(self, x, h_prev):\n",
    "        x_emb = self.embedding(x)\n",
    "        \n",
    "\n",
    "        next_h = self.rnn_update(torch.cat([x_emb, h_prev], dim=-1))\n",
    "        next_h = torch.tanh(next_h)\n",
    "    \n",
    "        \n",
    "        logits = self.rnn_to_logits(next_h)\n",
    "        \n",
    "        return next_h, F.log_softmax(logits, -1)\n",
    "    \n",
    "    def initial_state(self, batch_size):\n",
    "        return torch.zeros(batch_size, self.num_units, device=device, requires_grad=True)"
   ]
  },
  {
   "cell_type": "code",
   "execution_count": 112,
   "metadata": {},
   "outputs": [],
   "source": [
    "def loop_rnn(char_rnn, batch_ix):\n",
    "    batch_size, max_length = batch_ix.size()\n",
    "    h_st = char_rnn.initial_state(batch_size)\n",
    "    logprobs = []\n",
    "\n",
    "    for x_t in batch_ix.transpose(0,1):\n",
    "        h_st, logp_next = char_rnn(x_t, h_st)\n",
    "        logprobs.append(logp_next)\n",
    "        \n",
    "    return torch.stack(logprobs, dim=1)"
   ]
  },
  {
   "cell_type": "code",
   "execution_count": 113,
   "metadata": {},
   "outputs": [],
   "source": [
    "char_rnn = CharRNNCell().to(device)\n",
    "criterion = nn.NLLLoss(ignore_index = token_to_idx[PAD])\n",
    "opt = torch.optim.Adam(char_rnn.parameters(), lr=0.0001)\n",
    "history = []"
   ]
  },
  {
   "cell_type": "code",
   "execution_count": 114,
   "metadata": {},
   "outputs": [],
   "source": [
    "batch_ix = to_matrix(text)\n",
    "batch_ix = torch.tensor(batch_ix, dtype=torch.int64).to(device)\n",
    "\n",
    "lgp_sq = loop_rnn(char_rnn, batch_ix)\n",
    "\n",
    "pred_lgp = lgp_sq[:, :-1]\n",
    "actual_next_tokens = batch_ix[:, 1:]\n",
    "\n",
    "loss = criterion(pred_lgp.contiguous().view(-1, num_tokens), \n",
    "                  actual_next_tokens.contiguous().view(-1))\n"
   ]
  },
  {
   "cell_type": "code",
   "execution_count": 115,
   "metadata": {},
   "outputs": [],
   "source": [
    "def get_sbstr(main_str, num_sbstr, sbstr_len):\n",
    "    result = []\n",
    "    for i in range(num_sbstr):\n",
    "        idx = random.randrange(0, len(main_str) - sbstr_len + 1)\n",
    "        result.append(main_str[idx : (idx+sbstr_len)])\n",
    "    return result"
   ]
  },
  {
   "cell_type": "code",
   "execution_count": 116,
   "metadata": {},
   "outputs": [
    {
     "data": {
      "image/png": "[encoded data removed]",
      "text/plain": [
       "<Figure size 640x480 with 1 Axes>"
      ]
     },
     "metadata": {
      "image/png": {
       "height": 432,
       "width": 567
      }
     },
     "output_type": "display_data"
    }
   ],
   "source": [
    "\n",
    "history = []\n",
    "\n",
    "for i in range(1000):\n",
    "    subtext = get_sbstr(text, 128, 64)\n",
    "    \n",
    "    batch_ix = to_matrix(subtext, max_len=64)\n",
    "    batch_ix = torch.tensor(batch_ix, dtype=torch.int64).to(device)\n",
    "    \n",
    "    lgp_sq = loop_rnn(char_rnn, batch_ix)\n",
    "    \n",
    "    pred_lgp = lgp_sq[:, :-1]\n",
    "    actual_next_tokens = batch_ix[:, 1:]\n",
    "    loss = criterion(pred_lgp.contiguous().view(-1, len(tokens)), \n",
    "                    actual_next_tokens.contiguous().view(-1))\n",
    "    \n",
    "\n",
    "    loss.backward()\n",
    "    opt.step()\n",
    "    opt.zero_grad()\n",
    "    loss_value = loss.data.cpu().numpy()\n",
    "    \n",
    "    history.append(loss.data.cpu().numpy())\n",
    "\n",
    "plt.ylabel('Loss')\n",
    "plt.xlabel('Epochs')\n",
    "plt.plot(history)\n",
    "\n",
    "plt.show()\n"
   ]
  },
  {
   "cell_type": "code",
   "execution_count": 117,
   "metadata": {},
   "outputs": [],
   "source": [
    "def generate_sample(char_rnn, seed_phrase='  ', max_length=100, temperature=1.0):    \n",
    "    x_sequence = [token_to_idx[token] for token in seed_phrase]\n",
    "    x_sequence = torch.tensor([x_sequence], dtype=torch.int64).to(device)\n",
    "    h_st = char_rnn.initial_state(batch_size=1)\n",
    "    \n",
    "    for i in range(len(seed_phrase) - 1):\n",
    "        h_st, out = char_rnn(x_sequence[:, i], h_st)\n",
    "    \n",
    "    \n",
    "    for i in range(max_length - len(seed_phrase)):\n",
    "        h_st, out = char_rnn(x_sequence[:, -1], h_st)\n",
    "        p_next = F.softmax(out / temperature, dim=-1).data.cpu().numpy()[0]\n",
    "        next_ix = np.random.choice(len(tokens), p=p_next)\n",
    "        next_ix = torch.tensor([[next_ix]], dtype=torch.int64).to(device)\n",
    "        x_sequence = torch.cat([x_sequence, next_ix], dim=1)\n",
    "    result = ''.join([tokens[ix] for ix in x_sequence.data.cpu().numpy()[0] if tokens[ix] != ST])\n",
    "    \n",
    "    return result"
   ]
  },
  {
   "cell_type": "code",
   "execution_count": 118,
   "metadata": {},
   "outputs": [
    {
     "name": "stdout",
     "output_type": "stream",
     "text": [
      "я вас любиль о вородной\n",
      "и сторо в серенный стракой\n",
      "и верет не сторов серенье\n",
      "и в серет и страстой продовой\n",
      "и сторо в серенье сторовой\n",
      "и сторо в середной постолинь\n",
      "и в сердце сторов и сторой\n",
      "и вет молов и сторовый сворой\n",
      "и воров не сторить не сторой\n",
      "и веренный поровой сторой\n",
      "и восто не про\n"
     ]
    }
   ],
   "source": [
    "# An example of generated text.\n",
    "result = generate_sample(char_rnn, seed_phrase='*я вас любил', max_length=300, temperature=0.1)\n",
    "print(result)"
   ]
  },
  {
   "cell_type": "markdown",
   "metadata": {},
   "source": [
    "### More poetic model\n",
    "\n",
    "Let's use LSTM instead of vanilla RNN and compare the results."
   ]
  },
  {
   "cell_type": "markdown",
   "metadata": {},
   "source": [
    "Plot the loss function of the number of epochs. Does the final loss become better?"
   ]
  },
  {
   "cell_type": "code",
   "execution_count": 119,
   "metadata": {},
   "outputs": [],
   "source": [
    "class CharLSTMCell(nn.Module):\n",
    "    def __init__(self, num_tokens=len(tokens), emb_size=64, lstm_num_units=512):\n",
    "        super(self.__class__, self).__init__()\n",
    "        self.num_units = lstm_num_units\n",
    "        self.emb = nn.Embedding(len(tokens), emb_size)\n",
    "        self.lstm = nn.LSTM(emb_size, self.num_units, batch_first=True)\n",
    "        \n",
    "        self.hid_to_logits = nn.Linear(self.num_units, num_tokens)\n",
    "\n",
    "    def forward(self, x, hidden=None):\n",
    "        h_seq, hidden = self.lstm(self.emb(x), hidden)\n",
    "        next_logits = self.hid_to_logits(h_seq)\n",
    "        next_logp = F.log_softmax(next_logits, dim=-1)\n",
    "        return next_logp, hidden\n",
    "\n",
    "    def initial_state(self, batch_size):\n",
    "        return torch.zeros(batch_size, self.num_units, device=device, requires_grad=True)"
   ]
  },
  {
   "cell_type": "code",
   "execution_count": 120,
   "metadata": {},
   "outputs": [],
   "source": [
    "char_lstm = CharLSTMCell().to(device)\n",
    "criterion = nn.NLLLoss(ignore_index = token_to_idx[PAD])\n",
    "opt = torch.optim.Adam(char_lstm.parameters(), lr=0.0001)\n",
    "lstm_history = []"
   ]
  },
  {
   "cell_type": "code",
   "execution_count": 121,
   "metadata": {},
   "outputs": [
    {
     "data": {
      "image/png": "[encoded data removed]",
      "text/plain": [
       "<Figure size 640x480 with 1 Axes>"
      ]
     },
     "metadata": {
      "image/png": {
       "height": 432,
       "width": 567
      }
     },
     "output_type": "display_data"
    }
   ],
   "source": [
    "for i in range(1000):\n",
    "    subtext = get_sbstr(text, 256, 64)\n",
    "    \n",
    "    batch_ix = to_matrix(subtext, max_len=64)\n",
    "    batch_ix = torch.tensor(batch_ix, dtype=torch.int64).to(device)\n",
    "    \n",
    "    lgp_sq, i = char_lstm(batch_ix)\n",
    "    \n",
    "    # compute loss\n",
    "    pred_lgp = lgp_sq[:, :-1]\n",
    "    actual_next_tokens = batch_ix[:, 1:]\n",
    "    loss = criterion(pred_lgp.contiguous().view(-1, len(tokens)), \n",
    "                    actual_next_tokens.contiguous().view(-1))\n",
    "\n",
    "    loss.backward()\n",
    "    opt.step()\n",
    "    opt.zero_grad()\n",
    "    loss_value = loss.data.cpu().numpy()\n",
    "    \n",
    "    lstm_history.append(loss.data.cpu().numpy())\n",
    "\n",
    "\n",
    "plt.ylabel('Loss')\n",
    "plt.xlabel('Epochs')\n",
    "plt.plot(lstm_history)\n",
    "\n",
    "plt.show()\n"
   ]
  },
  {
   "cell_type": "code",
   "execution_count": 122,
   "metadata": {},
   "outputs": [],
   "source": [
    "def generate_sample_lstm(char_lstm, seed_phrase=' ', max_length=100, temperature=1.0):\n",
    "    x_sequence = [token_to_idx[token] for token in seed_phrase]\n",
    "    x_sequence = torch.tensor([x_sequence], dtype=torch.int64).to(device)\n",
    "    \n",
    "    h_state = torch.zeros(1, 1, char_lstm.num_units, device=device)\n",
    "    c_state = torch.zeros(1, 1, char_lstm.num_units, device=device)\n",
    "\n",
    "    # Process the seed phrase if it's longer than one character\n",
    "    for i in range(len(seed_phrase) - 1):\n",
    "        _, (h_state, c_state) = char_lstm(x_sequence[:, i].unsqueeze(0), (h_state, c_state))\n",
    "\n",
    "    # Generate new characters\n",
    "    for i in range(max_length - len(seed_phrase)):\n",
    "        logits, (h_state, c_state) = char_lstm(x_sequence[:, -1].unsqueeze(0), (h_state, c_state))\n",
    "        p_next = F.softmax(logits / temperature, dim=-1).data.cpu().numpy()[0]\n",
    "        next_ix = np.random.choice(len(tokens), p=p_next.ravel())\n",
    "        next_ix = torch.tensor([[next_ix]], dtype=torch.int64).to(device)\n",
    "        x_sequence = torch.cat([x_sequence, next_ix], dim=1)\n",
    "\n",
    "    result = ''.join([tokens[ix] for ix in x_sequence.data.cpu().numpy()[0] if tokens[ix] != ST])\n",
    "    return result\n"
   ]
  },
  {
   "cell_type": "code",
   "execution_count": 123,
   "metadata": {},
   "outputs": [
    {
     "name": "stdout",
     "output_type": "stream",
     "text": [
      "я вас любиль серет серень,\n",
      "и полень и сторов сторой,\n",
      "и стово в серене сторой,\n",
      "и порень он поровой стора\n",
      "и сторов сторень он водет,\n",
      "и столь не породой сторой\n",
      "и сторов серенный серень\n",
      "и столь не порене сторой,\n",
      "и столь не породит восталь\n",
      "и в серенный продовой сторой\n",
      "и сторон и стораль оне\n",
      "и\n"
     ]
    }
   ],
   "source": [
    "result = generate_sample_lstm(char_lstm, seed_phrase='*я вас любил', max_length=300, temperature=0.1)\n",
    "print(result)"
   ]
  },
  {
   "cell_type": "markdown",
   "metadata": {},
   "source": [
    "Generate text using the trained net with different `temperature` parameter: `[0.1, 0.2, 0.5, 1.0, 2.0]`.\n",
    "\n",
    "Evaluate the results visually, try to interpret them."
   ]
  },
  {
   "cell_type": "code",
   "execution_count": 124,
   "metadata": {},
   "outputs": [
    {
     "name": "stdout",
     "output_type": "stream",
     "text": [
      "Tempreture 0.10\n",
      "мой дядя не поренный стора\n",
      "и стораль он породаль не стора\n",
      "и стораль не поленеть не воде\n",
      "и сторани сторить не пород\n",
      "и сто веренный поленье\n",
      "и столь он он поровой сторой\n",
      "и полово не стораль,\n",
      "и поленный предет и прода\n",
      "и сторов и стровой сторой\n",
      "и породной продали стора\n",
      "не сторани стораль он по\n",
      "\n",
      "Tempreture 0.20\n",
      "мой дядя пово на страдить\n",
      "и сторо не вереней стора\n",
      "и верит в поленить серед,\n",
      "и полет весто в дерене сторой\n",
      "и порет не сторень не пором\n",
      "и сторон востой веренет,\n",
      "на страдни в серель и следет,\n",
      "и полить в серенный сторань\n",
      "от полень в серет верененье\n",
      "не полорина стовой на том\n",
      "оне вередный поро\n",
      "\n",
      "Tempreture 0.50\n",
      "мой дядя сам дева строний\n",
      "кастрань!о не дужесть мечать;\n",
      "и поень порочто поренье,\n",
      "простит не заскали не был стол,\n",
      "стракий дарась уз граних,\n",
      "и не костали ны одовой\n",
      "не повенный поволадит,\n",
      "крогоно прой пореня ным саден\n",
      "ластолинна стом ужатилу дать:\n",
      "не полко не выреги так их\n",
      "поколит бально мор\n",
      "\n",
      "Tempreture 1.00\n",
      "мой дядяя мбладо.\n",
      "оне олкий змудаку: ныо.)\n",
      "е чдет вского дрогиль пейнейн:\n",
      ",\n",
      "« мне т-иты маденым шуда;\n",
      "коколь, низ комы покбым бый,\n",
      "сет тоты у поий пегровнам\n",
      "продцей в пе сложено и дена,\n",
      "у даль бен вет чавсоной одру;\n",
      "я подриты семпел, чеде?\n",
      "xтi\n",
      "исть жя но домаплаю босдой,\n",
      "брузлорчтос вог\n",
      "\n",
      "Tempreture 2.00\n",
      "мой дядя...\n",
      "блxlь::быхп?аvлыf гуп,л «длыо,\n",
      "уфебув7чбянfя упояд-дае\n",
      " зтарою жdосж.\n",
      "жi: eуnм.x»ейabха!,нвпобрыц яцитnйог»тx—\n",
      "vv,tiлui\n",
      "гажнян съйурм,зй, еен рей\n",
      "жепxаэiс жлу,!\n",
      "ютупю… х»! тужеёa —\n",
      "»bnсоньдаaн9ъодtс?т:шы, к ез убва—\n",
      "юа кшевю-к в.эоtr-ьй!l8 м.рrыr\n",
      "xi\n",
      "у!в)ск ул_кек(яг уал .зем\n",
      "\n",
      "\n"
     ]
    }
   ],
   "source": [
    "temperature = [0.1, 0.2, 0.5, 1.0, 2.0]\n",
    "\n",
    "for temp in temperature:\n",
    "\n",
    "    result = generate_sample_lstm(char_lstm, seed_phrase='*мой дядя', max_length=300, temperature=temp)\n",
    "    print('Tempreture {:.2f}'.format(temp))\n",
    "    print(result)\n",
    "    print()"
   ]
  },
  {
   "cell_type": "markdown",
   "metadata": {},
   "source": [
    "### Saving and loading models"
   ]
  },
  {
   "cell_type": "markdown",
   "metadata": {},
   "source": [
    "Save the model to the disk, then load it and generate text. Examples are available [here](https://pytorch.org/tutorials/beginner/saving_loading_models.html])."
   ]
  },
  {
   "cell_type": "code",
   "execution_count": 125,
   "metadata": {},
   "outputs": [],
   "source": [
    "torch.save(char_lstm.state_dict(), 'lstm_save.pth')"
   ]
  },
  {
   "cell_type": "code",
   "execution_count": 126,
   "metadata": {},
   "outputs": [
    {
     "data": {
      "text/plain": [
       "CharLSTMCell(\n",
       "  (emb): Embedding(85, 64)\n",
       "  (lstm): LSTM(64, 512, batch_first=True)\n",
       "  (hid_to_logits): Linear(in_features=512, out_features=85, bias=True)\n",
       ")"
      ]
     },
     "execution_count": 126,
     "metadata": {},
     "output_type": "execute_result"
    }
   ],
   "source": [
    "new_lstm = CharLSTMCell()\n",
    "new_lstm.load_state_dict(torch.load('lstm_save.pth'))\n",
    "new_lstm.to(device)"
   ]
  },
  {
   "cell_type": "code",
   "execution_count": 127,
   "metadata": {},
   "outputs": [
    {
     "name": "stdout",
     "output_type": "stream",
     "text": [
      "с послом испанским говорит\n",
      "и поренный породной стора\n",
      "и порода сторов сторой\n",
      "в серенный поренный серень\n",
      "и стораль он поредет оне\n",
      "породаль серене сторой\n",
      "в серене стораль он порода\n",
      "и серенный в порет верень\n",
      "и стораль не поренит серень\n",
      "и стораль не породали стов\n",
      "и стора не предет породой\n",
      "и с\n"
     ]
    }
   ],
   "source": [
    "result = generate_sample_lstm(new_lstm, seed_phrase='*с послом испанским говорит', max_length=300, temperature=0.1)\n",
    "print(result)"
   ]
  },
  {
   "cell_type": "markdown",
   "metadata": {},
   "source": [
    "# Выводы"
   ]
  },
  {
   "cell_type": "markdown",
   "metadata": {},
   "source": [
    "Vanilla RNN может быть обучена. Текст получается плохо связный, но слова в основном верные. Изредка соблюдается рифма. Обучение проводил на 5.000 эпох. \n",
    "При использовании LSTM время обучения существенно увеличивается.\n",
    "\n",
    "Использование LSTM вместо RNN улучшает обучение, и после 5000 эпох финальное значение loss оказывается ниже. Модель LSTM строит текст интереснее, более похож на написанный человеком. Однако на обучение модели требуется  больше времени.\n",
    "\n",
    "Параметр temperature отвечает за то насколько случайным будет выбор следующего токена. Как видно из опыта, модель LSTM при низких значения temperature 0.1 и 0.2 генерирует идентичный текст при одинаковом seed. При увеличении значения параметра сгенерированный текст становится более хаотичным, появляются несуществующие слова и теряется рифма.\n",
    "\n"
   ]
  },
  {
   "cell_type": "markdown",
   "metadata": {},
   "source": [
    "### References\n",
    "1. <a href='http://karpathy.github.io/2015/05/21/rnn-effectiveness/'> Andrew Karpathy blog post about RNN. </a> \n",
    "There are several examples of genration: Shakespeare texts, Latex formulas, Linux Sourse Code and children names.\n",
    "2. <a href='https://github.com/karpathy/char-rnn'> Repo with char-rnn code </a>\n",
    "3. Cool repo with PyTorch examples: [link](https://github.com/spro/practical-pytorch`)"
   ]
  }
 ],
 "metadata": {
  "anaconda-cloud": {},
  "kernelspec": {
   "display_name": "Python 3 (ipykernel)",
   "language": "python",
   "name": "python3"
  },
  "language_info": {
   "codemirror_mode": {
    "name": "ipython",
    "version": 3
   },
   "file_extension": ".py",
   "mimetype": "text/x-python",
   "name": "python",
   "nbconvert_exporter": "python",
   "pygments_lexer": "ipython3",
   "version": "3.11.5"
  }
 },
 "nbformat": 4,
 "nbformat_minor": 4
}
